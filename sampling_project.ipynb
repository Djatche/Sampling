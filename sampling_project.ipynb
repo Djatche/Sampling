{
 "cells": [
  {
   "cell_type": "markdown",
   "id": "017f3b21",
   "metadata": {},
   "source": [
    "# Echantillonnage au niveau du district / Sampling at health district level\n",
    "\n",
    "Pour évaluer des interventions de santé publique tel que vaccination de routine et même les campagnes, les données administratives sont utilisées. Les enquêtes de couvertures sont généralement faites à l'échelle nationale.   \n",
    "Le présent article étudiera la pertinence et la faisabilité d'enquête de couverture au niveau de district.        \n",
    "Les différents types d'échantillonnages probabilistes seront abordés:   \n",
    "\n",
    "1.\tEchantillonnage aléatoire simple\n",
    "2.\tEchantillonnage systématique\n",
    "3.\tEchantillonnage stratifié (proportionnel ou à nombre égal)\n",
    "4.\tEchantillonnage pondéré\n",
    "5.\tEchantillonnage en grappe   \n",
    "\n",
    "Le dataset qui a servi de base de sondage est le résultat d'un dénombrement réalisé dans une aire de santé. Dénombrement fait dans le cadre des activités liées à l'éradication de la filariose lymphatique par le traitement de masse. Ce dataset contient 1918 lignes qui correspondent à autant de ménages. Les informations collectées sont le nombre d'individus par ménages par sexe et par tranche d'âge (moins d'un an, 1-5 ans, 5-15 ans et plus de 15 ans). Ces ménages sont repartis entre les 8 \"Lawanats\" (chefferie de 2e degré) et les 82 quartiers (chefferie de 3e degré) qui composent cette aire de santé.    \n",
    "\n",
    "Les métriques que nous évaluerons sont:\n",
    "- La taille moyenne des ménages\n",
    "- La proportion des ménages sans enfant de moins d'un an\n",
    "- La proportion des enfants de moins d'un par rapport à la population\n",
    "\n",
    "Les outils de data analyse que sont python et ses librairies (pandas et numpy) ont été utilisés."
   ]
  },
  {
   "cell_type": "markdown",
   "id": "1d696062",
   "metadata": {},
   "source": [
    "#### Importation des librairies"
   ]
  },
  {
   "cell_type": "code",
   "execution_count": 1,
   "id": "ad037528",
   "metadata": {},
   "outputs": [],
   "source": [
    "import pandas as pd\n",
    "import numpy as np\n",
    "import random"
   ]
  },
  {
   "cell_type": "markdown",
   "id": "f73d5eb7",
   "metadata": {},
   "source": [
    "#### Importation des données (base de sondage)"
   ]
  },
  {
   "cell_type": "code",
   "execution_count": 2,
   "id": "d1438224",
   "metadata": {},
   "outputs": [],
   "source": [
    "population = pd.read_excel('Base_sondage_Vele_all.xlsx')"
   ]
  },
  {
   "cell_type": "markdown",
   "id": "877dabda",
   "metadata": {},
   "source": [
    "#### Exploration de données"
   ]
  },
  {
   "cell_type": "code",
   "execution_count": 3,
   "id": "3316cf5d",
   "metadata": {},
   "outputs": [
    {
     "data": {
      "text/html": [
       "<div>\n",
       "<style scoped>\n",
       "    .dataframe tbody tr th:only-of-type {\n",
       "        vertical-align: middle;\n",
       "    }\n",
       "\n",
       "    .dataframe tbody tr th {\n",
       "        vertical-align: top;\n",
       "    }\n",
       "\n",
       "    .dataframe thead th {\n",
       "        text-align: right;\n",
       "    }\n",
       "</style>\n",
       "<table border=\"1\" class=\"dataframe\">\n",
       "  <thead>\n",
       "    <tr style=\"text-align: right;\">\n",
       "      <th></th>\n",
       "      <th>LAWANAT</th>\n",
       "      <th>QUARTIER</th>\n",
       "      <th>N° MENAGE</th>\n",
       "      <th>&lt; 1 MASC</th>\n",
       "      <th>1 - 4 MASC</th>\n",
       "      <th>5- 15 MASC</th>\n",
       "      <th>&gt; 15 MASC</th>\n",
       "      <th>&lt; 1 FEM</th>\n",
       "      <th>1 - 4 FEM</th>\n",
       "      <th>5 - 15 FEM</th>\n",
       "      <th>&gt; 15 FEM</th>\n",
       "    </tr>\n",
       "  </thead>\n",
       "  <tbody>\n",
       "    <tr>\n",
       "      <th>0</th>\n",
       "      <td>AGOLLA</td>\n",
       "      <td>AGOLLA DOUNA</td>\n",
       "      <td>1</td>\n",
       "      <td>0</td>\n",
       "      <td>1</td>\n",
       "      <td>1</td>\n",
       "      <td>3</td>\n",
       "      <td>0</td>\n",
       "      <td>2</td>\n",
       "      <td>3</td>\n",
       "      <td>4</td>\n",
       "    </tr>\n",
       "    <tr>\n",
       "      <th>1</th>\n",
       "      <td>AGOLLA</td>\n",
       "      <td>AGOLLA DOUNA</td>\n",
       "      <td>2</td>\n",
       "      <td>0</td>\n",
       "      <td>1</td>\n",
       "      <td>2</td>\n",
       "      <td>2</td>\n",
       "      <td>0</td>\n",
       "      <td>0</td>\n",
       "      <td>1</td>\n",
       "      <td>2</td>\n",
       "    </tr>\n",
       "    <tr>\n",
       "      <th>2</th>\n",
       "      <td>AGOLLA</td>\n",
       "      <td>AGOLLA DOUNA</td>\n",
       "      <td>3</td>\n",
       "      <td>0</td>\n",
       "      <td>1</td>\n",
       "      <td>3</td>\n",
       "      <td>1</td>\n",
       "      <td>0</td>\n",
       "      <td>1</td>\n",
       "      <td>0</td>\n",
       "      <td>3</td>\n",
       "    </tr>\n",
       "    <tr>\n",
       "      <th>3</th>\n",
       "      <td>AGOLLA</td>\n",
       "      <td>AGOLLA DOUNA</td>\n",
       "      <td>4</td>\n",
       "      <td>0</td>\n",
       "      <td>0</td>\n",
       "      <td>1</td>\n",
       "      <td>3</td>\n",
       "      <td>1</td>\n",
       "      <td>0</td>\n",
       "      <td>0</td>\n",
       "      <td>1</td>\n",
       "    </tr>\n",
       "    <tr>\n",
       "      <th>4</th>\n",
       "      <td>AGOLLA</td>\n",
       "      <td>AGOLLA DOUNA</td>\n",
       "      <td>5</td>\n",
       "      <td>0</td>\n",
       "      <td>0</td>\n",
       "      <td>2</td>\n",
       "      <td>2</td>\n",
       "      <td>0</td>\n",
       "      <td>1</td>\n",
       "      <td>3</td>\n",
       "      <td>2</td>\n",
       "    </tr>\n",
       "  </tbody>\n",
       "</table>\n",
       "</div>"
      ],
      "text/plain": [
       "  LAWANAT      QUARTIER  N° MENAGE  < 1 MASC  1 - 4 MASC  5- 15 MASC  \\\n",
       "0  AGOLLA  AGOLLA DOUNA          1         0           1           1   \n",
       "1  AGOLLA  AGOLLA DOUNA          2         0           1           2   \n",
       "2  AGOLLA  AGOLLA DOUNA          3         0           1           3   \n",
       "3  AGOLLA  AGOLLA DOUNA          4         0           0           1   \n",
       "4  AGOLLA  AGOLLA DOUNA          5         0           0           2   \n",
       "\n",
       "   > 15 MASC  < 1 FEM  1 - 4 FEM  5 - 15 FEM  > 15 FEM  \n",
       "0          3        0          2           3         4  \n",
       "1          2        0          0           1         2  \n",
       "2          1        0          1           0         3  \n",
       "3          3        1          0           0         1  \n",
       "4          2        0          1           3         2  "
      ]
     },
     "execution_count": 3,
     "metadata": {},
     "output_type": "execute_result"
    }
   ],
   "source": [
    "population.head()"
   ]
  },
  {
   "cell_type": "code",
   "execution_count": 4,
   "id": "17486fdd",
   "metadata": {},
   "outputs": [
    {
     "data": {
      "text/plain": [
       "(1918, 11)"
      ]
     },
     "execution_count": 4,
     "metadata": {},
     "output_type": "execute_result"
    }
   ],
   "source": [
    "population.shape"
   ]
  },
  {
   "cell_type": "code",
   "execution_count": 5,
   "id": "bee6d2a8",
   "metadata": {},
   "outputs": [
    {
     "data": {
      "text/plain": [
       "LAWANAT       object\n",
       "QUARTIER      object\n",
       "N° MENAGE      int64\n",
       "< 1 MASC       int64\n",
       "1 - 4 MASC     int64\n",
       "5- 15 MASC     int64\n",
       "> 15 MASC      int64\n",
       "< 1 FEM        int64\n",
       "1 - 4 FEM      int64\n",
       "5 - 15 FEM     int64\n",
       "> 15 FEM       int64\n",
       "dtype: object"
      ]
     },
     "execution_count": 5,
     "metadata": {},
     "output_type": "execute_result"
    }
   ],
   "source": [
    "population.dtypes"
   ]
  },
  {
   "cell_type": "code",
   "execution_count": 6,
   "id": "292d6776",
   "metadata": {},
   "outputs": [
    {
     "data": {
      "text/html": [
       "<div>\n",
       "<style scoped>\n",
       "    .dataframe tbody tr th:only-of-type {\n",
       "        vertical-align: middle;\n",
       "    }\n",
       "\n",
       "    .dataframe tbody tr th {\n",
       "        vertical-align: top;\n",
       "    }\n",
       "\n",
       "    .dataframe thead th {\n",
       "        text-align: right;\n",
       "    }\n",
       "</style>\n",
       "<table border=\"1\" class=\"dataframe\">\n",
       "  <thead>\n",
       "    <tr style=\"text-align: right;\">\n",
       "      <th></th>\n",
       "      <th>N° MENAGE</th>\n",
       "      <th>&lt; 1 MASC</th>\n",
       "      <th>1 - 4 MASC</th>\n",
       "      <th>5- 15 MASC</th>\n",
       "      <th>&gt; 15 MASC</th>\n",
       "      <th>&lt; 1 FEM</th>\n",
       "      <th>1 - 4 FEM</th>\n",
       "      <th>5 - 15 FEM</th>\n",
       "      <th>&gt; 15 FEM</th>\n",
       "    </tr>\n",
       "  </thead>\n",
       "  <tbody>\n",
       "    <tr>\n",
       "      <th>count</th>\n",
       "      <td>1918.000000</td>\n",
       "      <td>1918.000000</td>\n",
       "      <td>1918.000000</td>\n",
       "      <td>1918.000000</td>\n",
       "      <td>1918.000000</td>\n",
       "      <td>1918.000000</td>\n",
       "      <td>1918.00000</td>\n",
       "      <td>1918.000000</td>\n",
       "      <td>1918.000000</td>\n",
       "    </tr>\n",
       "    <tr>\n",
       "      <th>mean</th>\n",
       "      <td>15.220021</td>\n",
       "      <td>0.168926</td>\n",
       "      <td>0.638165</td>\n",
       "      <td>1.570386</td>\n",
       "      <td>2.261210</td>\n",
       "      <td>0.168405</td>\n",
       "      <td>0.61366</td>\n",
       "      <td>1.539103</td>\n",
       "      <td>2.571429</td>\n",
       "    </tr>\n",
       "    <tr>\n",
       "      <th>std</th>\n",
       "      <td>10.876486</td>\n",
       "      <td>0.493710</td>\n",
       "      <td>0.849955</td>\n",
       "      <td>1.512942</td>\n",
       "      <td>1.538946</td>\n",
       "      <td>0.442055</td>\n",
       "      <td>0.80709</td>\n",
       "      <td>1.406922</td>\n",
       "      <td>1.645993</td>\n",
       "    </tr>\n",
       "    <tr>\n",
       "      <th>min</th>\n",
       "      <td>1.000000</td>\n",
       "      <td>0.000000</td>\n",
       "      <td>0.000000</td>\n",
       "      <td>0.000000</td>\n",
       "      <td>0.000000</td>\n",
       "      <td>0.000000</td>\n",
       "      <td>0.00000</td>\n",
       "      <td>0.000000</td>\n",
       "      <td>0.000000</td>\n",
       "    </tr>\n",
       "    <tr>\n",
       "      <th>25%</th>\n",
       "      <td>6.000000</td>\n",
       "      <td>0.000000</td>\n",
       "      <td>0.000000</td>\n",
       "      <td>0.000000</td>\n",
       "      <td>1.000000</td>\n",
       "      <td>0.000000</td>\n",
       "      <td>0.00000</td>\n",
       "      <td>0.000000</td>\n",
       "      <td>1.000000</td>\n",
       "    </tr>\n",
       "    <tr>\n",
       "      <th>50%</th>\n",
       "      <td>13.000000</td>\n",
       "      <td>0.000000</td>\n",
       "      <td>0.000000</td>\n",
       "      <td>1.000000</td>\n",
       "      <td>2.000000</td>\n",
       "      <td>0.000000</td>\n",
       "      <td>0.00000</td>\n",
       "      <td>1.000000</td>\n",
       "      <td>2.000000</td>\n",
       "    </tr>\n",
       "    <tr>\n",
       "      <th>75%</th>\n",
       "      <td>22.000000</td>\n",
       "      <td>0.000000</td>\n",
       "      <td>1.000000</td>\n",
       "      <td>2.000000</td>\n",
       "      <td>3.000000</td>\n",
       "      <td>0.000000</td>\n",
       "      <td>1.00000</td>\n",
       "      <td>2.000000</td>\n",
       "      <td>3.000000</td>\n",
       "    </tr>\n",
       "    <tr>\n",
       "      <th>max</th>\n",
       "      <td>53.000000</td>\n",
       "      <td>10.000000</td>\n",
       "      <td>6.000000</td>\n",
       "      <td>10.000000</td>\n",
       "      <td>10.000000</td>\n",
       "      <td>6.000000</td>\n",
       "      <td>6.00000</td>\n",
       "      <td>12.000000</td>\n",
       "      <td>13.000000</td>\n",
       "    </tr>\n",
       "  </tbody>\n",
       "</table>\n",
       "</div>"
      ],
      "text/plain": [
       "         N° MENAGE     < 1 MASC   1 - 4 MASC   5- 15 MASC    > 15 MASC  \\\n",
       "count  1918.000000  1918.000000  1918.000000  1918.000000  1918.000000   \n",
       "mean     15.220021     0.168926     0.638165     1.570386     2.261210   \n",
       "std      10.876486     0.493710     0.849955     1.512942     1.538946   \n",
       "min       1.000000     0.000000     0.000000     0.000000     0.000000   \n",
       "25%       6.000000     0.000000     0.000000     0.000000     1.000000   \n",
       "50%      13.000000     0.000000     0.000000     1.000000     2.000000   \n",
       "75%      22.000000     0.000000     1.000000     2.000000     3.000000   \n",
       "max      53.000000    10.000000     6.000000    10.000000    10.000000   \n",
       "\n",
       "           < 1 FEM   1 - 4 FEM   5 - 15 FEM     > 15 FEM  \n",
       "count  1918.000000  1918.00000  1918.000000  1918.000000  \n",
       "mean      0.168405     0.61366     1.539103     2.571429  \n",
       "std       0.442055     0.80709     1.406922     1.645993  \n",
       "min       0.000000     0.00000     0.000000     0.000000  \n",
       "25%       0.000000     0.00000     0.000000     1.000000  \n",
       "50%       0.000000     0.00000     1.000000     2.000000  \n",
       "75%       0.000000     1.00000     2.000000     3.000000  \n",
       "max       6.000000     6.00000    12.000000    13.000000  "
      ]
     },
     "execution_count": 6,
     "metadata": {},
     "output_type": "execute_result"
    }
   ],
   "source": [
    "population.describe()"
   ]
  },
  {
   "cell_type": "code",
   "execution_count": 7,
   "id": "4b10281a",
   "metadata": {},
   "outputs": [
    {
     "name": "stdout",
     "output_type": "stream",
     "text": [
      "<class 'pandas.core.frame.DataFrame'>\n",
      "RangeIndex: 1918 entries, 0 to 1917\n",
      "Data columns (total 11 columns):\n",
      " #   Column      Non-Null Count  Dtype \n",
      "---  ------      --------------  ----- \n",
      " 0   LAWANAT     1918 non-null   object\n",
      " 1   QUARTIER    1918 non-null   object\n",
      " 2   N° MENAGE   1918 non-null   int64 \n",
      " 3   < 1 MASC    1918 non-null   int64 \n",
      " 4   1 - 4 MASC  1918 non-null   int64 \n",
      " 5   5- 15 MASC  1918 non-null   int64 \n",
      " 6   > 15 MASC   1918 non-null   int64 \n",
      " 7   < 1 FEM     1918 non-null   int64 \n",
      " 8   1 - 4 FEM   1918 non-null   int64 \n",
      " 9   5 - 15 FEM  1918 non-null   int64 \n",
      " 10  > 15 FEM    1918 non-null   int64 \n",
      "dtypes: int64(9), object(2)\n",
      "memory usage: 165.0+ KB\n"
     ]
    }
   ],
   "source": [
    "population.info()"
   ]
  },
  {
   "cell_type": "code",
   "execution_count": 8,
   "id": "b85dc4e8",
   "metadata": {},
   "outputs": [
    {
     "data": {
      "text/plain": [
       "Index(['LAWANAT', 'QUARTIER', 'N° MENAGE', '< 1 MASC', '1 - 4 MASC',\n",
       "       '5- 15 MASC', '> 15 MASC', '< 1 FEM', '1 - 4 FEM', '5 - 15 FEM',\n",
       "       '> 15 FEM'],\n",
       "      dtype='object')"
      ]
     },
     "execution_count": 8,
     "metadata": {},
     "output_type": "execute_result"
    }
   ],
   "source": [
    "population.columns"
   ]
  },
  {
   "cell_type": "markdown",
   "id": "c69a5ee6",
   "metadata": {},
   "source": [
    "#### Liste des lawanats"
   ]
  },
  {
   "cell_type": "code",
   "execution_count": 9,
   "id": "4720998a",
   "metadata": {},
   "outputs": [
    {
     "data": {
      "text/plain": [
       "array(['AGOLLA', 'GUEMERE', 'GUIA', 'MERINGUE 1', 'MERINGUE 2',\n",
       "       'MERINGUE 3', 'WIDI', 'WIDIGUE'], dtype=object)"
      ]
     },
     "execution_count": 9,
     "metadata": {},
     "output_type": "execute_result"
    }
   ],
   "source": [
    "population.LAWANAT.unique()"
   ]
  },
  {
   "cell_type": "markdown",
   "id": "f888abb1",
   "metadata": {},
   "source": [
    "#### Nombre de ménages par lawanat"
   ]
  },
  {
   "cell_type": "code",
   "execution_count": 10,
   "id": "be29540f",
   "metadata": {},
   "outputs": [
    {
     "data": {
      "text/plain": [
       "WIDI          443\n",
       "WIDIGUE       357\n",
       "AGOLLA        273\n",
       "MERINGUE 2    204\n",
       "MERINGUE 1    192\n",
       "GUIA          186\n",
       "GUEMERE       167\n",
       "MERINGUE 3     96\n",
       "Name: LAWANAT, dtype: int64"
      ]
     },
     "execution_count": 10,
     "metadata": {},
     "output_type": "execute_result"
    }
   ],
   "source": [
    "population.LAWANAT.value_counts(dropna=False)"
   ]
  },
  {
   "cell_type": "markdown",
   "id": "f85abaa4",
   "metadata": {},
   "source": [
    "#### Liste des quartiers"
   ]
  },
  {
   "cell_type": "code",
   "execution_count": 11,
   "id": "24c06eed",
   "metadata": {},
   "outputs": [
    {
     "data": {
      "text/plain": [
       "array(['AGOLLA DOUNA', 'BERE CENTRE', 'BIDWERE 1', 'BIDWERE 2',\n",
       "       'BIDWERE 3', 'BODINGA', 'BOUROU 1', 'BOUROU 2', 'DANAY 1',\n",
       "       'DANAY 2', 'KOMKOSSAYE 1', 'KOMKOSSAYE 2', 'MAGA',\n",
       "       'BOURMI NGUEVELEKE', 'BOURMI RAVANTONGAI', 'DAGADAGA',\n",
       "       'DANAY DOUVOUGOUNI', 'DANAY VOULHANA', 'GUEMERE CENTRE', 'HIRAY',\n",
       "       'KOUSSOUK', 'YOUNA', 'GUIA BACKSARA', 'GUIA BIDWERE',\n",
       "       'GUIA MOKOLOM', 'GUIA RAKAYE', 'GUIA WIDI', 'BACKSARA', 'DARAM',\n",
       "       'DEKDEREK', 'DIGUIMBE', 'DJO', 'GOHO', 'LANGUI', 'MARANDJAM',\n",
       "       'MOKO', 'NOULTONGAYE CENTRE', 'SAKATONGAI', 'FITIMLAYE 1',\n",
       "       'FITIMLAYE 2', 'GANDJANG', 'NETONGAI', 'SOUALAYE', 'TCHONG 1',\n",
       "       'TCHONG 2', 'BANGAL', 'GOLONGOBOYE 1', 'GOLONGOBOYE 2',\n",
       "       'GOUNOURGOU', 'MASSOUANG 1', 'MOUNHA ', 'DINGUE', 'DJALWA',\n",
       "       'DOUGOUDAI', 'GARDI 1', 'GARDI 2', 'GOULMOUN', 'KOKO', 'KOTO 1',\n",
       "       'KOTO 2', 'MINAWA', 'VOUNDARAM', \"WIDI VO'O\", 'YIKA 1', 'YIKA 2',\n",
       "       'DEGUE', 'GAIDA', 'GANGANG 1', 'GUIZEGUE 1', 'GUIZEGUE 2',\n",
       "       'HLAGAM GOURIVA 1', 'HLAGAM GOURIVA 2', 'HLAGAM GOURIVA 3',\n",
       "       'HLAGAM ZIGENDJI', 'KAMAS 1', 'KAMAS 2', 'VALA', 'VEGELENDA',\n",
       "       'WAA', 'WIDIGUE CENTRE', 'YAMTOUKA', 'ZENGUE'], dtype=object)"
      ]
     },
     "execution_count": 11,
     "metadata": {},
     "output_type": "execute_result"
    }
   ],
   "source": [
    "population.QUARTIER.unique()"
   ]
  },
  {
   "cell_type": "markdown",
   "id": "fa2408b1",
   "metadata": {},
   "source": [
    "#### Nombre de ménages par quartier"
   ]
  },
  {
   "cell_type": "code",
   "execution_count": 12,
   "id": "3db2c4b1",
   "metadata": {},
   "outputs": [
    {
     "data": {
      "text/plain": [
       "DIGUIMBE             5\n",
       "DARAM                5\n",
       "GOUNOURGOU           6\n",
       "BODINGA              7\n",
       "LANGUI               7\n",
       "                    ..\n",
       "DINGUE              46\n",
       "TCHONG 2            47\n",
       "MINAWA              47\n",
       "HLAGAM GOURIVA 2    48\n",
       "GUIA WIDI           53\n",
       "Name: QUARTIER, Length: 82, dtype: int64"
      ]
     },
     "execution_count": 12,
     "metadata": {},
     "output_type": "execute_result"
    }
   ],
   "source": [
    "population.QUARTIER.value_counts(ascending=True)"
   ]
  },
  {
   "cell_type": "markdown",
   "id": "6f45a8f6",
   "metadata": {},
   "source": [
    "## Ajout de nouvelles  colonnes permettant de calculer les métriques.\n",
    "- \"Total\" ou nombre total d'individus par menage, \n",
    "- \"< 1\" ou nombre total d'individus de moins d'un an,\n",
    "- 'menage sans < 1' si un menage possède des enfants de moins d'un an ou pas. C'est une variable booléenne"
   ]
  },
  {
   "cell_type": "code",
   "execution_count": 13,
   "id": "bd71edd5",
   "metadata": {},
   "outputs": [],
   "source": [
    "# \"Total\" : nombre total d'individus dans le ménage\n",
    "population['Total'] = population['< 1 MASC'] + population['1 - 4 MASC'] + population['5- 15 MASC'] + population['> 15 MASC'] + population['< 1 FEM'] + population['1 - 4 FEM'] + population['5 - 15 FEM'] + population['> 15 FEM'] "
   ]
  },
  {
   "cell_type": "code",
   "execution_count": 14,
   "id": "39287681",
   "metadata": {},
   "outputs": [],
   "source": [
    "# \"< 1\":Nombre d'enfants de moins d'un an dans le ménage\n",
    "population['< 1'] = population['< 1 MASC'] + population['< 1 FEM']"
   ]
  },
  {
   "cell_type": "code",
   "execution_count": 15,
   "id": "a4b544e1",
   "metadata": {},
   "outputs": [],
   "source": [
    "# \"menage sans < 1\": le ménage a-t-il des enfants de moins d'un an ?. variable booléenne\n",
    "population['menage sans < 1'] = population['< 1'] == 0"
   ]
  },
  {
   "cell_type": "markdown",
   "id": "b42e833e",
   "metadata": {},
   "source": [
    "# Les différents type d'échantillonnage"
   ]
  },
  {
   "cell_type": "markdown",
   "id": "51535edb",
   "metadata": {},
   "source": [
    "## 1. Echantillonnage aléatoire simple.\n",
    "Dans un échantillonnage aléatoire simple, chaque unité d’échantillonnage de la population a une chance égale d’être incluse dans l’échantillon. Pour mettre cette technique en œuvre, il faut d’abord dresser une liste de toutes les unités de la population observée.\n",
    "2 modalités\n",
    "- Réaliser un échantillon aléatoire simple de 300 ménages à partir des 1918 ménages\n",
    "- Réaliser un échantillon aléatoire simple en collectant une fraction de la base de sondage (15 % par exemple)"
   ]
  },
  {
   "cell_type": "markdown",
   "id": "25f0e1bc",
   "metadata": {},
   "source": [
    "### 1.1 Echantillonage aléatoire simple à nombre fixe (exemple 300 ménages choisis aléatoirement)"
   ]
  },
  {
   "cell_type": "code",
   "execution_count": 16,
   "id": "5584be4f",
   "metadata": {},
   "outputs": [],
   "source": [
    "echantillon_aleatoire_simple = population.sample(300, random_state=2022)"
   ]
  },
  {
   "cell_type": "code",
   "execution_count": 17,
   "id": "d721d613",
   "metadata": {},
   "outputs": [
    {
     "data": {
      "text/html": [
       "<div>\n",
       "<style scoped>\n",
       "    .dataframe tbody tr th:only-of-type {\n",
       "        vertical-align: middle;\n",
       "    }\n",
       "\n",
       "    .dataframe tbody tr th {\n",
       "        vertical-align: top;\n",
       "    }\n",
       "\n",
       "    .dataframe thead th {\n",
       "        text-align: right;\n",
       "    }\n",
       "</style>\n",
       "<table border=\"1\" class=\"dataframe\">\n",
       "  <thead>\n",
       "    <tr style=\"text-align: right;\">\n",
       "      <th></th>\n",
       "      <th>LAWANAT</th>\n",
       "      <th>QUARTIER</th>\n",
       "      <th>N° MENAGE</th>\n",
       "      <th>&lt; 1 MASC</th>\n",
       "      <th>1 - 4 MASC</th>\n",
       "      <th>5- 15 MASC</th>\n",
       "      <th>&gt; 15 MASC</th>\n",
       "      <th>&lt; 1 FEM</th>\n",
       "      <th>1 - 4 FEM</th>\n",
       "      <th>5 - 15 FEM</th>\n",
       "      <th>&gt; 15 FEM</th>\n",
       "      <th>Total</th>\n",
       "      <th>&lt; 1</th>\n",
       "      <th>menage sans &lt; 1</th>\n",
       "    </tr>\n",
       "  </thead>\n",
       "  <tbody>\n",
       "    <tr>\n",
       "      <th>1685</th>\n",
       "      <td>WIDIGUE</td>\n",
       "      <td>HLAGAM GOURIVA 2</td>\n",
       "      <td>19</td>\n",
       "      <td>0</td>\n",
       "      <td>0</td>\n",
       "      <td>1</td>\n",
       "      <td>1</td>\n",
       "      <td>0</td>\n",
       "      <td>2</td>\n",
       "      <td>2</td>\n",
       "      <td>3</td>\n",
       "      <td>9</td>\n",
       "      <td>0</td>\n",
       "      <td>True</td>\n",
       "    </tr>\n",
       "    <tr>\n",
       "      <th>635</th>\n",
       "      <td>MERINGUE 1</td>\n",
       "      <td>BACKSARA</td>\n",
       "      <td>10</td>\n",
       "      <td>0</td>\n",
       "      <td>2</td>\n",
       "      <td>4</td>\n",
       "      <td>3</td>\n",
       "      <td>0</td>\n",
       "      <td>1</td>\n",
       "      <td>2</td>\n",
       "      <td>8</td>\n",
       "      <td>20</td>\n",
       "      <td>0</td>\n",
       "      <td>True</td>\n",
       "    </tr>\n",
       "    <tr>\n",
       "      <th>903</th>\n",
       "      <td>MERINGUE 2</td>\n",
       "      <td>NETONGAI</td>\n",
       "      <td>16</td>\n",
       "      <td>0</td>\n",
       "      <td>0</td>\n",
       "      <td>0</td>\n",
       "      <td>2</td>\n",
       "      <td>0</td>\n",
       "      <td>0</td>\n",
       "      <td>0</td>\n",
       "      <td>1</td>\n",
       "      <td>3</td>\n",
       "      <td>0</td>\n",
       "      <td>True</td>\n",
       "    </tr>\n",
       "    <tr>\n",
       "      <th>27</th>\n",
       "      <td>AGOLLA</td>\n",
       "      <td>BERE CENTRE</td>\n",
       "      <td>14</td>\n",
       "      <td>0</td>\n",
       "      <td>0</td>\n",
       "      <td>3</td>\n",
       "      <td>1</td>\n",
       "      <td>0</td>\n",
       "      <td>0</td>\n",
       "      <td>5</td>\n",
       "      <td>2</td>\n",
       "      <td>11</td>\n",
       "      <td>0</td>\n",
       "      <td>True</td>\n",
       "    </tr>\n",
       "    <tr>\n",
       "      <th>664</th>\n",
       "      <td>MERINGUE 1</td>\n",
       "      <td>DEKDEREK</td>\n",
       "      <td>21</td>\n",
       "      <td>0</td>\n",
       "      <td>0</td>\n",
       "      <td>2</td>\n",
       "      <td>1</td>\n",
       "      <td>0</td>\n",
       "      <td>0</td>\n",
       "      <td>3</td>\n",
       "      <td>2</td>\n",
       "      <td>8</td>\n",
       "      <td>0</td>\n",
       "      <td>True</td>\n",
       "    </tr>\n",
       "    <tr>\n",
       "      <th>...</th>\n",
       "      <td>...</td>\n",
       "      <td>...</td>\n",
       "      <td>...</td>\n",
       "      <td>...</td>\n",
       "      <td>...</td>\n",
       "      <td>...</td>\n",
       "      <td>...</td>\n",
       "      <td>...</td>\n",
       "      <td>...</td>\n",
       "      <td>...</td>\n",
       "      <td>...</td>\n",
       "      <td>...</td>\n",
       "      <td>...</td>\n",
       "      <td>...</td>\n",
       "    </tr>\n",
       "    <tr>\n",
       "      <th>13</th>\n",
       "      <td>AGOLLA</td>\n",
       "      <td>AGOLLA DOUNA</td>\n",
       "      <td>14</td>\n",
       "      <td>0</td>\n",
       "      <td>1</td>\n",
       "      <td>1</td>\n",
       "      <td>1</td>\n",
       "      <td>0</td>\n",
       "      <td>0</td>\n",
       "      <td>4</td>\n",
       "      <td>1</td>\n",
       "      <td>8</td>\n",
       "      <td>0</td>\n",
       "      <td>True</td>\n",
       "    </tr>\n",
       "    <tr>\n",
       "      <th>32</th>\n",
       "      <td>AGOLLA</td>\n",
       "      <td>BERE CENTRE</td>\n",
       "      <td>19</td>\n",
       "      <td>0</td>\n",
       "      <td>0</td>\n",
       "      <td>0</td>\n",
       "      <td>0</td>\n",
       "      <td>0</td>\n",
       "      <td>0</td>\n",
       "      <td>2</td>\n",
       "      <td>2</td>\n",
       "      <td>4</td>\n",
       "      <td>0</td>\n",
       "      <td>True</td>\n",
       "    </tr>\n",
       "    <tr>\n",
       "      <th>1916</th>\n",
       "      <td>WIDIGUE</td>\n",
       "      <td>ZENGUE</td>\n",
       "      <td>30</td>\n",
       "      <td>1</td>\n",
       "      <td>2</td>\n",
       "      <td>0</td>\n",
       "      <td>3</td>\n",
       "      <td>0</td>\n",
       "      <td>1</td>\n",
       "      <td>2</td>\n",
       "      <td>3</td>\n",
       "      <td>12</td>\n",
       "      <td>1</td>\n",
       "      <td>False</td>\n",
       "    </tr>\n",
       "    <tr>\n",
       "      <th>424</th>\n",
       "      <td>GUEMERE</td>\n",
       "      <td>KOUSSOUK</td>\n",
       "      <td>7</td>\n",
       "      <td>0</td>\n",
       "      <td>0</td>\n",
       "      <td>3</td>\n",
       "      <td>4</td>\n",
       "      <td>0</td>\n",
       "      <td>1</td>\n",
       "      <td>4</td>\n",
       "      <td>8</td>\n",
       "      <td>20</td>\n",
       "      <td>0</td>\n",
       "      <td>True</td>\n",
       "    </tr>\n",
       "    <tr>\n",
       "      <th>114</th>\n",
       "      <td>AGOLLA</td>\n",
       "      <td>BODINGA</td>\n",
       "      <td>2</td>\n",
       "      <td>0</td>\n",
       "      <td>2</td>\n",
       "      <td>0</td>\n",
       "      <td>2</td>\n",
       "      <td>0</td>\n",
       "      <td>0</td>\n",
       "      <td>1</td>\n",
       "      <td>1</td>\n",
       "      <td>6</td>\n",
       "      <td>0</td>\n",
       "      <td>True</td>\n",
       "    </tr>\n",
       "  </tbody>\n",
       "</table>\n",
       "<p>300 rows × 14 columns</p>\n",
       "</div>"
      ],
      "text/plain": [
       "         LAWANAT          QUARTIER  N° MENAGE  < 1 MASC  1 - 4 MASC  \\\n",
       "1685     WIDIGUE  HLAGAM GOURIVA 2         19         0           0   \n",
       "635   MERINGUE 1          BACKSARA         10         0           2   \n",
       "903   MERINGUE 2          NETONGAI         16         0           0   \n",
       "27        AGOLLA       BERE CENTRE         14         0           0   \n",
       "664   MERINGUE 1          DEKDEREK         21         0           0   \n",
       "...          ...               ...        ...       ...         ...   \n",
       "13        AGOLLA      AGOLLA DOUNA         14         0           1   \n",
       "32        AGOLLA       BERE CENTRE         19         0           0   \n",
       "1916     WIDIGUE            ZENGUE         30         1           2   \n",
       "424      GUEMERE          KOUSSOUK          7         0           0   \n",
       "114       AGOLLA           BODINGA          2         0           2   \n",
       "\n",
       "      5- 15 MASC  > 15 MASC  < 1 FEM  1 - 4 FEM  5 - 15 FEM  > 15 FEM  Total  \\\n",
       "1685           1          1        0          2           2         3      9   \n",
       "635            4          3        0          1           2         8     20   \n",
       "903            0          2        0          0           0         1      3   \n",
       "27             3          1        0          0           5         2     11   \n",
       "664            2          1        0          0           3         2      8   \n",
       "...          ...        ...      ...        ...         ...       ...    ...   \n",
       "13             1          1        0          0           4         1      8   \n",
       "32             0          0        0          0           2         2      4   \n",
       "1916           0          3        0          1           2         3     12   \n",
       "424            3          4        0          1           4         8     20   \n",
       "114            0          2        0          0           1         1      6   \n",
       "\n",
       "      < 1  menage sans < 1  \n",
       "1685    0             True  \n",
       "635     0             True  \n",
       "903     0             True  \n",
       "27      0             True  \n",
       "664     0             True  \n",
       "...   ...              ...  \n",
       "13      0             True  \n",
       "32      0             True  \n",
       "1916    1            False  \n",
       "424     0             True  \n",
       "114     0             True  \n",
       "\n",
       "[300 rows x 14 columns]"
      ]
     },
     "execution_count": 17,
     "metadata": {},
     "output_type": "execute_result"
    }
   ],
   "source": [
    "echantillon_aleatoire_simple"
   ]
  },
  {
   "cell_type": "code",
   "execution_count": 18,
   "id": "8950cd96",
   "metadata": {},
   "outputs": [
    {
     "data": {
      "text/plain": [
       "(300, 14)"
      ]
     },
     "execution_count": 18,
     "metadata": {},
     "output_type": "execute_result"
    }
   ],
   "source": [
    "# Verification de la taille de l'échantillon\n",
    "echantillon_aleatoire_simple.shape"
   ]
  },
  {
   "cell_type": "code",
   "execution_count": 19,
   "id": "0644ef38",
   "metadata": {},
   "outputs": [
    {
     "data": {
      "text/plain": [
       "array(['WIDIGUE', 'MERINGUE 1', 'MERINGUE 2', 'AGOLLA', 'WIDI',\n",
       "       'MERINGUE 3', 'GUEMERE', 'GUIA'], dtype=object)"
      ]
     },
     "execution_count": 19,
     "metadata": {},
     "output_type": "execute_result"
    }
   ],
   "source": [
    "echantillon_aleatoire_simple.LAWANAT.unique()"
   ]
  },
  {
   "cell_type": "code",
   "execution_count": 20,
   "id": "342aa1b7",
   "metadata": {},
   "outputs": [
    {
     "data": {
      "text/plain": [
       "WIDI          64\n",
       "WIDIGUE       63\n",
       "AGOLLA        52\n",
       "MERINGUE 1    34\n",
       "MERINGUE 2    34\n",
       "GUEMERE       25\n",
       "GUIA          18\n",
       "MERINGUE 3    10\n",
       "Name: LAWANAT, dtype: int64"
      ]
     },
     "execution_count": 20,
     "metadata": {},
     "output_type": "execute_result"
    }
   ],
   "source": [
    "echantillon_aleatoire_simple.LAWANAT.value_counts()"
   ]
  },
  {
   "cell_type": "markdown",
   "id": "390e2f7a",
   "metadata": {},
   "source": [
    "### 1.2 Echantillonage aléatoire simple d'une fraction de la base de sondage (exemple 15 % ménages choisis aléatoirement)"
   ]
  },
  {
   "cell_type": "code",
   "execution_count": 21,
   "id": "3a4656a7",
   "metadata": {},
   "outputs": [
    {
     "data": {
      "text/plain": [
       "0.15641293013555788"
      ]
     },
     "execution_count": 21,
     "metadata": {},
     "output_type": "execute_result"
    }
   ],
   "source": [
    "fraction = 300/1918\n",
    "fraction"
   ]
  },
  {
   "cell_type": "code",
   "execution_count": 22,
   "id": "8c6aa4bc",
   "metadata": {},
   "outputs": [],
   "source": [
    "echantillon_aleatoire_simple_2 = population.sample(frac=0.15, random_state=2023)"
   ]
  },
  {
   "cell_type": "code",
   "execution_count": 23,
   "id": "ff61980f",
   "metadata": {},
   "outputs": [
    {
     "data": {
      "text/html": [
       "<div>\n",
       "<style scoped>\n",
       "    .dataframe tbody tr th:only-of-type {\n",
       "        vertical-align: middle;\n",
       "    }\n",
       "\n",
       "    .dataframe tbody tr th {\n",
       "        vertical-align: top;\n",
       "    }\n",
       "\n",
       "    .dataframe thead th {\n",
       "        text-align: right;\n",
       "    }\n",
       "</style>\n",
       "<table border=\"1\" class=\"dataframe\">\n",
       "  <thead>\n",
       "    <tr style=\"text-align: right;\">\n",
       "      <th></th>\n",
       "      <th>LAWANAT</th>\n",
       "      <th>QUARTIER</th>\n",
       "      <th>N° MENAGE</th>\n",
       "      <th>&lt; 1 MASC</th>\n",
       "      <th>1 - 4 MASC</th>\n",
       "      <th>5- 15 MASC</th>\n",
       "      <th>&gt; 15 MASC</th>\n",
       "      <th>&lt; 1 FEM</th>\n",
       "      <th>1 - 4 FEM</th>\n",
       "      <th>5 - 15 FEM</th>\n",
       "      <th>&gt; 15 FEM</th>\n",
       "      <th>Total</th>\n",
       "      <th>&lt; 1</th>\n",
       "      <th>menage sans &lt; 1</th>\n",
       "    </tr>\n",
       "  </thead>\n",
       "  <tbody>\n",
       "    <tr>\n",
       "      <th>588</th>\n",
       "      <td>GUIA</td>\n",
       "      <td>GUIA WIDI</td>\n",
       "      <td>16</td>\n",
       "      <td>0</td>\n",
       "      <td>1</td>\n",
       "      <td>2</td>\n",
       "      <td>1</td>\n",
       "      <td>1</td>\n",
       "      <td>0</td>\n",
       "      <td>1</td>\n",
       "      <td>2</td>\n",
       "      <td>8</td>\n",
       "      <td>1</td>\n",
       "      <td>False</td>\n",
       "    </tr>\n",
       "    <tr>\n",
       "      <th>1041</th>\n",
       "      <td>MERINGUE 3</td>\n",
       "      <td>GOLONGOBOYE 1</td>\n",
       "      <td>6</td>\n",
       "      <td>0</td>\n",
       "      <td>1</td>\n",
       "      <td>0</td>\n",
       "      <td>1</td>\n",
       "      <td>0</td>\n",
       "      <td>1</td>\n",
       "      <td>1</td>\n",
       "      <td>1</td>\n",
       "      <td>5</td>\n",
       "      <td>0</td>\n",
       "      <td>True</td>\n",
       "    </tr>\n",
       "    <tr>\n",
       "      <th>877</th>\n",
       "      <td>MERINGUE 2</td>\n",
       "      <td>GANDJANG</td>\n",
       "      <td>18</td>\n",
       "      <td>0</td>\n",
       "      <td>1</td>\n",
       "      <td>3</td>\n",
       "      <td>1</td>\n",
       "      <td>0</td>\n",
       "      <td>0</td>\n",
       "      <td>3</td>\n",
       "      <td>2</td>\n",
       "      <td>10</td>\n",
       "      <td>0</td>\n",
       "      <td>True</td>\n",
       "    </tr>\n",
       "    <tr>\n",
       "      <th>149</th>\n",
       "      <td>AGOLLA</td>\n",
       "      <td>BOUROU 2</td>\n",
       "      <td>20</td>\n",
       "      <td>0</td>\n",
       "      <td>0</td>\n",
       "      <td>4</td>\n",
       "      <td>2</td>\n",
       "      <td>0</td>\n",
       "      <td>0</td>\n",
       "      <td>1</td>\n",
       "      <td>7</td>\n",
       "      <td>14</td>\n",
       "      <td>0</td>\n",
       "      <td>True</td>\n",
       "    </tr>\n",
       "    <tr>\n",
       "      <th>974</th>\n",
       "      <td>MERINGUE 2</td>\n",
       "      <td>TCHONG 1</td>\n",
       "      <td>30</td>\n",
       "      <td>0</td>\n",
       "      <td>1</td>\n",
       "      <td>4</td>\n",
       "      <td>4</td>\n",
       "      <td>0</td>\n",
       "      <td>0</td>\n",
       "      <td>6</td>\n",
       "      <td>3</td>\n",
       "      <td>18</td>\n",
       "      <td>0</td>\n",
       "      <td>True</td>\n",
       "    </tr>\n",
       "    <tr>\n",
       "      <th>...</th>\n",
       "      <td>...</td>\n",
       "      <td>...</td>\n",
       "      <td>...</td>\n",
       "      <td>...</td>\n",
       "      <td>...</td>\n",
       "      <td>...</td>\n",
       "      <td>...</td>\n",
       "      <td>...</td>\n",
       "      <td>...</td>\n",
       "      <td>...</td>\n",
       "      <td>...</td>\n",
       "      <td>...</td>\n",
       "      <td>...</td>\n",
       "      <td>...</td>\n",
       "    </tr>\n",
       "    <tr>\n",
       "      <th>999</th>\n",
       "      <td>MERINGUE 2</td>\n",
       "      <td>TCHONG 2</td>\n",
       "      <td>25</td>\n",
       "      <td>0</td>\n",
       "      <td>2</td>\n",
       "      <td>0</td>\n",
       "      <td>1</td>\n",
       "      <td>0</td>\n",
       "      <td>0</td>\n",
       "      <td>0</td>\n",
       "      <td>1</td>\n",
       "      <td>4</td>\n",
       "      <td>0</td>\n",
       "      <td>True</td>\n",
       "    </tr>\n",
       "    <tr>\n",
       "      <th>324</th>\n",
       "      <td>GUEMERE</td>\n",
       "      <td>BOURMI RAVANTONGAI</td>\n",
       "      <td>13</td>\n",
       "      <td>0</td>\n",
       "      <td>1</td>\n",
       "      <td>2</td>\n",
       "      <td>2</td>\n",
       "      <td>0</td>\n",
       "      <td>0</td>\n",
       "      <td>0</td>\n",
       "      <td>2</td>\n",
       "      <td>7</td>\n",
       "      <td>0</td>\n",
       "      <td>True</td>\n",
       "    </tr>\n",
       "    <tr>\n",
       "      <th>511</th>\n",
       "      <td>GUIA</td>\n",
       "      <td>GUIA MOKOLOM</td>\n",
       "      <td>9</td>\n",
       "      <td>1</td>\n",
       "      <td>2</td>\n",
       "      <td>1</td>\n",
       "      <td>3</td>\n",
       "      <td>0</td>\n",
       "      <td>1</td>\n",
       "      <td>1</td>\n",
       "      <td>2</td>\n",
       "      <td>11</td>\n",
       "      <td>1</td>\n",
       "      <td>False</td>\n",
       "    </tr>\n",
       "    <tr>\n",
       "      <th>866</th>\n",
       "      <td>MERINGUE 2</td>\n",
       "      <td>GANDJANG</td>\n",
       "      <td>7</td>\n",
       "      <td>0</td>\n",
       "      <td>0</td>\n",
       "      <td>1</td>\n",
       "      <td>0</td>\n",
       "      <td>0</td>\n",
       "      <td>0</td>\n",
       "      <td>1</td>\n",
       "      <td>2</td>\n",
       "      <td>4</td>\n",
       "      <td>0</td>\n",
       "      <td>True</td>\n",
       "    </tr>\n",
       "    <tr>\n",
       "      <th>397</th>\n",
       "      <td>GUEMERE</td>\n",
       "      <td>GUEMERE CENTRE</td>\n",
       "      <td>34</td>\n",
       "      <td>0</td>\n",
       "      <td>0</td>\n",
       "      <td>0</td>\n",
       "      <td>3</td>\n",
       "      <td>0</td>\n",
       "      <td>0</td>\n",
       "      <td>0</td>\n",
       "      <td>2</td>\n",
       "      <td>5</td>\n",
       "      <td>0</td>\n",
       "      <td>True</td>\n",
       "    </tr>\n",
       "  </tbody>\n",
       "</table>\n",
       "<p>288 rows × 14 columns</p>\n",
       "</div>"
      ],
      "text/plain": [
       "         LAWANAT            QUARTIER  N° MENAGE  < 1 MASC  1 - 4 MASC  \\\n",
       "588         GUIA           GUIA WIDI         16         0           1   \n",
       "1041  MERINGUE 3       GOLONGOBOYE 1          6         0           1   \n",
       "877   MERINGUE 2            GANDJANG         18         0           1   \n",
       "149       AGOLLA            BOUROU 2         20         0           0   \n",
       "974   MERINGUE 2            TCHONG 1         30         0           1   \n",
       "...          ...                 ...        ...       ...         ...   \n",
       "999   MERINGUE 2            TCHONG 2         25         0           2   \n",
       "324      GUEMERE  BOURMI RAVANTONGAI         13         0           1   \n",
       "511         GUIA        GUIA MOKOLOM          9         1           2   \n",
       "866   MERINGUE 2            GANDJANG          7         0           0   \n",
       "397      GUEMERE      GUEMERE CENTRE         34         0           0   \n",
       "\n",
       "      5- 15 MASC  > 15 MASC  < 1 FEM  1 - 4 FEM  5 - 15 FEM  > 15 FEM  Total  \\\n",
       "588            2          1        1          0           1         2      8   \n",
       "1041           0          1        0          1           1         1      5   \n",
       "877            3          1        0          0           3         2     10   \n",
       "149            4          2        0          0           1         7     14   \n",
       "974            4          4        0          0           6         3     18   \n",
       "...          ...        ...      ...        ...         ...       ...    ...   \n",
       "999            0          1        0          0           0         1      4   \n",
       "324            2          2        0          0           0         2      7   \n",
       "511            1          3        0          1           1         2     11   \n",
       "866            1          0        0          0           1         2      4   \n",
       "397            0          3        0          0           0         2      5   \n",
       "\n",
       "      < 1  menage sans < 1  \n",
       "588     1            False  \n",
       "1041    0             True  \n",
       "877     0             True  \n",
       "149     0             True  \n",
       "974     0             True  \n",
       "...   ...              ...  \n",
       "999     0             True  \n",
       "324     0             True  \n",
       "511     1            False  \n",
       "866     0             True  \n",
       "397     0             True  \n",
       "\n",
       "[288 rows x 14 columns]"
      ]
     },
     "execution_count": 23,
     "metadata": {},
     "output_type": "execute_result"
    }
   ],
   "source": [
    "echantillon_aleatoire_simple_2"
   ]
  },
  {
   "cell_type": "code",
   "execution_count": 24,
   "id": "203459da",
   "metadata": {},
   "outputs": [
    {
     "data": {
      "text/plain": [
       "WIDI          61\n",
       "WIDIGUE       55\n",
       "AGOLLA        43\n",
       "GUIA          30\n",
       "GUEMERE       30\n",
       "MERINGUE 2    29\n",
       "MERINGUE 1    26\n",
       "MERINGUE 3    14\n",
       "Name: LAWANAT, dtype: int64"
      ]
     },
     "execution_count": 24,
     "metadata": {},
     "output_type": "execute_result"
    }
   ],
   "source": [
    "echantillon_aleatoire_simple_2.LAWANAT.value_counts()"
   ]
  },
  {
   "cell_type": "code",
   "execution_count": 25,
   "id": "40553b56",
   "metadata": {},
   "outputs": [
    {
     "data": {
      "text/plain": [
       "WIDI          0.230970\n",
       "WIDIGUE       0.186131\n",
       "AGOLLA        0.142336\n",
       "MERINGUE 2    0.106361\n",
       "MERINGUE 1    0.100104\n",
       "GUIA          0.096976\n",
       "GUEMERE       0.087070\n",
       "MERINGUE 3    0.050052\n",
       "Name: LAWANAT, dtype: float64"
      ]
     },
     "execution_count": 25,
     "metadata": {},
     "output_type": "execute_result"
    }
   ],
   "source": [
    "population.LAWANAT.value_counts(normalize=True)"
   ]
  },
  {
   "cell_type": "code",
   "execution_count": 26,
   "id": "8c3ca476",
   "metadata": {},
   "outputs": [
    {
     "data": {
      "text/plain": [
       "WIDI          0.213333\n",
       "WIDIGUE       0.210000\n",
       "AGOLLA        0.173333\n",
       "MERINGUE 1    0.113333\n",
       "MERINGUE 2    0.113333\n",
       "GUEMERE       0.083333\n",
       "GUIA          0.060000\n",
       "MERINGUE 3    0.033333\n",
       "Name: LAWANAT, dtype: float64"
      ]
     },
     "execution_count": 26,
     "metadata": {},
     "output_type": "execute_result"
    }
   ],
   "source": [
    "echantillon_aleatoire_simple.LAWANAT.value_counts(normalize=True)"
   ]
  },
  {
   "cell_type": "code",
   "execution_count": 27,
   "id": "ce7aa6e2",
   "metadata": {},
   "outputs": [
    {
     "data": {
      "text/plain": [
       "WIDI          0.211806\n",
       "WIDIGUE       0.190972\n",
       "AGOLLA        0.149306\n",
       "GUIA          0.104167\n",
       "GUEMERE       0.104167\n",
       "MERINGUE 2    0.100694\n",
       "MERINGUE 1    0.090278\n",
       "MERINGUE 3    0.048611\n",
       "Name: LAWANAT, dtype: float64"
      ]
     },
     "execution_count": 27,
     "metadata": {},
     "output_type": "execute_result"
    }
   ],
   "source": [
    "echantillon_aleatoire_simple_2.LAWANAT.value_counts(normalize=True)"
   ]
  },
  {
   "cell_type": "markdown",
   "id": "14d71058-761d-4841-b349-10da76783c63",
   "metadata": {},
   "source": [
    "#### Comparaison des différents échantillons (proportion de ménages)"
   ]
  },
  {
   "cell_type": "code",
   "execution_count": 28,
   "id": "8281113d",
   "metadata": {},
   "outputs": [],
   "source": [
    "df=pd.concat([population.LAWANAT.value_counts(normalize=True), echantillon_aleatoire_simple_2.LAWANAT.value_counts(normalize=True),echantillon_aleatoire_simple.LAWANAT.value_counts(normalize=True)],axis=1)"
   ]
  },
  {
   "cell_type": "code",
   "execution_count": 29,
   "id": "8d35e598",
   "metadata": {},
   "outputs": [],
   "source": [
    "df.columns = [\"Pop\", \"Echantillon_aleatoire_simple_2\", \"Echantillon_aleatoire_simple_1\"]"
   ]
  },
  {
   "cell_type": "code",
   "execution_count": 30,
   "id": "ecfcc2f3",
   "metadata": {},
   "outputs": [
    {
     "data": {
      "text/html": [
       "<div>\n",
       "<style scoped>\n",
       "    .dataframe tbody tr th:only-of-type {\n",
       "        vertical-align: middle;\n",
       "    }\n",
       "\n",
       "    .dataframe tbody tr th {\n",
       "        vertical-align: top;\n",
       "    }\n",
       "\n",
       "    .dataframe thead th {\n",
       "        text-align: right;\n",
       "    }\n",
       "</style>\n",
       "<table border=\"1\" class=\"dataframe\">\n",
       "  <thead>\n",
       "    <tr style=\"text-align: right;\">\n",
       "      <th></th>\n",
       "      <th>Pop</th>\n",
       "      <th>Echantillon_aleatoire_simple_2</th>\n",
       "      <th>Echantillon_aleatoire_simple_1</th>\n",
       "    </tr>\n",
       "  </thead>\n",
       "  <tbody>\n",
       "    <tr>\n",
       "      <th>WIDI</th>\n",
       "      <td>0.230970</td>\n",
       "      <td>0.211806</td>\n",
       "      <td>0.213333</td>\n",
       "    </tr>\n",
       "    <tr>\n",
       "      <th>WIDIGUE</th>\n",
       "      <td>0.186131</td>\n",
       "      <td>0.190972</td>\n",
       "      <td>0.210000</td>\n",
       "    </tr>\n",
       "    <tr>\n",
       "      <th>AGOLLA</th>\n",
       "      <td>0.142336</td>\n",
       "      <td>0.149306</td>\n",
       "      <td>0.173333</td>\n",
       "    </tr>\n",
       "    <tr>\n",
       "      <th>MERINGUE 2</th>\n",
       "      <td>0.106361</td>\n",
       "      <td>0.100694</td>\n",
       "      <td>0.113333</td>\n",
       "    </tr>\n",
       "    <tr>\n",
       "      <th>MERINGUE 1</th>\n",
       "      <td>0.100104</td>\n",
       "      <td>0.090278</td>\n",
       "      <td>0.113333</td>\n",
       "    </tr>\n",
       "    <tr>\n",
       "      <th>GUIA</th>\n",
       "      <td>0.096976</td>\n",
       "      <td>0.104167</td>\n",
       "      <td>0.060000</td>\n",
       "    </tr>\n",
       "    <tr>\n",
       "      <th>GUEMERE</th>\n",
       "      <td>0.087070</td>\n",
       "      <td>0.104167</td>\n",
       "      <td>0.083333</td>\n",
       "    </tr>\n",
       "    <tr>\n",
       "      <th>MERINGUE 3</th>\n",
       "      <td>0.050052</td>\n",
       "      <td>0.048611</td>\n",
       "      <td>0.033333</td>\n",
       "    </tr>\n",
       "  </tbody>\n",
       "</table>\n",
       "</div>"
      ],
      "text/plain": [
       "                 Pop  Echantillon_aleatoire_simple_2  \\\n",
       "WIDI        0.230970                        0.211806   \n",
       "WIDIGUE     0.186131                        0.190972   \n",
       "AGOLLA      0.142336                        0.149306   \n",
       "MERINGUE 2  0.106361                        0.100694   \n",
       "MERINGUE 1  0.100104                        0.090278   \n",
       "GUIA        0.096976                        0.104167   \n",
       "GUEMERE     0.087070                        0.104167   \n",
       "MERINGUE 3  0.050052                        0.048611   \n",
       "\n",
       "            Echantillon_aleatoire_simple_1  \n",
       "WIDI                              0.213333  \n",
       "WIDIGUE                           0.210000  \n",
       "AGOLLA                            0.173333  \n",
       "MERINGUE 2                        0.113333  \n",
       "MERINGUE 1                        0.113333  \n",
       "GUIA                              0.060000  \n",
       "GUEMERE                           0.083333  \n",
       "MERINGUE 3                        0.033333  "
      ]
     },
     "execution_count": 30,
     "metadata": {},
     "output_type": "execute_result"
    }
   ],
   "source": [
    "df"
   ]
  },
  {
   "cell_type": "markdown",
   "id": "ad518a30-12d6-490d-aea5-ae0a388ec1be",
   "metadata": {},
   "source": [
    "#### Observation\n",
    "On ne note pas de grandes variations dans les proportions de ménages entre les différents types d'échantillon."
   ]
  },
  {
   "cell_type": "markdown",
   "id": "30c8e908",
   "metadata": {},
   "source": [
    "## 2. Echantillonnage systématique."
   ]
  },
  {
   "cell_type": "markdown",
   "id": "1693c72d",
   "metadata": {},
   "source": [
    "L’échantillonnage systématique signifie qu’il existe un écart, ou un intervalle, ou pas de sondage, entre chaque unité sélectionnée dans l’échantillon. Pour éviter un biais dû à une base dde sondage qui aurait subit un tri, une des modalité serait de mélanger la base de sonfage avant le tirage."
   ]
  },
  {
   "cell_type": "markdown",
   "id": "7710f240",
   "metadata": {},
   "source": [
    "### 2.1 Echantillonnage systématique sans mélange"
   ]
  },
  {
   "cell_type": "markdown",
   "id": "3f77df6e",
   "metadata": {},
   "source": [
    "Pour effectuer un échantillon systematique d'une taille de 300, il faut calculer la pas de sondage qui est de 1918/300. Avant de réaliser le tirage, nous pouvons aléatoirement choisir l'indice de la première unité de sondage entre 0 et le pas de sondage ôté de 1."
   ]
  },
  {
   "cell_type": "code",
   "execution_count": 31,
   "id": "bdcfe839",
   "metadata": {},
   "outputs": [],
   "source": [
    "pas_de_sondage = 1918//300"
   ]
  },
  {
   "cell_type": "code",
   "execution_count": 32,
   "id": "57a3ce78",
   "metadata": {},
   "outputs": [
    {
     "data": {
      "text/plain": [
       "6"
      ]
     },
     "execution_count": 32,
     "metadata": {},
     "output_type": "execute_result"
    }
   ],
   "source": [
    "pas_de_sondage"
   ]
  },
  {
   "cell_type": "code",
   "execution_count": 33,
   "id": "fd23fb9a",
   "metadata": {},
   "outputs": [],
   "source": [
    "echantillon_systematique = population.iloc[::pas_de_sondage]"
   ]
  },
  {
   "cell_type": "code",
   "execution_count": 34,
   "id": "08cfa46e",
   "metadata": {},
   "outputs": [
    {
     "data": {
      "text/html": [
       "<div>\n",
       "<style scoped>\n",
       "    .dataframe tbody tr th:only-of-type {\n",
       "        vertical-align: middle;\n",
       "    }\n",
       "\n",
       "    .dataframe tbody tr th {\n",
       "        vertical-align: top;\n",
       "    }\n",
       "\n",
       "    .dataframe thead th {\n",
       "        text-align: right;\n",
       "    }\n",
       "</style>\n",
       "<table border=\"1\" class=\"dataframe\">\n",
       "  <thead>\n",
       "    <tr style=\"text-align: right;\">\n",
       "      <th></th>\n",
       "      <th>LAWANAT</th>\n",
       "      <th>QUARTIER</th>\n",
       "      <th>N° MENAGE</th>\n",
       "      <th>&lt; 1 MASC</th>\n",
       "      <th>1 - 4 MASC</th>\n",
       "      <th>5- 15 MASC</th>\n",
       "      <th>&gt; 15 MASC</th>\n",
       "      <th>&lt; 1 FEM</th>\n",
       "      <th>1 - 4 FEM</th>\n",
       "      <th>5 - 15 FEM</th>\n",
       "      <th>&gt; 15 FEM</th>\n",
       "      <th>Total</th>\n",
       "      <th>&lt; 1</th>\n",
       "      <th>menage sans &lt; 1</th>\n",
       "    </tr>\n",
       "  </thead>\n",
       "  <tbody>\n",
       "    <tr>\n",
       "      <th>0</th>\n",
       "      <td>AGOLLA</td>\n",
       "      <td>AGOLLA DOUNA</td>\n",
       "      <td>1</td>\n",
       "      <td>0</td>\n",
       "      <td>1</td>\n",
       "      <td>1</td>\n",
       "      <td>3</td>\n",
       "      <td>0</td>\n",
       "      <td>2</td>\n",
       "      <td>3</td>\n",
       "      <td>4</td>\n",
       "      <td>14</td>\n",
       "      <td>0</td>\n",
       "      <td>True</td>\n",
       "    </tr>\n",
       "    <tr>\n",
       "      <th>6</th>\n",
       "      <td>AGOLLA</td>\n",
       "      <td>AGOLLA DOUNA</td>\n",
       "      <td>7</td>\n",
       "      <td>1</td>\n",
       "      <td>0</td>\n",
       "      <td>1</td>\n",
       "      <td>1</td>\n",
       "      <td>0</td>\n",
       "      <td>0</td>\n",
       "      <td>3</td>\n",
       "      <td>1</td>\n",
       "      <td>7</td>\n",
       "      <td>1</td>\n",
       "      <td>False</td>\n",
       "    </tr>\n",
       "    <tr>\n",
       "      <th>12</th>\n",
       "      <td>AGOLLA</td>\n",
       "      <td>AGOLLA DOUNA</td>\n",
       "      <td>13</td>\n",
       "      <td>0</td>\n",
       "      <td>1</td>\n",
       "      <td>1</td>\n",
       "      <td>2</td>\n",
       "      <td>0</td>\n",
       "      <td>0</td>\n",
       "      <td>5</td>\n",
       "      <td>1</td>\n",
       "      <td>10</td>\n",
       "      <td>0</td>\n",
       "      <td>True</td>\n",
       "    </tr>\n",
       "    <tr>\n",
       "      <th>18</th>\n",
       "      <td>AGOLLA</td>\n",
       "      <td>BERE CENTRE</td>\n",
       "      <td>5</td>\n",
       "      <td>0</td>\n",
       "      <td>0</td>\n",
       "      <td>1</td>\n",
       "      <td>1</td>\n",
       "      <td>0</td>\n",
       "      <td>0</td>\n",
       "      <td>2</td>\n",
       "      <td>2</td>\n",
       "      <td>6</td>\n",
       "      <td>0</td>\n",
       "      <td>True</td>\n",
       "    </tr>\n",
       "    <tr>\n",
       "      <th>24</th>\n",
       "      <td>AGOLLA</td>\n",
       "      <td>BERE CENTRE</td>\n",
       "      <td>11</td>\n",
       "      <td>0</td>\n",
       "      <td>0</td>\n",
       "      <td>0</td>\n",
       "      <td>1</td>\n",
       "      <td>0</td>\n",
       "      <td>0</td>\n",
       "      <td>0</td>\n",
       "      <td>2</td>\n",
       "      <td>3</td>\n",
       "      <td>0</td>\n",
       "      <td>True</td>\n",
       "    </tr>\n",
       "    <tr>\n",
       "      <th>...</th>\n",
       "      <td>...</td>\n",
       "      <td>...</td>\n",
       "      <td>...</td>\n",
       "      <td>...</td>\n",
       "      <td>...</td>\n",
       "      <td>...</td>\n",
       "      <td>...</td>\n",
       "      <td>...</td>\n",
       "      <td>...</td>\n",
       "      <td>...</td>\n",
       "      <td>...</td>\n",
       "      <td>...</td>\n",
       "      <td>...</td>\n",
       "      <td>...</td>\n",
       "    </tr>\n",
       "    <tr>\n",
       "      <th>1890</th>\n",
       "      <td>WIDIGUE</td>\n",
       "      <td>ZENGUE</td>\n",
       "      <td>4</td>\n",
       "      <td>0</td>\n",
       "      <td>1</td>\n",
       "      <td>0</td>\n",
       "      <td>1</td>\n",
       "      <td>1</td>\n",
       "      <td>0</td>\n",
       "      <td>1</td>\n",
       "      <td>1</td>\n",
       "      <td>5</td>\n",
       "      <td>1</td>\n",
       "      <td>False</td>\n",
       "    </tr>\n",
       "    <tr>\n",
       "      <th>1896</th>\n",
       "      <td>WIDIGUE</td>\n",
       "      <td>ZENGUE</td>\n",
       "      <td>10</td>\n",
       "      <td>2</td>\n",
       "      <td>0</td>\n",
       "      <td>0</td>\n",
       "      <td>1</td>\n",
       "      <td>0</td>\n",
       "      <td>1</td>\n",
       "      <td>2</td>\n",
       "      <td>3</td>\n",
       "      <td>9</td>\n",
       "      <td>2</td>\n",
       "      <td>False</td>\n",
       "    </tr>\n",
       "    <tr>\n",
       "      <th>1902</th>\n",
       "      <td>WIDIGUE</td>\n",
       "      <td>ZENGUE</td>\n",
       "      <td>16</td>\n",
       "      <td>0</td>\n",
       "      <td>2</td>\n",
       "      <td>1</td>\n",
       "      <td>1</td>\n",
       "      <td>0</td>\n",
       "      <td>1</td>\n",
       "      <td>4</td>\n",
       "      <td>3</td>\n",
       "      <td>12</td>\n",
       "      <td>0</td>\n",
       "      <td>True</td>\n",
       "    </tr>\n",
       "    <tr>\n",
       "      <th>1908</th>\n",
       "      <td>WIDIGUE</td>\n",
       "      <td>ZENGUE</td>\n",
       "      <td>22</td>\n",
       "      <td>0</td>\n",
       "      <td>0</td>\n",
       "      <td>0</td>\n",
       "      <td>1</td>\n",
       "      <td>0</td>\n",
       "      <td>0</td>\n",
       "      <td>0</td>\n",
       "      <td>3</td>\n",
       "      <td>4</td>\n",
       "      <td>0</td>\n",
       "      <td>True</td>\n",
       "    </tr>\n",
       "    <tr>\n",
       "      <th>1914</th>\n",
       "      <td>WIDIGUE</td>\n",
       "      <td>ZENGUE</td>\n",
       "      <td>28</td>\n",
       "      <td>2</td>\n",
       "      <td>1</td>\n",
       "      <td>2</td>\n",
       "      <td>5</td>\n",
       "      <td>0</td>\n",
       "      <td>0</td>\n",
       "      <td>1</td>\n",
       "      <td>5</td>\n",
       "      <td>16</td>\n",
       "      <td>2</td>\n",
       "      <td>False</td>\n",
       "    </tr>\n",
       "  </tbody>\n",
       "</table>\n",
       "<p>320 rows × 14 columns</p>\n",
       "</div>"
      ],
      "text/plain": [
       "      LAWANAT      QUARTIER  N° MENAGE  < 1 MASC  1 - 4 MASC  5- 15 MASC  \\\n",
       "0      AGOLLA  AGOLLA DOUNA          1         0           1           1   \n",
       "6      AGOLLA  AGOLLA DOUNA          7         1           0           1   \n",
       "12     AGOLLA  AGOLLA DOUNA         13         0           1           1   \n",
       "18     AGOLLA   BERE CENTRE          5         0           0           1   \n",
       "24     AGOLLA   BERE CENTRE         11         0           0           0   \n",
       "...       ...           ...        ...       ...         ...         ...   \n",
       "1890  WIDIGUE        ZENGUE          4         0           1           0   \n",
       "1896  WIDIGUE        ZENGUE         10         2           0           0   \n",
       "1902  WIDIGUE        ZENGUE         16         0           2           1   \n",
       "1908  WIDIGUE        ZENGUE         22         0           0           0   \n",
       "1914  WIDIGUE        ZENGUE         28         2           1           2   \n",
       "\n",
       "      > 15 MASC  < 1 FEM  1 - 4 FEM  5 - 15 FEM  > 15 FEM  Total  < 1  \\\n",
       "0             3        0          2           3         4     14    0   \n",
       "6             1        0          0           3         1      7    1   \n",
       "12            2        0          0           5         1     10    0   \n",
       "18            1        0          0           2         2      6    0   \n",
       "24            1        0          0           0         2      3    0   \n",
       "...         ...      ...        ...         ...       ...    ...  ...   \n",
       "1890          1        1          0           1         1      5    1   \n",
       "1896          1        0          1           2         3      9    2   \n",
       "1902          1        0          1           4         3     12    0   \n",
       "1908          1        0          0           0         3      4    0   \n",
       "1914          5        0          0           1         5     16    2   \n",
       "\n",
       "      menage sans < 1  \n",
       "0                True  \n",
       "6               False  \n",
       "12               True  \n",
       "18               True  \n",
       "24               True  \n",
       "...               ...  \n",
       "1890            False  \n",
       "1896            False  \n",
       "1902             True  \n",
       "1908             True  \n",
       "1914            False  \n",
       "\n",
       "[320 rows x 14 columns]"
      ]
     },
     "execution_count": 34,
     "metadata": {},
     "output_type": "execute_result"
    }
   ],
   "source": [
    "echantillon_systematique"
   ]
  },
  {
   "cell_type": "code",
   "execution_count": 35,
   "id": "64c264c5",
   "metadata": {},
   "outputs": [
    {
     "data": {
      "text/plain": [
       "WIDI          0.231250\n",
       "WIDIGUE       0.184375\n",
       "AGOLLA        0.143750\n",
       "MERINGUE 2    0.106250\n",
       "MERINGUE 1    0.100000\n",
       "GUIA          0.096875\n",
       "GUEMERE       0.087500\n",
       "MERINGUE 3    0.050000\n",
       "Name: LAWANAT, dtype: float64"
      ]
     },
     "execution_count": 35,
     "metadata": {},
     "output_type": "execute_result"
    }
   ],
   "source": [
    "echantillon_systematique.LAWANAT.value_counts(normalize=True)"
   ]
  },
  {
   "cell_type": "markdown",
   "id": "d80711c9",
   "metadata": {},
   "source": [
    "L'échantillonnage systématique pose un problème : si les données ont été triées, ou s'il existe une sorte de modèle ou de signification derrière l'ordre des lignes, l'échantillon résultant peut ne pas être représentatif de l'ensemble de la population. Le problème peut être résolu en mélangeant les lignes, mais alors l'échantillonnage systématique équivaut à un échantillonnage aléatoire simple."
   ]
  },
  {
   "cell_type": "markdown",
   "id": "575ec60a",
   "metadata": {},
   "source": [
    "### 2.2 Echantillonnage systématique précédé d'un mélange"
   ]
  },
  {
   "cell_type": "code",
   "execution_count": 36,
   "id": "d273acfc",
   "metadata": {},
   "outputs": [],
   "source": [
    "# Ajouter une colonne index à la population\n",
    "population_id = population.reset_index(drop=True)"
   ]
  },
  {
   "cell_type": "code",
   "execution_count": 37,
   "id": "f1f223bf",
   "metadata": {},
   "outputs": [
    {
     "data": {
      "text/html": [
       "<div>\n",
       "<style scoped>\n",
       "    .dataframe tbody tr th:only-of-type {\n",
       "        vertical-align: middle;\n",
       "    }\n",
       "\n",
       "    .dataframe tbody tr th {\n",
       "        vertical-align: top;\n",
       "    }\n",
       "\n",
       "    .dataframe thead th {\n",
       "        text-align: right;\n",
       "    }\n",
       "</style>\n",
       "<table border=\"1\" class=\"dataframe\">\n",
       "  <thead>\n",
       "    <tr style=\"text-align: right;\">\n",
       "      <th></th>\n",
       "      <th>LAWANAT</th>\n",
       "      <th>QUARTIER</th>\n",
       "      <th>N° MENAGE</th>\n",
       "      <th>&lt; 1 MASC</th>\n",
       "      <th>1 - 4 MASC</th>\n",
       "      <th>5- 15 MASC</th>\n",
       "      <th>&gt; 15 MASC</th>\n",
       "      <th>&lt; 1 FEM</th>\n",
       "      <th>1 - 4 FEM</th>\n",
       "      <th>5 - 15 FEM</th>\n",
       "      <th>&gt; 15 FEM</th>\n",
       "      <th>Total</th>\n",
       "      <th>&lt; 1</th>\n",
       "      <th>menage sans &lt; 1</th>\n",
       "    </tr>\n",
       "  </thead>\n",
       "  <tbody>\n",
       "    <tr>\n",
       "      <th>0</th>\n",
       "      <td>AGOLLA</td>\n",
       "      <td>AGOLLA DOUNA</td>\n",
       "      <td>1</td>\n",
       "      <td>0</td>\n",
       "      <td>1</td>\n",
       "      <td>1</td>\n",
       "      <td>3</td>\n",
       "      <td>0</td>\n",
       "      <td>2</td>\n",
       "      <td>3</td>\n",
       "      <td>4</td>\n",
       "      <td>14</td>\n",
       "      <td>0</td>\n",
       "      <td>True</td>\n",
       "    </tr>\n",
       "    <tr>\n",
       "      <th>1</th>\n",
       "      <td>AGOLLA</td>\n",
       "      <td>AGOLLA DOUNA</td>\n",
       "      <td>2</td>\n",
       "      <td>0</td>\n",
       "      <td>1</td>\n",
       "      <td>2</td>\n",
       "      <td>2</td>\n",
       "      <td>0</td>\n",
       "      <td>0</td>\n",
       "      <td>1</td>\n",
       "      <td>2</td>\n",
       "      <td>8</td>\n",
       "      <td>0</td>\n",
       "      <td>True</td>\n",
       "    </tr>\n",
       "    <tr>\n",
       "      <th>2</th>\n",
       "      <td>AGOLLA</td>\n",
       "      <td>AGOLLA DOUNA</td>\n",
       "      <td>3</td>\n",
       "      <td>0</td>\n",
       "      <td>1</td>\n",
       "      <td>3</td>\n",
       "      <td>1</td>\n",
       "      <td>0</td>\n",
       "      <td>1</td>\n",
       "      <td>0</td>\n",
       "      <td>3</td>\n",
       "      <td>9</td>\n",
       "      <td>0</td>\n",
       "      <td>True</td>\n",
       "    </tr>\n",
       "    <tr>\n",
       "      <th>3</th>\n",
       "      <td>AGOLLA</td>\n",
       "      <td>AGOLLA DOUNA</td>\n",
       "      <td>4</td>\n",
       "      <td>0</td>\n",
       "      <td>0</td>\n",
       "      <td>1</td>\n",
       "      <td>3</td>\n",
       "      <td>1</td>\n",
       "      <td>0</td>\n",
       "      <td>0</td>\n",
       "      <td>1</td>\n",
       "      <td>6</td>\n",
       "      <td>1</td>\n",
       "      <td>False</td>\n",
       "    </tr>\n",
       "    <tr>\n",
       "      <th>4</th>\n",
       "      <td>AGOLLA</td>\n",
       "      <td>AGOLLA DOUNA</td>\n",
       "      <td>5</td>\n",
       "      <td>0</td>\n",
       "      <td>0</td>\n",
       "      <td>2</td>\n",
       "      <td>2</td>\n",
       "      <td>0</td>\n",
       "      <td>1</td>\n",
       "      <td>3</td>\n",
       "      <td>2</td>\n",
       "      <td>10</td>\n",
       "      <td>0</td>\n",
       "      <td>True</td>\n",
       "    </tr>\n",
       "  </tbody>\n",
       "</table>\n",
       "</div>"
      ],
      "text/plain": [
       "  LAWANAT      QUARTIER  N° MENAGE  < 1 MASC  1 - 4 MASC  5- 15 MASC  \\\n",
       "0  AGOLLA  AGOLLA DOUNA          1         0           1           1   \n",
       "1  AGOLLA  AGOLLA DOUNA          2         0           1           2   \n",
       "2  AGOLLA  AGOLLA DOUNA          3         0           1           3   \n",
       "3  AGOLLA  AGOLLA DOUNA          4         0           0           1   \n",
       "4  AGOLLA  AGOLLA DOUNA          5         0           0           2   \n",
       "\n",
       "   > 15 MASC  < 1 FEM  1 - 4 FEM  5 - 15 FEM  > 15 FEM  Total  < 1  \\\n",
       "0          3        0          2           3         4     14    0   \n",
       "1          2        0          0           1         2      8    0   \n",
       "2          1        0          1           0         3      9    0   \n",
       "3          3        1          0           0         1      6    1   \n",
       "4          2        0          1           3         2     10    0   \n",
       "\n",
       "   menage sans < 1  \n",
       "0             True  \n",
       "1             True  \n",
       "2             True  \n",
       "3            False  \n",
       "4             True  "
      ]
     },
     "execution_count": 37,
     "metadata": {},
     "output_type": "execute_result"
    }
   ],
   "source": [
    "population_id.head()"
   ]
  },
  {
   "cell_type": "code",
   "execution_count": 38,
   "id": "0ffb5273",
   "metadata": {},
   "outputs": [],
   "source": [
    "# Melanger les lignes de la population\n",
    "population_melangee = population_id.sample(frac=1, random_state=2024)"
   ]
  },
  {
   "cell_type": "code",
   "execution_count": 39,
   "id": "edf36eb9",
   "metadata": {},
   "outputs": [
    {
     "data": {
      "text/html": [
       "<div>\n",
       "<style scoped>\n",
       "    .dataframe tbody tr th:only-of-type {\n",
       "        vertical-align: middle;\n",
       "    }\n",
       "\n",
       "    .dataframe tbody tr th {\n",
       "        vertical-align: top;\n",
       "    }\n",
       "\n",
       "    .dataframe thead th {\n",
       "        text-align: right;\n",
       "    }\n",
       "</style>\n",
       "<table border=\"1\" class=\"dataframe\">\n",
       "  <thead>\n",
       "    <tr style=\"text-align: right;\">\n",
       "      <th></th>\n",
       "      <th>LAWANAT</th>\n",
       "      <th>QUARTIER</th>\n",
       "      <th>N° MENAGE</th>\n",
       "      <th>&lt; 1 MASC</th>\n",
       "      <th>1 - 4 MASC</th>\n",
       "      <th>5- 15 MASC</th>\n",
       "      <th>&gt; 15 MASC</th>\n",
       "      <th>&lt; 1 FEM</th>\n",
       "      <th>1 - 4 FEM</th>\n",
       "      <th>5 - 15 FEM</th>\n",
       "      <th>&gt; 15 FEM</th>\n",
       "      <th>Total</th>\n",
       "      <th>&lt; 1</th>\n",
       "      <th>menage sans &lt; 1</th>\n",
       "    </tr>\n",
       "  </thead>\n",
       "  <tbody>\n",
       "    <tr>\n",
       "      <th>561</th>\n",
       "      <td>GUIA</td>\n",
       "      <td>GUIA RAKAYE</td>\n",
       "      <td>18</td>\n",
       "      <td>0</td>\n",
       "      <td>1</td>\n",
       "      <td>0</td>\n",
       "      <td>0</td>\n",
       "      <td>0</td>\n",
       "      <td>1</td>\n",
       "      <td>0</td>\n",
       "      <td>1</td>\n",
       "      <td>3</td>\n",
       "      <td>0</td>\n",
       "      <td>True</td>\n",
       "    </tr>\n",
       "    <tr>\n",
       "      <th>32</th>\n",
       "      <td>AGOLLA</td>\n",
       "      <td>BERE CENTRE</td>\n",
       "      <td>19</td>\n",
       "      <td>0</td>\n",
       "      <td>0</td>\n",
       "      <td>0</td>\n",
       "      <td>0</td>\n",
       "      <td>0</td>\n",
       "      <td>0</td>\n",
       "      <td>2</td>\n",
       "      <td>2</td>\n",
       "      <td>4</td>\n",
       "      <td>0</td>\n",
       "      <td>True</td>\n",
       "    </tr>\n",
       "    <tr>\n",
       "      <th>918</th>\n",
       "      <td>MERINGUE 2</td>\n",
       "      <td>SOUALAYE</td>\n",
       "      <td>3</td>\n",
       "      <td>1</td>\n",
       "      <td>0</td>\n",
       "      <td>2</td>\n",
       "      <td>4</td>\n",
       "      <td>0</td>\n",
       "      <td>2</td>\n",
       "      <td>1</td>\n",
       "      <td>4</td>\n",
       "      <td>14</td>\n",
       "      <td>1</td>\n",
       "      <td>False</td>\n",
       "    </tr>\n",
       "    <tr>\n",
       "      <th>1789</th>\n",
       "      <td>WIDIGUE</td>\n",
       "      <td>VALA</td>\n",
       "      <td>10</td>\n",
       "      <td>0</td>\n",
       "      <td>1</td>\n",
       "      <td>3</td>\n",
       "      <td>3</td>\n",
       "      <td>0</td>\n",
       "      <td>3</td>\n",
       "      <td>5</td>\n",
       "      <td>4</td>\n",
       "      <td>19</td>\n",
       "      <td>0</td>\n",
       "      <td>True</td>\n",
       "    </tr>\n",
       "    <tr>\n",
       "      <th>301</th>\n",
       "      <td>GUEMERE</td>\n",
       "      <td>BOURMI NGUEVELEKE</td>\n",
       "      <td>29</td>\n",
       "      <td>0</td>\n",
       "      <td>0</td>\n",
       "      <td>0</td>\n",
       "      <td>1</td>\n",
       "      <td>0</td>\n",
       "      <td>0</td>\n",
       "      <td>0</td>\n",
       "      <td>2</td>\n",
       "      <td>3</td>\n",
       "      <td>0</td>\n",
       "      <td>True</td>\n",
       "    </tr>\n",
       "  </tbody>\n",
       "</table>\n",
       "</div>"
      ],
      "text/plain": [
       "         LAWANAT           QUARTIER  N° MENAGE  < 1 MASC  1 - 4 MASC  \\\n",
       "561         GUIA        GUIA RAKAYE         18         0           1   \n",
       "32        AGOLLA        BERE CENTRE         19         0           0   \n",
       "918   MERINGUE 2           SOUALAYE          3         1           0   \n",
       "1789     WIDIGUE               VALA         10         0           1   \n",
       "301      GUEMERE  BOURMI NGUEVELEKE         29         0           0   \n",
       "\n",
       "      5- 15 MASC  > 15 MASC  < 1 FEM  1 - 4 FEM  5 - 15 FEM  > 15 FEM  Total  \\\n",
       "561            0          0        0          1           0         1      3   \n",
       "32             0          0        0          0           2         2      4   \n",
       "918            2          4        0          2           1         4     14   \n",
       "1789           3          3        0          3           5         4     19   \n",
       "301            0          1        0          0           0         2      3   \n",
       "\n",
       "      < 1  menage sans < 1  \n",
       "561     0             True  \n",
       "32      0             True  \n",
       "918     1            False  \n",
       "1789    0             True  \n",
       "301     0             True  "
      ]
     },
     "execution_count": 39,
     "metadata": {},
     "output_type": "execute_result"
    }
   ],
   "source": [
    "population_melangee.head()"
   ]
  },
  {
   "cell_type": "code",
   "execution_count": 40,
   "id": "f1595080",
   "metadata": {},
   "outputs": [],
   "source": [
    "# Supprimer la colonne index\n",
    "population_melangee = population_melangee.reset_index(drop=True)"
   ]
  },
  {
   "cell_type": "code",
   "execution_count": 41,
   "id": "7ea4da7c",
   "metadata": {},
   "outputs": [
    {
     "data": {
      "text/html": [
       "<div>\n",
       "<style scoped>\n",
       "    .dataframe tbody tr th:only-of-type {\n",
       "        vertical-align: middle;\n",
       "    }\n",
       "\n",
       "    .dataframe tbody tr th {\n",
       "        vertical-align: top;\n",
       "    }\n",
       "\n",
       "    .dataframe thead th {\n",
       "        text-align: right;\n",
       "    }\n",
       "</style>\n",
       "<table border=\"1\" class=\"dataframe\">\n",
       "  <thead>\n",
       "    <tr style=\"text-align: right;\">\n",
       "      <th></th>\n",
       "      <th>LAWANAT</th>\n",
       "      <th>QUARTIER</th>\n",
       "      <th>N° MENAGE</th>\n",
       "      <th>&lt; 1 MASC</th>\n",
       "      <th>1 - 4 MASC</th>\n",
       "      <th>5- 15 MASC</th>\n",
       "      <th>&gt; 15 MASC</th>\n",
       "      <th>&lt; 1 FEM</th>\n",
       "      <th>1 - 4 FEM</th>\n",
       "      <th>5 - 15 FEM</th>\n",
       "      <th>&gt; 15 FEM</th>\n",
       "      <th>Total</th>\n",
       "      <th>&lt; 1</th>\n",
       "      <th>menage sans &lt; 1</th>\n",
       "    </tr>\n",
       "  </thead>\n",
       "  <tbody>\n",
       "    <tr>\n",
       "      <th>0</th>\n",
       "      <td>GUIA</td>\n",
       "      <td>GUIA RAKAYE</td>\n",
       "      <td>18</td>\n",
       "      <td>0</td>\n",
       "      <td>1</td>\n",
       "      <td>0</td>\n",
       "      <td>0</td>\n",
       "      <td>0</td>\n",
       "      <td>1</td>\n",
       "      <td>0</td>\n",
       "      <td>1</td>\n",
       "      <td>3</td>\n",
       "      <td>0</td>\n",
       "      <td>True</td>\n",
       "    </tr>\n",
       "    <tr>\n",
       "      <th>1</th>\n",
       "      <td>AGOLLA</td>\n",
       "      <td>BERE CENTRE</td>\n",
       "      <td>19</td>\n",
       "      <td>0</td>\n",
       "      <td>0</td>\n",
       "      <td>0</td>\n",
       "      <td>0</td>\n",
       "      <td>0</td>\n",
       "      <td>0</td>\n",
       "      <td>2</td>\n",
       "      <td>2</td>\n",
       "      <td>4</td>\n",
       "      <td>0</td>\n",
       "      <td>True</td>\n",
       "    </tr>\n",
       "    <tr>\n",
       "      <th>2</th>\n",
       "      <td>MERINGUE 2</td>\n",
       "      <td>SOUALAYE</td>\n",
       "      <td>3</td>\n",
       "      <td>1</td>\n",
       "      <td>0</td>\n",
       "      <td>2</td>\n",
       "      <td>4</td>\n",
       "      <td>0</td>\n",
       "      <td>2</td>\n",
       "      <td>1</td>\n",
       "      <td>4</td>\n",
       "      <td>14</td>\n",
       "      <td>1</td>\n",
       "      <td>False</td>\n",
       "    </tr>\n",
       "    <tr>\n",
       "      <th>3</th>\n",
       "      <td>WIDIGUE</td>\n",
       "      <td>VALA</td>\n",
       "      <td>10</td>\n",
       "      <td>0</td>\n",
       "      <td>1</td>\n",
       "      <td>3</td>\n",
       "      <td>3</td>\n",
       "      <td>0</td>\n",
       "      <td>3</td>\n",
       "      <td>5</td>\n",
       "      <td>4</td>\n",
       "      <td>19</td>\n",
       "      <td>0</td>\n",
       "      <td>True</td>\n",
       "    </tr>\n",
       "    <tr>\n",
       "      <th>4</th>\n",
       "      <td>GUEMERE</td>\n",
       "      <td>BOURMI NGUEVELEKE</td>\n",
       "      <td>29</td>\n",
       "      <td>0</td>\n",
       "      <td>0</td>\n",
       "      <td>0</td>\n",
       "      <td>1</td>\n",
       "      <td>0</td>\n",
       "      <td>0</td>\n",
       "      <td>0</td>\n",
       "      <td>2</td>\n",
       "      <td>3</td>\n",
       "      <td>0</td>\n",
       "      <td>True</td>\n",
       "    </tr>\n",
       "  </tbody>\n",
       "</table>\n",
       "</div>"
      ],
      "text/plain": [
       "      LAWANAT           QUARTIER  N° MENAGE  < 1 MASC  1 - 4 MASC  5- 15 MASC  \\\n",
       "0        GUIA        GUIA RAKAYE         18         0           1           0   \n",
       "1      AGOLLA        BERE CENTRE         19         0           0           0   \n",
       "2  MERINGUE 2           SOUALAYE          3         1           0           2   \n",
       "3     WIDIGUE               VALA         10         0           1           3   \n",
       "4     GUEMERE  BOURMI NGUEVELEKE         29         0           0           0   \n",
       "\n",
       "   > 15 MASC  < 1 FEM  1 - 4 FEM  5 - 15 FEM  > 15 FEM  Total  < 1  \\\n",
       "0          0        0          1           0         1      3    0   \n",
       "1          0        0          0           2         2      4    0   \n",
       "2          4        0          2           1         4     14    1   \n",
       "3          3        0          3           5         4     19    0   \n",
       "4          1        0          0           0         2      3    0   \n",
       "\n",
       "   menage sans < 1  \n",
       "0             True  \n",
       "1             True  \n",
       "2            False  \n",
       "3             True  \n",
       "4             True  "
      ]
     },
     "execution_count": 41,
     "metadata": {},
     "output_type": "execute_result"
    }
   ],
   "source": [
    "population_melangee.head()"
   ]
  },
  {
   "cell_type": "code",
   "execution_count": 42,
   "id": "54f2ef2b",
   "metadata": {},
   "outputs": [
    {
     "data": {
      "text/html": [
       "<div>\n",
       "<style scoped>\n",
       "    .dataframe tbody tr th:only-of-type {\n",
       "        vertical-align: middle;\n",
       "    }\n",
       "\n",
       "    .dataframe tbody tr th {\n",
       "        vertical-align: top;\n",
       "    }\n",
       "\n",
       "    .dataframe thead th {\n",
       "        text-align: right;\n",
       "    }\n",
       "</style>\n",
       "<table border=\"1\" class=\"dataframe\">\n",
       "  <thead>\n",
       "    <tr style=\"text-align: right;\">\n",
       "      <th></th>\n",
       "      <th>index</th>\n",
       "      <th>LAWANAT</th>\n",
       "      <th>QUARTIER</th>\n",
       "      <th>N° MENAGE</th>\n",
       "      <th>&lt; 1 MASC</th>\n",
       "      <th>1 - 4 MASC</th>\n",
       "      <th>5- 15 MASC</th>\n",
       "      <th>&gt; 15 MASC</th>\n",
       "      <th>&lt; 1 FEM</th>\n",
       "      <th>1 - 4 FEM</th>\n",
       "      <th>5 - 15 FEM</th>\n",
       "      <th>&gt; 15 FEM</th>\n",
       "      <th>Total</th>\n",
       "      <th>&lt; 1</th>\n",
       "      <th>menage sans &lt; 1</th>\n",
       "    </tr>\n",
       "  </thead>\n",
       "  <tbody>\n",
       "    <tr>\n",
       "      <th>0</th>\n",
       "      <td>0</td>\n",
       "      <td>GUIA</td>\n",
       "      <td>GUIA RAKAYE</td>\n",
       "      <td>18</td>\n",
       "      <td>0</td>\n",
       "      <td>1</td>\n",
       "      <td>0</td>\n",
       "      <td>0</td>\n",
       "      <td>0</td>\n",
       "      <td>1</td>\n",
       "      <td>0</td>\n",
       "      <td>1</td>\n",
       "      <td>3</td>\n",
       "      <td>0</td>\n",
       "      <td>True</td>\n",
       "    </tr>\n",
       "    <tr>\n",
       "      <th>1</th>\n",
       "      <td>1</td>\n",
       "      <td>AGOLLA</td>\n",
       "      <td>BERE CENTRE</td>\n",
       "      <td>19</td>\n",
       "      <td>0</td>\n",
       "      <td>0</td>\n",
       "      <td>0</td>\n",
       "      <td>0</td>\n",
       "      <td>0</td>\n",
       "      <td>0</td>\n",
       "      <td>2</td>\n",
       "      <td>2</td>\n",
       "      <td>4</td>\n",
       "      <td>0</td>\n",
       "      <td>True</td>\n",
       "    </tr>\n",
       "    <tr>\n",
       "      <th>2</th>\n",
       "      <td>2</td>\n",
       "      <td>MERINGUE 2</td>\n",
       "      <td>SOUALAYE</td>\n",
       "      <td>3</td>\n",
       "      <td>1</td>\n",
       "      <td>0</td>\n",
       "      <td>2</td>\n",
       "      <td>4</td>\n",
       "      <td>0</td>\n",
       "      <td>2</td>\n",
       "      <td>1</td>\n",
       "      <td>4</td>\n",
       "      <td>14</td>\n",
       "      <td>1</td>\n",
       "      <td>False</td>\n",
       "    </tr>\n",
       "    <tr>\n",
       "      <th>3</th>\n",
       "      <td>3</td>\n",
       "      <td>WIDIGUE</td>\n",
       "      <td>VALA</td>\n",
       "      <td>10</td>\n",
       "      <td>0</td>\n",
       "      <td>1</td>\n",
       "      <td>3</td>\n",
       "      <td>3</td>\n",
       "      <td>0</td>\n",
       "      <td>3</td>\n",
       "      <td>5</td>\n",
       "      <td>4</td>\n",
       "      <td>19</td>\n",
       "      <td>0</td>\n",
       "      <td>True</td>\n",
       "    </tr>\n",
       "    <tr>\n",
       "      <th>4</th>\n",
       "      <td>4</td>\n",
       "      <td>GUEMERE</td>\n",
       "      <td>BOURMI NGUEVELEKE</td>\n",
       "      <td>29</td>\n",
       "      <td>0</td>\n",
       "      <td>0</td>\n",
       "      <td>0</td>\n",
       "      <td>1</td>\n",
       "      <td>0</td>\n",
       "      <td>0</td>\n",
       "      <td>0</td>\n",
       "      <td>2</td>\n",
       "      <td>3</td>\n",
       "      <td>0</td>\n",
       "      <td>True</td>\n",
       "    </tr>\n",
       "    <tr>\n",
       "      <th>...</th>\n",
       "      <td>...</td>\n",
       "      <td>...</td>\n",
       "      <td>...</td>\n",
       "      <td>...</td>\n",
       "      <td>...</td>\n",
       "      <td>...</td>\n",
       "      <td>...</td>\n",
       "      <td>...</td>\n",
       "      <td>...</td>\n",
       "      <td>...</td>\n",
       "      <td>...</td>\n",
       "      <td>...</td>\n",
       "      <td>...</td>\n",
       "      <td>...</td>\n",
       "      <td>...</td>\n",
       "    </tr>\n",
       "    <tr>\n",
       "      <th>1913</th>\n",
       "      <td>1913</td>\n",
       "      <td>GUIA</td>\n",
       "      <td>GUIA MOKOLOM</td>\n",
       "      <td>37</td>\n",
       "      <td>0</td>\n",
       "      <td>0</td>\n",
       "      <td>0</td>\n",
       "      <td>1</td>\n",
       "      <td>0</td>\n",
       "      <td>0</td>\n",
       "      <td>4</td>\n",
       "      <td>2</td>\n",
       "      <td>7</td>\n",
       "      <td>0</td>\n",
       "      <td>True</td>\n",
       "    </tr>\n",
       "    <tr>\n",
       "      <th>1914</th>\n",
       "      <td>1914</td>\n",
       "      <td>MERINGUE 1</td>\n",
       "      <td>DARAM</td>\n",
       "      <td>2</td>\n",
       "      <td>0</td>\n",
       "      <td>2</td>\n",
       "      <td>3</td>\n",
       "      <td>4</td>\n",
       "      <td>1</td>\n",
       "      <td>0</td>\n",
       "      <td>4</td>\n",
       "      <td>6</td>\n",
       "      <td>20</td>\n",
       "      <td>1</td>\n",
       "      <td>False</td>\n",
       "    </tr>\n",
       "    <tr>\n",
       "      <th>1915</th>\n",
       "      <td>1915</td>\n",
       "      <td>GUIA</td>\n",
       "      <td>GUIA WIDI</td>\n",
       "      <td>36</td>\n",
       "      <td>0</td>\n",
       "      <td>3</td>\n",
       "      <td>4</td>\n",
       "      <td>3</td>\n",
       "      <td>0</td>\n",
       "      <td>0</td>\n",
       "      <td>3</td>\n",
       "      <td>4</td>\n",
       "      <td>17</td>\n",
       "      <td>0</td>\n",
       "      <td>True</td>\n",
       "    </tr>\n",
       "    <tr>\n",
       "      <th>1916</th>\n",
       "      <td>1916</td>\n",
       "      <td>WIDI</td>\n",
       "      <td>YIKA 1</td>\n",
       "      <td>28</td>\n",
       "      <td>0</td>\n",
       "      <td>1</td>\n",
       "      <td>1</td>\n",
       "      <td>4</td>\n",
       "      <td>1</td>\n",
       "      <td>4</td>\n",
       "      <td>4</td>\n",
       "      <td>5</td>\n",
       "      <td>20</td>\n",
       "      <td>1</td>\n",
       "      <td>False</td>\n",
       "    </tr>\n",
       "    <tr>\n",
       "      <th>1917</th>\n",
       "      <td>1917</td>\n",
       "      <td>WIDIGUE</td>\n",
       "      <td>HLAGAM GOURIVA 2</td>\n",
       "      <td>6</td>\n",
       "      <td>0</td>\n",
       "      <td>0</td>\n",
       "      <td>1</td>\n",
       "      <td>3</td>\n",
       "      <td>0</td>\n",
       "      <td>0</td>\n",
       "      <td>3</td>\n",
       "      <td>13</td>\n",
       "      <td>20</td>\n",
       "      <td>0</td>\n",
       "      <td>True</td>\n",
       "    </tr>\n",
       "  </tbody>\n",
       "</table>\n",
       "<p>1918 rows × 15 columns</p>\n",
       "</div>"
      ],
      "text/plain": [
       "      index     LAWANAT           QUARTIER  N° MENAGE  < 1 MASC  1 - 4 MASC  \\\n",
       "0         0        GUIA        GUIA RAKAYE         18         0           1   \n",
       "1         1      AGOLLA        BERE CENTRE         19         0           0   \n",
       "2         2  MERINGUE 2           SOUALAYE          3         1           0   \n",
       "3         3     WIDIGUE               VALA         10         0           1   \n",
       "4         4     GUEMERE  BOURMI NGUEVELEKE         29         0           0   \n",
       "...     ...         ...                ...        ...       ...         ...   \n",
       "1913   1913        GUIA       GUIA MOKOLOM         37         0           0   \n",
       "1914   1914  MERINGUE 1              DARAM          2         0           2   \n",
       "1915   1915        GUIA          GUIA WIDI         36         0           3   \n",
       "1916   1916        WIDI             YIKA 1         28         0           1   \n",
       "1917   1917     WIDIGUE   HLAGAM GOURIVA 2          6         0           0   \n",
       "\n",
       "      5- 15 MASC  > 15 MASC  < 1 FEM  1 - 4 FEM  5 - 15 FEM  > 15 FEM  Total  \\\n",
       "0              0          0        0          1           0         1      3   \n",
       "1              0          0        0          0           2         2      4   \n",
       "2              2          4        0          2           1         4     14   \n",
       "3              3          3        0          3           5         4     19   \n",
       "4              0          1        0          0           0         2      3   \n",
       "...          ...        ...      ...        ...         ...       ...    ...   \n",
       "1913           0          1        0          0           4         2      7   \n",
       "1914           3          4        1          0           4         6     20   \n",
       "1915           4          3        0          0           3         4     17   \n",
       "1916           1          4        1          4           4         5     20   \n",
       "1917           1          3        0          0           3        13     20   \n",
       "\n",
       "      < 1  menage sans < 1  \n",
       "0       0             True  \n",
       "1       0             True  \n",
       "2       1            False  \n",
       "3       0             True  \n",
       "4       0             True  \n",
       "...   ...              ...  \n",
       "1913    0             True  \n",
       "1914    1            False  \n",
       "1915    0             True  \n",
       "1916    1            False  \n",
       "1917    0             True  \n",
       "\n",
       "[1918 rows x 15 columns]"
      ]
     },
     "execution_count": 42,
     "metadata": {},
     "output_type": "execute_result"
    }
   ],
   "source": [
    "population_melangee.reset_index()"
   ]
  },
  {
   "cell_type": "code",
   "execution_count": 43,
   "id": "f3c7a41b",
   "metadata": {},
   "outputs": [],
   "source": [
    "echantillon_systematique_2 = population_melangee.iloc[::pas_de_sondage]"
   ]
  },
  {
   "cell_type": "code",
   "execution_count": 44,
   "id": "189fba6b",
   "metadata": {},
   "outputs": [
    {
     "data": {
      "text/html": [
       "<div>\n",
       "<style scoped>\n",
       "    .dataframe tbody tr th:only-of-type {\n",
       "        vertical-align: middle;\n",
       "    }\n",
       "\n",
       "    .dataframe tbody tr th {\n",
       "        vertical-align: top;\n",
       "    }\n",
       "\n",
       "    .dataframe thead th {\n",
       "        text-align: right;\n",
       "    }\n",
       "</style>\n",
       "<table border=\"1\" class=\"dataframe\">\n",
       "  <thead>\n",
       "    <tr style=\"text-align: right;\">\n",
       "      <th></th>\n",
       "      <th>LAWANAT</th>\n",
       "      <th>QUARTIER</th>\n",
       "      <th>N° MENAGE</th>\n",
       "      <th>&lt; 1 MASC</th>\n",
       "      <th>1 - 4 MASC</th>\n",
       "      <th>5- 15 MASC</th>\n",
       "      <th>&gt; 15 MASC</th>\n",
       "      <th>&lt; 1 FEM</th>\n",
       "      <th>1 - 4 FEM</th>\n",
       "      <th>5 - 15 FEM</th>\n",
       "      <th>&gt; 15 FEM</th>\n",
       "      <th>Total</th>\n",
       "      <th>&lt; 1</th>\n",
       "      <th>menage sans &lt; 1</th>\n",
       "    </tr>\n",
       "  </thead>\n",
       "  <tbody>\n",
       "    <tr>\n",
       "      <th>0</th>\n",
       "      <td>GUIA</td>\n",
       "      <td>GUIA RAKAYE</td>\n",
       "      <td>18</td>\n",
       "      <td>0</td>\n",
       "      <td>1</td>\n",
       "      <td>0</td>\n",
       "      <td>0</td>\n",
       "      <td>0</td>\n",
       "      <td>1</td>\n",
       "      <td>0</td>\n",
       "      <td>1</td>\n",
       "      <td>3</td>\n",
       "      <td>0</td>\n",
       "      <td>True</td>\n",
       "    </tr>\n",
       "    <tr>\n",
       "      <th>6</th>\n",
       "      <td>WIDI</td>\n",
       "      <td>DINGUE</td>\n",
       "      <td>28</td>\n",
       "      <td>0</td>\n",
       "      <td>2</td>\n",
       "      <td>0</td>\n",
       "      <td>1</td>\n",
       "      <td>0</td>\n",
       "      <td>0</td>\n",
       "      <td>0</td>\n",
       "      <td>4</td>\n",
       "      <td>7</td>\n",
       "      <td>0</td>\n",
       "      <td>True</td>\n",
       "    </tr>\n",
       "    <tr>\n",
       "      <th>12</th>\n",
       "      <td>WIDIGUE</td>\n",
       "      <td>ZENGUE</td>\n",
       "      <td>1</td>\n",
       "      <td>0</td>\n",
       "      <td>1</td>\n",
       "      <td>0</td>\n",
       "      <td>1</td>\n",
       "      <td>0</td>\n",
       "      <td>0</td>\n",
       "      <td>1</td>\n",
       "      <td>2</td>\n",
       "      <td>5</td>\n",
       "      <td>0</td>\n",
       "      <td>True</td>\n",
       "    </tr>\n",
       "    <tr>\n",
       "      <th>18</th>\n",
       "      <td>WIDIGUE</td>\n",
       "      <td>HLAGAM GOURIVA 3</td>\n",
       "      <td>4</td>\n",
       "      <td>0</td>\n",
       "      <td>0</td>\n",
       "      <td>1</td>\n",
       "      <td>1</td>\n",
       "      <td>0</td>\n",
       "      <td>2</td>\n",
       "      <td>2</td>\n",
       "      <td>2</td>\n",
       "      <td>8</td>\n",
       "      <td>0</td>\n",
       "      <td>True</td>\n",
       "    </tr>\n",
       "    <tr>\n",
       "      <th>24</th>\n",
       "      <td>WIDI</td>\n",
       "      <td>MINAWA</td>\n",
       "      <td>44</td>\n",
       "      <td>0</td>\n",
       "      <td>0</td>\n",
       "      <td>1</td>\n",
       "      <td>3</td>\n",
       "      <td>0</td>\n",
       "      <td>0</td>\n",
       "      <td>0</td>\n",
       "      <td>2</td>\n",
       "      <td>6</td>\n",
       "      <td>0</td>\n",
       "      <td>True</td>\n",
       "    </tr>\n",
       "  </tbody>\n",
       "</table>\n",
       "</div>"
      ],
      "text/plain": [
       "    LAWANAT          QUARTIER  N° MENAGE  < 1 MASC  1 - 4 MASC  5- 15 MASC  \\\n",
       "0      GUIA       GUIA RAKAYE         18         0           1           0   \n",
       "6      WIDI            DINGUE         28         0           2           0   \n",
       "12  WIDIGUE            ZENGUE          1         0           1           0   \n",
       "18  WIDIGUE  HLAGAM GOURIVA 3          4         0           0           1   \n",
       "24     WIDI            MINAWA         44         0           0           1   \n",
       "\n",
       "    > 15 MASC  < 1 FEM  1 - 4 FEM  5 - 15 FEM  > 15 FEM  Total  < 1  \\\n",
       "0           0        0          1           0         1      3    0   \n",
       "6           1        0          0           0         4      7    0   \n",
       "12          1        0          0           1         2      5    0   \n",
       "18          1        0          2           2         2      8    0   \n",
       "24          3        0          0           0         2      6    0   \n",
       "\n",
       "    menage sans < 1  \n",
       "0              True  \n",
       "6              True  \n",
       "12             True  \n",
       "18             True  \n",
       "24             True  "
      ]
     },
     "execution_count": 44,
     "metadata": {},
     "output_type": "execute_result"
    }
   ],
   "source": [
    "echantillon_systematique_2.head()"
   ]
  },
  {
   "cell_type": "code",
   "execution_count": 45,
   "id": "5f0a589c",
   "metadata": {},
   "outputs": [
    {
     "data": {
      "text/plain": [
       "(320, 14)"
      ]
     },
     "execution_count": 45,
     "metadata": {},
     "output_type": "execute_result"
    }
   ],
   "source": [
    "echantillon_systematique_2.shape"
   ]
  },
  {
   "cell_type": "code",
   "execution_count": 46,
   "id": "83400f6c",
   "metadata": {},
   "outputs": [
    {
     "data": {
      "text/plain": [
       "WIDI          0.221875\n",
       "WIDIGUE       0.187500\n",
       "AGOLLA        0.128125\n",
       "MERINGUE 1    0.125000\n",
       "MERINGUE 2    0.109375\n",
       "GUIA          0.103125\n",
       "GUEMERE       0.065625\n",
       "MERINGUE 3    0.059375\n",
       "Name: LAWANAT, dtype: float64"
      ]
     },
     "execution_count": 46,
     "metadata": {},
     "output_type": "execute_result"
    }
   ],
   "source": [
    "echantillon_systematique_2.LAWANAT.value_counts(normalize=True)"
   ]
  },
  {
   "cell_type": "markdown",
   "id": "a5612aaf-537e-413c-93c9-63c435cee2e1",
   "metadata": {},
   "source": [
    "#### Comparaison des différents échantillon en terme de proportion de ménage ou unité de sondage"
   ]
  },
  {
   "cell_type": "code",
   "execution_count": 47,
   "id": "61823232",
   "metadata": {},
   "outputs": [],
   "source": [
    "df2=pd.concat([population.LAWANAT.value_counts(normalize=True), echantillon_systematique_2.LAWANAT.value_counts(normalize=True),echantillon_systematique.LAWANAT.value_counts(normalize=True)],axis=1)"
   ]
  },
  {
   "cell_type": "code",
   "execution_count": 48,
   "id": "d6ad0f3d",
   "metadata": {},
   "outputs": [],
   "source": [
    "df2.columns = [\"Pop\", \"Sampl_systematic_2\", \"Sampl_systematic_1\"]"
   ]
  },
  {
   "cell_type": "code",
   "execution_count": 49,
   "id": "404600ba",
   "metadata": {},
   "outputs": [
    {
     "data": {
      "text/html": [
       "<div>\n",
       "<style scoped>\n",
       "    .dataframe tbody tr th:only-of-type {\n",
       "        vertical-align: middle;\n",
       "    }\n",
       "\n",
       "    .dataframe tbody tr th {\n",
       "        vertical-align: top;\n",
       "    }\n",
       "\n",
       "    .dataframe thead th {\n",
       "        text-align: right;\n",
       "    }\n",
       "</style>\n",
       "<table border=\"1\" class=\"dataframe\">\n",
       "  <thead>\n",
       "    <tr style=\"text-align: right;\">\n",
       "      <th></th>\n",
       "      <th>Pop</th>\n",
       "      <th>Sampl_systematic_2</th>\n",
       "      <th>Sampl_systematic_1</th>\n",
       "    </tr>\n",
       "  </thead>\n",
       "  <tbody>\n",
       "    <tr>\n",
       "      <th>WIDI</th>\n",
       "      <td>0.230970</td>\n",
       "      <td>0.221875</td>\n",
       "      <td>0.231250</td>\n",
       "    </tr>\n",
       "    <tr>\n",
       "      <th>WIDIGUE</th>\n",
       "      <td>0.186131</td>\n",
       "      <td>0.187500</td>\n",
       "      <td>0.184375</td>\n",
       "    </tr>\n",
       "    <tr>\n",
       "      <th>AGOLLA</th>\n",
       "      <td>0.142336</td>\n",
       "      <td>0.128125</td>\n",
       "      <td>0.143750</td>\n",
       "    </tr>\n",
       "    <tr>\n",
       "      <th>MERINGUE 2</th>\n",
       "      <td>0.106361</td>\n",
       "      <td>0.109375</td>\n",
       "      <td>0.106250</td>\n",
       "    </tr>\n",
       "    <tr>\n",
       "      <th>MERINGUE 1</th>\n",
       "      <td>0.100104</td>\n",
       "      <td>0.125000</td>\n",
       "      <td>0.100000</td>\n",
       "    </tr>\n",
       "    <tr>\n",
       "      <th>GUIA</th>\n",
       "      <td>0.096976</td>\n",
       "      <td>0.103125</td>\n",
       "      <td>0.096875</td>\n",
       "    </tr>\n",
       "    <tr>\n",
       "      <th>GUEMERE</th>\n",
       "      <td>0.087070</td>\n",
       "      <td>0.065625</td>\n",
       "      <td>0.087500</td>\n",
       "    </tr>\n",
       "    <tr>\n",
       "      <th>MERINGUE 3</th>\n",
       "      <td>0.050052</td>\n",
       "      <td>0.059375</td>\n",
       "      <td>0.050000</td>\n",
       "    </tr>\n",
       "  </tbody>\n",
       "</table>\n",
       "</div>"
      ],
      "text/plain": [
       "                 Pop  Sampl_systematic_2  Sampl_systematic_1\n",
       "WIDI        0.230970            0.221875            0.231250\n",
       "WIDIGUE     0.186131            0.187500            0.184375\n",
       "AGOLLA      0.142336            0.128125            0.143750\n",
       "MERINGUE 2  0.106361            0.109375            0.106250\n",
       "MERINGUE 1  0.100104            0.125000            0.100000\n",
       "GUIA        0.096976            0.103125            0.096875\n",
       "GUEMERE     0.087070            0.065625            0.087500\n",
       "MERINGUE 3  0.050052            0.059375            0.050000"
      ]
     },
     "execution_count": 49,
     "metadata": {},
     "output_type": "execute_result"
    }
   ],
   "source": [
    "df2"
   ]
  },
  {
   "cell_type": "markdown",
   "id": "18d35e4e-deec-4b54-b98e-e0fd7a104640",
   "metadata": {},
   "source": [
    "#### Observation\n",
    "On ne note pas de différence entre les différents types d'échantillons"
   ]
  },
  {
   "cell_type": "markdown",
   "id": "d6d09fa1",
   "metadata": {},
   "source": [
    "## 3. Echantillonnage stratifié"
   ]
  },
  {
   "cell_type": "markdown",
   "id": "aa7e94c8",
   "metadata": {},
   "source": [
    "Cette méthode permet de représenter les sous- groupes d’une population hétérogène. On peut répartir l’échantillon de façon proportionnelle à la taille des sous-groupes et ainsi tous les individus possèdent une même chance d’être sélectionnés comme pour l’échantillon aléatoire simple. On peut sélectionner un même nombre d'unité à l'intérieur de chaque strate."
   ]
  },
  {
   "cell_type": "markdown",
   "id": "082cad64",
   "metadata": {},
   "source": [
    "## 3.1 Echantillonnage stratifié proportionnel."
   ]
  },
  {
   "cell_type": "markdown",
   "id": "d1fa1d98",
   "metadata": {},
   "source": [
    "Echantillon stratifié (strate = LAWANAT). 20 % par strate"
   ]
  },
  {
   "cell_type": "code",
   "execution_count": 50,
   "id": "532c9f67",
   "metadata": {},
   "outputs": [],
   "source": [
    "echantillon_strat_prop = population.groupby('LAWANAT').sample(frac=0.2, random_state=2025)"
   ]
  },
  {
   "cell_type": "code",
   "execution_count": 51,
   "id": "ba34ecb9",
   "metadata": {},
   "outputs": [
    {
     "data": {
      "text/html": [
       "<div>\n",
       "<style scoped>\n",
       "    .dataframe tbody tr th:only-of-type {\n",
       "        vertical-align: middle;\n",
       "    }\n",
       "\n",
       "    .dataframe tbody tr th {\n",
       "        vertical-align: top;\n",
       "    }\n",
       "\n",
       "    .dataframe thead th {\n",
       "        text-align: right;\n",
       "    }\n",
       "</style>\n",
       "<table border=\"1\" class=\"dataframe\">\n",
       "  <thead>\n",
       "    <tr style=\"text-align: right;\">\n",
       "      <th></th>\n",
       "      <th>LAWANAT</th>\n",
       "      <th>QUARTIER</th>\n",
       "      <th>N° MENAGE</th>\n",
       "      <th>&lt; 1 MASC</th>\n",
       "      <th>1 - 4 MASC</th>\n",
       "      <th>5- 15 MASC</th>\n",
       "      <th>&gt; 15 MASC</th>\n",
       "      <th>&lt; 1 FEM</th>\n",
       "      <th>1 - 4 FEM</th>\n",
       "      <th>5 - 15 FEM</th>\n",
       "      <th>&gt; 15 FEM</th>\n",
       "      <th>Total</th>\n",
       "      <th>&lt; 1</th>\n",
       "      <th>menage sans &lt; 1</th>\n",
       "    </tr>\n",
       "  </thead>\n",
       "  <tbody>\n",
       "    <tr>\n",
       "      <th>0</th>\n",
       "      <td>AGOLLA</td>\n",
       "      <td>AGOLLA DOUNA</td>\n",
       "      <td>1</td>\n",
       "      <td>0</td>\n",
       "      <td>1</td>\n",
       "      <td>1</td>\n",
       "      <td>3</td>\n",
       "      <td>0</td>\n",
       "      <td>2</td>\n",
       "      <td>3</td>\n",
       "      <td>4</td>\n",
       "      <td>14</td>\n",
       "      <td>0</td>\n",
       "      <td>True</td>\n",
       "    </tr>\n",
       "    <tr>\n",
       "      <th>175</th>\n",
       "      <td>AGOLLA</td>\n",
       "      <td>DANAY 1</td>\n",
       "      <td>21</td>\n",
       "      <td>0</td>\n",
       "      <td>1</td>\n",
       "      <td>0</td>\n",
       "      <td>2</td>\n",
       "      <td>1</td>\n",
       "      <td>0</td>\n",
       "      <td>0</td>\n",
       "      <td>3</td>\n",
       "      <td>7</td>\n",
       "      <td>1</td>\n",
       "      <td>False</td>\n",
       "    </tr>\n",
       "    <tr>\n",
       "      <th>56</th>\n",
       "      <td>AGOLLA</td>\n",
       "      <td>BIDWERE 1</td>\n",
       "      <td>19</td>\n",
       "      <td>0</td>\n",
       "      <td>2</td>\n",
       "      <td>4</td>\n",
       "      <td>5</td>\n",
       "      <td>0</td>\n",
       "      <td>1</td>\n",
       "      <td>3</td>\n",
       "      <td>5</td>\n",
       "      <td>20</td>\n",
       "      <td>0</td>\n",
       "      <td>True</td>\n",
       "    </tr>\n",
       "    <tr>\n",
       "      <th>133</th>\n",
       "      <td>AGOLLA</td>\n",
       "      <td>BOUROU 2</td>\n",
       "      <td>4</td>\n",
       "      <td>1</td>\n",
       "      <td>1</td>\n",
       "      <td>0</td>\n",
       "      <td>1</td>\n",
       "      <td>0</td>\n",
       "      <td>0</td>\n",
       "      <td>0</td>\n",
       "      <td>1</td>\n",
       "      <td>4</td>\n",
       "      <td>1</td>\n",
       "      <td>False</td>\n",
       "    </tr>\n",
       "    <tr>\n",
       "      <th>215</th>\n",
       "      <td>AGOLLA</td>\n",
       "      <td>KOMKOSSAYE 1</td>\n",
       "      <td>17</td>\n",
       "      <td>1</td>\n",
       "      <td>0</td>\n",
       "      <td>0</td>\n",
       "      <td>4</td>\n",
       "      <td>1</td>\n",
       "      <td>1</td>\n",
       "      <td>2</td>\n",
       "      <td>4</td>\n",
       "      <td>13</td>\n",
       "      <td>2</td>\n",
       "      <td>False</td>\n",
       "    </tr>\n",
       "    <tr>\n",
       "      <th>...</th>\n",
       "      <td>...</td>\n",
       "      <td>...</td>\n",
       "      <td>...</td>\n",
       "      <td>...</td>\n",
       "      <td>...</td>\n",
       "      <td>...</td>\n",
       "      <td>...</td>\n",
       "      <td>...</td>\n",
       "      <td>...</td>\n",
       "      <td>...</td>\n",
       "      <td>...</td>\n",
       "      <td>...</td>\n",
       "      <td>...</td>\n",
       "      <td>...</td>\n",
       "    </tr>\n",
       "    <tr>\n",
       "      <th>1707</th>\n",
       "      <td>WIDIGUE</td>\n",
       "      <td>HLAGAM GOURIVA 2</td>\n",
       "      <td>41</td>\n",
       "      <td>1</td>\n",
       "      <td>3</td>\n",
       "      <td>1</td>\n",
       "      <td>0</td>\n",
       "      <td>0</td>\n",
       "      <td>0</td>\n",
       "      <td>2</td>\n",
       "      <td>1</td>\n",
       "      <td>8</td>\n",
       "      <td>1</td>\n",
       "      <td>False</td>\n",
       "    </tr>\n",
       "    <tr>\n",
       "      <th>1823</th>\n",
       "      <td>WIDIGUE</td>\n",
       "      <td>VEGELENDA</td>\n",
       "      <td>26</td>\n",
       "      <td>0</td>\n",
       "      <td>0</td>\n",
       "      <td>1</td>\n",
       "      <td>1</td>\n",
       "      <td>0</td>\n",
       "      <td>1</td>\n",
       "      <td>1</td>\n",
       "      <td>1</td>\n",
       "      <td>5</td>\n",
       "      <td>0</td>\n",
       "      <td>True</td>\n",
       "    </tr>\n",
       "    <tr>\n",
       "      <th>1709</th>\n",
       "      <td>WIDIGUE</td>\n",
       "      <td>HLAGAM GOURIVA 2</td>\n",
       "      <td>43</td>\n",
       "      <td>0</td>\n",
       "      <td>0</td>\n",
       "      <td>0</td>\n",
       "      <td>1</td>\n",
       "      <td>0</td>\n",
       "      <td>1</td>\n",
       "      <td>1</td>\n",
       "      <td>2</td>\n",
       "      <td>5</td>\n",
       "      <td>0</td>\n",
       "      <td>True</td>\n",
       "    </tr>\n",
       "    <tr>\n",
       "      <th>1743</th>\n",
       "      <td>WIDIGUE</td>\n",
       "      <td>HLAGAM ZIGENDJI</td>\n",
       "      <td>17</td>\n",
       "      <td>0</td>\n",
       "      <td>0</td>\n",
       "      <td>0</td>\n",
       "      <td>0</td>\n",
       "      <td>0</td>\n",
       "      <td>0</td>\n",
       "      <td>3</td>\n",
       "      <td>1</td>\n",
       "      <td>4</td>\n",
       "      <td>0</td>\n",
       "      <td>True</td>\n",
       "    </tr>\n",
       "    <tr>\n",
       "      <th>1827</th>\n",
       "      <td>WIDIGUE</td>\n",
       "      <td>VEGELENDA</td>\n",
       "      <td>30</td>\n",
       "      <td>0</td>\n",
       "      <td>3</td>\n",
       "      <td>3</td>\n",
       "      <td>4</td>\n",
       "      <td>0</td>\n",
       "      <td>1</td>\n",
       "      <td>2</td>\n",
       "      <td>6</td>\n",
       "      <td>19</td>\n",
       "      <td>0</td>\n",
       "      <td>True</td>\n",
       "    </tr>\n",
       "  </tbody>\n",
       "</table>\n",
       "<p>383 rows × 14 columns</p>\n",
       "</div>"
      ],
      "text/plain": [
       "      LAWANAT          QUARTIER  N° MENAGE  < 1 MASC  1 - 4 MASC  5- 15 MASC  \\\n",
       "0      AGOLLA      AGOLLA DOUNA          1         0           1           1   \n",
       "175    AGOLLA           DANAY 1         21         0           1           0   \n",
       "56     AGOLLA         BIDWERE 1         19         0           2           4   \n",
       "133    AGOLLA          BOUROU 2          4         1           1           0   \n",
       "215    AGOLLA      KOMKOSSAYE 1         17         1           0           0   \n",
       "...       ...               ...        ...       ...         ...         ...   \n",
       "1707  WIDIGUE  HLAGAM GOURIVA 2         41         1           3           1   \n",
       "1823  WIDIGUE         VEGELENDA         26         0           0           1   \n",
       "1709  WIDIGUE  HLAGAM GOURIVA 2         43         0           0           0   \n",
       "1743  WIDIGUE   HLAGAM ZIGENDJI         17         0           0           0   \n",
       "1827  WIDIGUE         VEGELENDA         30         0           3           3   \n",
       "\n",
       "      > 15 MASC  < 1 FEM  1 - 4 FEM  5 - 15 FEM  > 15 FEM  Total  < 1  \\\n",
       "0             3        0          2           3         4     14    0   \n",
       "175           2        1          0           0         3      7    1   \n",
       "56            5        0          1           3         5     20    0   \n",
       "133           1        0          0           0         1      4    1   \n",
       "215           4        1          1           2         4     13    2   \n",
       "...         ...      ...        ...         ...       ...    ...  ...   \n",
       "1707          0        0          0           2         1      8    1   \n",
       "1823          1        0          1           1         1      5    0   \n",
       "1709          1        0          1           1         2      5    0   \n",
       "1743          0        0          0           3         1      4    0   \n",
       "1827          4        0          1           2         6     19    0   \n",
       "\n",
       "      menage sans < 1  \n",
       "0                True  \n",
       "175             False  \n",
       "56               True  \n",
       "133             False  \n",
       "215             False  \n",
       "...               ...  \n",
       "1707            False  \n",
       "1823             True  \n",
       "1709             True  \n",
       "1743             True  \n",
       "1827             True  \n",
       "\n",
       "[383 rows x 14 columns]"
      ]
     },
     "execution_count": 51,
     "metadata": {},
     "output_type": "execute_result"
    }
   ],
   "source": [
    "echantillon_strat_prop"
   ]
  },
  {
   "cell_type": "code",
   "execution_count": 52,
   "id": "cbb22d02",
   "metadata": {},
   "outputs": [
    {
     "data": {
      "text/plain": [
       "WIDI          89\n",
       "WIDIGUE       71\n",
       "AGOLLA        55\n",
       "MERINGUE 2    41\n",
       "MERINGUE 1    38\n",
       "GUIA          37\n",
       "GUEMERE       33\n",
       "MERINGUE 3    19\n",
       "Name: LAWANAT, dtype: int64"
      ]
     },
     "execution_count": 52,
     "metadata": {},
     "output_type": "execute_result"
    }
   ],
   "source": [
    "echantillon_strat_prop.LAWANAT.value_counts()"
   ]
  },
  {
   "cell_type": "code",
   "execution_count": 53,
   "id": "e6642e60",
   "metadata": {},
   "outputs": [
    {
     "data": {
      "text/plain": [
       "WIDI          0.232376\n",
       "WIDIGUE       0.185379\n",
       "AGOLLA        0.143603\n",
       "MERINGUE 2    0.107050\n",
       "MERINGUE 1    0.099217\n",
       "GUIA          0.096606\n",
       "GUEMERE       0.086162\n",
       "MERINGUE 3    0.049608\n",
       "Name: LAWANAT, dtype: float64"
      ]
     },
     "execution_count": 53,
     "metadata": {},
     "output_type": "execute_result"
    }
   ],
   "source": [
    "echantillon_strat_prop.LAWANAT.value_counts(normalize=True)"
   ]
  },
  {
   "cell_type": "code",
   "execution_count": 54,
   "id": "404aad90",
   "metadata": {},
   "outputs": [
    {
     "data": {
      "text/plain": [
       "WIDI          0.200903\n",
       "WIDIGUE       0.198880\n",
       "AGOLLA        0.201465\n",
       "MERINGUE 2    0.200980\n",
       "MERINGUE 1    0.197917\n",
       "GUIA          0.198925\n",
       "GUEMERE       0.197605\n",
       "MERINGUE 3    0.197917\n",
       "Name: LAWANAT, dtype: float64"
      ]
     },
     "execution_count": 54,
     "metadata": {},
     "output_type": "execute_result"
    }
   ],
   "source": [
    "echantillon_strat_prop.LAWANAT.value_counts()/population.LAWANAT.value_counts()"
   ]
  },
  {
   "cell_type": "markdown",
   "id": "eb6c76c9",
   "metadata": {},
   "source": [
    "## 3.2 Echantillonnage stratifié à nombre égal."
   ]
  },
  {
   "cell_type": "code",
   "execution_count": 55,
   "id": "f0f850e6",
   "metadata": {},
   "outputs": [
    {
     "data": {
      "text/plain": [
       "WIDI          443\n",
       "WIDIGUE       357\n",
       "AGOLLA        273\n",
       "MERINGUE 2    204\n",
       "MERINGUE 1    192\n",
       "GUIA          186\n",
       "GUEMERE       167\n",
       "MERINGUE 3     96\n",
       "Name: LAWANAT, dtype: int64"
      ]
     },
     "execution_count": 55,
     "metadata": {},
     "output_type": "execute_result"
    }
   ],
   "source": [
    "population.LAWANAT.value_counts()"
   ]
  },
  {
   "cell_type": "code",
   "execution_count": 56,
   "id": "f79c35a7",
   "metadata": {},
   "outputs": [],
   "source": [
    "echantillon_strat_eq_nb = population.groupby('LAWANAT').sample(n=20, random_state=2026)"
   ]
  },
  {
   "cell_type": "code",
   "execution_count": 57,
   "id": "2ca31e42",
   "metadata": {},
   "outputs": [
    {
     "data": {
      "text/html": [
       "<div>\n",
       "<style scoped>\n",
       "    .dataframe tbody tr th:only-of-type {\n",
       "        vertical-align: middle;\n",
       "    }\n",
       "\n",
       "    .dataframe tbody tr th {\n",
       "        vertical-align: top;\n",
       "    }\n",
       "\n",
       "    .dataframe thead th {\n",
       "        text-align: right;\n",
       "    }\n",
       "</style>\n",
       "<table border=\"1\" class=\"dataframe\">\n",
       "  <thead>\n",
       "    <tr style=\"text-align: right;\">\n",
       "      <th></th>\n",
       "      <th>LAWANAT</th>\n",
       "      <th>QUARTIER</th>\n",
       "      <th>N° MENAGE</th>\n",
       "      <th>&lt; 1 MASC</th>\n",
       "      <th>1 - 4 MASC</th>\n",
       "      <th>5- 15 MASC</th>\n",
       "      <th>&gt; 15 MASC</th>\n",
       "      <th>&lt; 1 FEM</th>\n",
       "      <th>1 - 4 FEM</th>\n",
       "      <th>5 - 15 FEM</th>\n",
       "      <th>&gt; 15 FEM</th>\n",
       "      <th>Total</th>\n",
       "      <th>&lt; 1</th>\n",
       "      <th>menage sans &lt; 1</th>\n",
       "    </tr>\n",
       "  </thead>\n",
       "  <tbody>\n",
       "    <tr>\n",
       "      <th>222</th>\n",
       "      <td>AGOLLA</td>\n",
       "      <td>KOMKOSSAYE 1</td>\n",
       "      <td>24</td>\n",
       "      <td>0</td>\n",
       "      <td>0</td>\n",
       "      <td>1</td>\n",
       "      <td>3</td>\n",
       "      <td>0</td>\n",
       "      <td>0</td>\n",
       "      <td>2</td>\n",
       "      <td>1</td>\n",
       "      <td>7</td>\n",
       "      <td>0</td>\n",
       "      <td>True</td>\n",
       "    </tr>\n",
       "    <tr>\n",
       "      <th>255</th>\n",
       "      <td>AGOLLA</td>\n",
       "      <td>KOMKOSSAYE 2</td>\n",
       "      <td>12</td>\n",
       "      <td>0</td>\n",
       "      <td>1</td>\n",
       "      <td>0</td>\n",
       "      <td>5</td>\n",
       "      <td>0</td>\n",
       "      <td>0</td>\n",
       "      <td>2</td>\n",
       "      <td>2</td>\n",
       "      <td>10</td>\n",
       "      <td>0</td>\n",
       "      <td>True</td>\n",
       "    </tr>\n",
       "    <tr>\n",
       "      <th>53</th>\n",
       "      <td>AGOLLA</td>\n",
       "      <td>BIDWERE 1</td>\n",
       "      <td>16</td>\n",
       "      <td>0</td>\n",
       "      <td>0</td>\n",
       "      <td>2</td>\n",
       "      <td>2</td>\n",
       "      <td>1</td>\n",
       "      <td>0</td>\n",
       "      <td>1</td>\n",
       "      <td>1</td>\n",
       "      <td>7</td>\n",
       "      <td>1</td>\n",
       "      <td>False</td>\n",
       "    </tr>\n",
       "    <tr>\n",
       "      <th>267</th>\n",
       "      <td>AGOLLA</td>\n",
       "      <td>MAGA</td>\n",
       "      <td>8</td>\n",
       "      <td>0</td>\n",
       "      <td>0</td>\n",
       "      <td>1</td>\n",
       "      <td>2</td>\n",
       "      <td>0</td>\n",
       "      <td>1</td>\n",
       "      <td>2</td>\n",
       "      <td>1</td>\n",
       "      <td>7</td>\n",
       "      <td>0</td>\n",
       "      <td>True</td>\n",
       "    </tr>\n",
       "    <tr>\n",
       "      <th>128</th>\n",
       "      <td>AGOLLA</td>\n",
       "      <td>BOUROU 1</td>\n",
       "      <td>9</td>\n",
       "      <td>0</td>\n",
       "      <td>2</td>\n",
       "      <td>1</td>\n",
       "      <td>2</td>\n",
       "      <td>1</td>\n",
       "      <td>1</td>\n",
       "      <td>1</td>\n",
       "      <td>4</td>\n",
       "      <td>12</td>\n",
       "      <td>1</td>\n",
       "      <td>False</td>\n",
       "    </tr>\n",
       "    <tr>\n",
       "      <th>...</th>\n",
       "      <td>...</td>\n",
       "      <td>...</td>\n",
       "      <td>...</td>\n",
       "      <td>...</td>\n",
       "      <td>...</td>\n",
       "      <td>...</td>\n",
       "      <td>...</td>\n",
       "      <td>...</td>\n",
       "      <td>...</td>\n",
       "      <td>...</td>\n",
       "      <td>...</td>\n",
       "      <td>...</td>\n",
       "      <td>...</td>\n",
       "      <td>...</td>\n",
       "    </tr>\n",
       "    <tr>\n",
       "      <th>1888</th>\n",
       "      <td>WIDIGUE</td>\n",
       "      <td>ZENGUE</td>\n",
       "      <td>2</td>\n",
       "      <td>0</td>\n",
       "      <td>2</td>\n",
       "      <td>0</td>\n",
       "      <td>1</td>\n",
       "      <td>0</td>\n",
       "      <td>0</td>\n",
       "      <td>1</td>\n",
       "      <td>1</td>\n",
       "      <td>5</td>\n",
       "      <td>0</td>\n",
       "      <td>True</td>\n",
       "    </tr>\n",
       "    <tr>\n",
       "      <th>1599</th>\n",
       "      <td>WIDIGUE</td>\n",
       "      <td>GANGANG 1</td>\n",
       "      <td>5</td>\n",
       "      <td>0</td>\n",
       "      <td>2</td>\n",
       "      <td>0</td>\n",
       "      <td>1</td>\n",
       "      <td>0</td>\n",
       "      <td>0</td>\n",
       "      <td>1</td>\n",
       "      <td>2</td>\n",
       "      <td>6</td>\n",
       "      <td>0</td>\n",
       "      <td>True</td>\n",
       "    </tr>\n",
       "    <tr>\n",
       "      <th>1753</th>\n",
       "      <td>WIDIGUE</td>\n",
       "      <td>HLAGAM ZIGENDJI</td>\n",
       "      <td>27</td>\n",
       "      <td>0</td>\n",
       "      <td>2</td>\n",
       "      <td>2</td>\n",
       "      <td>2</td>\n",
       "      <td>0</td>\n",
       "      <td>0</td>\n",
       "      <td>1</td>\n",
       "      <td>2</td>\n",
       "      <td>9</td>\n",
       "      <td>0</td>\n",
       "      <td>True</td>\n",
       "    </tr>\n",
       "    <tr>\n",
       "      <th>1716</th>\n",
       "      <td>WIDIGUE</td>\n",
       "      <td>HLAGAM GOURIVA 3</td>\n",
       "      <td>2</td>\n",
       "      <td>0</td>\n",
       "      <td>2</td>\n",
       "      <td>2</td>\n",
       "      <td>1</td>\n",
       "      <td>0</td>\n",
       "      <td>0</td>\n",
       "      <td>3</td>\n",
       "      <td>1</td>\n",
       "      <td>9</td>\n",
       "      <td>0</td>\n",
       "      <td>True</td>\n",
       "    </tr>\n",
       "    <tr>\n",
       "      <th>1803</th>\n",
       "      <td>WIDIGUE</td>\n",
       "      <td>VEGELENDA</td>\n",
       "      <td>6</td>\n",
       "      <td>0</td>\n",
       "      <td>2</td>\n",
       "      <td>0</td>\n",
       "      <td>2</td>\n",
       "      <td>0</td>\n",
       "      <td>1</td>\n",
       "      <td>0</td>\n",
       "      <td>2</td>\n",
       "      <td>7</td>\n",
       "      <td>0</td>\n",
       "      <td>True</td>\n",
       "    </tr>\n",
       "  </tbody>\n",
       "</table>\n",
       "<p>160 rows × 14 columns</p>\n",
       "</div>"
      ],
      "text/plain": [
       "      LAWANAT          QUARTIER  N° MENAGE  < 1 MASC  1 - 4 MASC  5- 15 MASC  \\\n",
       "222    AGOLLA      KOMKOSSAYE 1         24         0           0           1   \n",
       "255    AGOLLA      KOMKOSSAYE 2         12         0           1           0   \n",
       "53     AGOLLA         BIDWERE 1         16         0           0           2   \n",
       "267    AGOLLA              MAGA          8         0           0           1   \n",
       "128    AGOLLA          BOUROU 1          9         0           2           1   \n",
       "...       ...               ...        ...       ...         ...         ...   \n",
       "1888  WIDIGUE            ZENGUE          2         0           2           0   \n",
       "1599  WIDIGUE         GANGANG 1          5         0           2           0   \n",
       "1753  WIDIGUE   HLAGAM ZIGENDJI         27         0           2           2   \n",
       "1716  WIDIGUE  HLAGAM GOURIVA 3          2         0           2           2   \n",
       "1803  WIDIGUE         VEGELENDA          6         0           2           0   \n",
       "\n",
       "      > 15 MASC  < 1 FEM  1 - 4 FEM  5 - 15 FEM  > 15 FEM  Total  < 1  \\\n",
       "222           3        0          0           2         1      7    0   \n",
       "255           5        0          0           2         2     10    0   \n",
       "53            2        1          0           1         1      7    1   \n",
       "267           2        0          1           2         1      7    0   \n",
       "128           2        1          1           1         4     12    1   \n",
       "...         ...      ...        ...         ...       ...    ...  ...   \n",
       "1888          1        0          0           1         1      5    0   \n",
       "1599          1        0          0           1         2      6    0   \n",
       "1753          2        0          0           1         2      9    0   \n",
       "1716          1        0          0           3         1      9    0   \n",
       "1803          2        0          1           0         2      7    0   \n",
       "\n",
       "      menage sans < 1  \n",
       "222              True  \n",
       "255              True  \n",
       "53              False  \n",
       "267              True  \n",
       "128             False  \n",
       "...               ...  \n",
       "1888             True  \n",
       "1599             True  \n",
       "1753             True  \n",
       "1716             True  \n",
       "1803             True  \n",
       "\n",
       "[160 rows x 14 columns]"
      ]
     },
     "execution_count": 57,
     "metadata": {},
     "output_type": "execute_result"
    }
   ],
   "source": [
    "echantillon_strat_eq_nb"
   ]
  },
  {
   "cell_type": "code",
   "execution_count": 58,
   "id": "7e9f736a",
   "metadata": {},
   "outputs": [
    {
     "data": {
      "text/plain": [
       "AGOLLA        20\n",
       "GUEMERE       20\n",
       "GUIA          20\n",
       "MERINGUE 1    20\n",
       "MERINGUE 2    20\n",
       "MERINGUE 3    20\n",
       "WIDI          20\n",
       "WIDIGUE       20\n",
       "Name: LAWANAT, dtype: int64"
      ]
     },
     "execution_count": 58,
     "metadata": {},
     "output_type": "execute_result"
    }
   ],
   "source": [
    "echantillon_strat_eq_nb.LAWANAT.value_counts()"
   ]
  },
  {
   "cell_type": "markdown",
   "id": "4387be7c-7041-41c5-8f6e-9c6dc4ab8cf2",
   "metadata": {},
   "source": [
    "#### Comparaison population vs différents échantillons stratifié"
   ]
  },
  {
   "cell_type": "code",
   "execution_count": 59,
   "id": "98d0a85f-1900-45ab-a393-006979671d02",
   "metadata": {},
   "outputs": [],
   "source": [
    "df3=pd.concat([population.LAWANAT.value_counts(normalize=True), echantillon_strat_prop.LAWANAT.value_counts(normalize=True),echantillon_strat_eq_nb.LAWANAT.value_counts(normalize=True)],axis=1)"
   ]
  },
  {
   "cell_type": "code",
   "execution_count": 60,
   "id": "62c471b3-ac7a-4540-adf3-fe81c90cbfad",
   "metadata": {},
   "outputs": [],
   "source": [
    "df3.columns = ['Population', 'Stratifié proportionnel', 'Stratifié à nombre égal']"
   ]
  },
  {
   "cell_type": "code",
   "execution_count": 61,
   "id": "f75c75c3-f839-45ad-bd5a-8f06aedbfd89",
   "metadata": {},
   "outputs": [
    {
     "data": {
      "text/html": [
       "<div>\n",
       "<style scoped>\n",
       "    .dataframe tbody tr th:only-of-type {\n",
       "        vertical-align: middle;\n",
       "    }\n",
       "\n",
       "    .dataframe tbody tr th {\n",
       "        vertical-align: top;\n",
       "    }\n",
       "\n",
       "    .dataframe thead th {\n",
       "        text-align: right;\n",
       "    }\n",
       "</style>\n",
       "<table border=\"1\" class=\"dataframe\">\n",
       "  <thead>\n",
       "    <tr style=\"text-align: right;\">\n",
       "      <th></th>\n",
       "      <th>Population</th>\n",
       "      <th>Stratifié proportionnel</th>\n",
       "      <th>Stratifié à nombre égal</th>\n",
       "    </tr>\n",
       "  </thead>\n",
       "  <tbody>\n",
       "    <tr>\n",
       "      <th>WIDI</th>\n",
       "      <td>0.230970</td>\n",
       "      <td>0.232376</td>\n",
       "      <td>0.125</td>\n",
       "    </tr>\n",
       "    <tr>\n",
       "      <th>WIDIGUE</th>\n",
       "      <td>0.186131</td>\n",
       "      <td>0.185379</td>\n",
       "      <td>0.125</td>\n",
       "    </tr>\n",
       "    <tr>\n",
       "      <th>AGOLLA</th>\n",
       "      <td>0.142336</td>\n",
       "      <td>0.143603</td>\n",
       "      <td>0.125</td>\n",
       "    </tr>\n",
       "    <tr>\n",
       "      <th>MERINGUE 2</th>\n",
       "      <td>0.106361</td>\n",
       "      <td>0.107050</td>\n",
       "      <td>0.125</td>\n",
       "    </tr>\n",
       "    <tr>\n",
       "      <th>MERINGUE 1</th>\n",
       "      <td>0.100104</td>\n",
       "      <td>0.099217</td>\n",
       "      <td>0.125</td>\n",
       "    </tr>\n",
       "    <tr>\n",
       "      <th>GUIA</th>\n",
       "      <td>0.096976</td>\n",
       "      <td>0.096606</td>\n",
       "      <td>0.125</td>\n",
       "    </tr>\n",
       "    <tr>\n",
       "      <th>GUEMERE</th>\n",
       "      <td>0.087070</td>\n",
       "      <td>0.086162</td>\n",
       "      <td>0.125</td>\n",
       "    </tr>\n",
       "    <tr>\n",
       "      <th>MERINGUE 3</th>\n",
       "      <td>0.050052</td>\n",
       "      <td>0.049608</td>\n",
       "      <td>0.125</td>\n",
       "    </tr>\n",
       "  </tbody>\n",
       "</table>\n",
       "</div>"
      ],
      "text/plain": [
       "            Population  Stratifié proportionnel  Stratifié à nombre égal\n",
       "WIDI          0.230970                 0.232376                    0.125\n",
       "WIDIGUE       0.186131                 0.185379                    0.125\n",
       "AGOLLA        0.142336                 0.143603                    0.125\n",
       "MERINGUE 2    0.106361                 0.107050                    0.125\n",
       "MERINGUE 1    0.100104                 0.099217                    0.125\n",
       "GUIA          0.096976                 0.096606                    0.125\n",
       "GUEMERE       0.087070                 0.086162                    0.125\n",
       "MERINGUE 3    0.050052                 0.049608                    0.125"
      ]
     },
     "execution_count": 61,
     "metadata": {},
     "output_type": "execute_result"
    }
   ],
   "source": [
    "df3"
   ]
  },
  {
   "cell_type": "markdown",
   "id": "12294844-7b09-45f0-93ad-57e6a779ecb7",
   "metadata": {},
   "source": [
    "#### Observation\n",
    "On note que l'échantillon stratifié à nombre égal présente la même fraction de ménages choisis dans chaque lawanat. Les proportions entre la population et l'échantillon stratifié proportionnel sont quasi identiques"
   ]
  },
  {
   "cell_type": "markdown",
   "id": "4a7f62f5",
   "metadata": {},
   "source": [
    "## 4. Echantillonnage pondéré."
   ]
  },
  {
   "cell_type": "markdown",
   "id": "a20809e8",
   "metadata": {},
   "source": [
    "Dans le contexte d’un échantillonnage probabiliste, il faut que chaque unité de la population observée ait une probabilité connue d’être incluse dans l’échantillon, mais il n’est pas nécessaire qu’elle soit la même pour tous. Si la base de sondage renferme de l’information sur la taille de chaque unité (comme le nombre de ménages de chacun des lawanats qui y sont inscrites) et si la taille de ces unités varie, on peut utiliser cette information dans le cadre de la sélection de l’échantillon afin d’en accroître l’efficacité."
   ]
  },
  {
   "cell_type": "markdown",
   "id": "d63e0670",
   "metadata": {},
   "source": [
    "Dans ce type d’échantillonnage les unités n’ont pas la même probabilité d’apparition dans l’échantillon final. Il leur est affecté un facteur de pondération. Les unités appartenant au même lawanat se sont vues attribué le même poids. La valeur du poids est le nombre de ménages de la base de sondage divisé par le nombre de ménage dans le lawanat d’appartenance. Nous avons choisi d’augmenter la probabilité d’apparition des ménages de strates (LAWANAT) sous représentées. Une colonne \"weigth a ensuite été créée pour cette pondération."
   ]
  },
  {
   "cell_type": "markdown",
   "id": "bb1e55ad",
   "metadata": {},
   "source": [
    "#### Création de la colonne \"weight\" pour la pondération\n",
    "Calcul des poids pour chaque ménage; weight = nombre de menage total / nombre de menages du lawanat"
   ]
  },
  {
   "cell_type": "code",
   "execution_count": 62,
   "id": "1f2d1dd4",
   "metadata": {},
   "outputs": [],
   "source": [
    "population_weight = round(population.shape[0]/population.LAWANAT.value_counts(),0)"
   ]
  },
  {
   "cell_type": "code",
   "execution_count": 63,
   "id": "361e7b1b",
   "metadata": {},
   "outputs": [
    {
     "data": {
      "text/plain": [
       "WIDI           4.0\n",
       "WIDIGUE        5.0\n",
       "AGOLLA         7.0\n",
       "MERINGUE 2     9.0\n",
       "MERINGUE 1    10.0\n",
       "GUIA          10.0\n",
       "GUEMERE       11.0\n",
       "MERINGUE 3    20.0\n",
       "Name: LAWANAT, dtype: float64"
      ]
     },
     "execution_count": 63,
     "metadata": {},
     "output_type": "execute_result"
    }
   ],
   "source": [
    "population_weight"
   ]
  },
  {
   "cell_type": "markdown",
   "id": "521be8ce",
   "metadata": {},
   "source": [
    "#### Le lawanat MERINGUE qui a la plus petite quantité de ménage a le plus grand poids (20). A l'inverse le plus grand Lawanat WIDI a le plus faible poids (4)"
   ]
  },
  {
   "cell_type": "code",
   "execution_count": 64,
   "id": "f634702f",
   "metadata": {},
   "outputs": [],
   "source": [
    "condition_list = list(population_weight.index.values)"
   ]
  },
  {
   "cell_type": "code",
   "execution_count": 65,
   "id": "f5bc4e3f",
   "metadata": {},
   "outputs": [
    {
     "data": {
      "text/plain": [
       "['WIDI',\n",
       " 'WIDIGUE',\n",
       " 'AGOLLA',\n",
       " 'MERINGUE 2',\n",
       " 'MERINGUE 1',\n",
       " 'GUIA',\n",
       " 'GUEMERE',\n",
       " 'MERINGUE 3']"
      ]
     },
     "execution_count": 65,
     "metadata": {},
     "output_type": "execute_result"
    }
   ],
   "source": [
    "condition_list"
   ]
  },
  {
   "cell_type": "code",
   "execution_count": 66,
   "id": "47f34a63",
   "metadata": {},
   "outputs": [],
   "source": [
    "values = population_weight.to_list()"
   ]
  },
  {
   "cell_type": "code",
   "execution_count": 67,
   "id": "5443d328",
   "metadata": {},
   "outputs": [
    {
     "data": {
      "text/plain": [
       "[4.0, 5.0, 7.0, 9.0, 10.0, 10.0, 11.0, 20.0]"
      ]
     },
     "execution_count": 67,
     "metadata": {},
     "output_type": "execute_result"
    }
   ],
   "source": [
    "values"
   ]
  },
  {
   "cell_type": "code",
   "execution_count": 68,
   "id": "297f0c77",
   "metadata": {},
   "outputs": [],
   "source": [
    "conditions = [\n",
    "  population.LAWANAT == \"WIDI\",\n",
    "    population.LAWANAT == \"WIDIGUE\",\n",
    "    population.LAWANAT == \"AGOLLA\",\n",
    "    population.LAWANAT == \"MERINGUE 2\",\n",
    "    population.LAWANAT == \"MERINGUE 1\",\n",
    "    population.LAWANAT == \"GUIA\",\n",
    "    population.LAWANAT == \"GUEMERE\",\n",
    "    population.LAWANAT == \"MERINGUE 3\"\n",
    "]"
   ]
  },
  {
   "cell_type": "code",
   "execution_count": 69,
   "id": "5101ac7b",
   "metadata": {},
   "outputs": [],
   "source": [
    "population[\"weight\"] = np.select(conditions, values, default=0)"
   ]
  },
  {
   "cell_type": "code",
   "execution_count": 70,
   "id": "33e48a6b",
   "metadata": {},
   "outputs": [
    {
     "data": {
      "text/plain": [
       "0    7.0\n",
       "1    7.0\n",
       "2    7.0\n",
       "3    7.0\n",
       "4    7.0\n",
       "Name: weight, dtype: float64"
      ]
     },
     "execution_count": 70,
     "metadata": {},
     "output_type": "execute_result"
    }
   ],
   "source": [
    "population.weight.head()"
   ]
  },
  {
   "cell_type": "code",
   "execution_count": 71,
   "id": "e8ddd393",
   "metadata": {},
   "outputs": [],
   "source": [
    "echantillon_pondere = population.sample(n=300, weights=\"weight\", random_state=2027)"
   ]
  },
  {
   "cell_type": "code",
   "execution_count": 72,
   "id": "6b5b79d5",
   "metadata": {},
   "outputs": [
    {
     "data": {
      "text/html": [
       "<div>\n",
       "<style scoped>\n",
       "    .dataframe tbody tr th:only-of-type {\n",
       "        vertical-align: middle;\n",
       "    }\n",
       "\n",
       "    .dataframe tbody tr th {\n",
       "        vertical-align: top;\n",
       "    }\n",
       "\n",
       "    .dataframe thead th {\n",
       "        text-align: right;\n",
       "    }\n",
       "</style>\n",
       "<table border=\"1\" class=\"dataframe\">\n",
       "  <thead>\n",
       "    <tr style=\"text-align: right;\">\n",
       "      <th></th>\n",
       "      <th>LAWANAT</th>\n",
       "      <th>QUARTIER</th>\n",
       "      <th>N° MENAGE</th>\n",
       "      <th>&lt; 1 MASC</th>\n",
       "      <th>1 - 4 MASC</th>\n",
       "      <th>5- 15 MASC</th>\n",
       "      <th>&gt; 15 MASC</th>\n",
       "      <th>&lt; 1 FEM</th>\n",
       "      <th>1 - 4 FEM</th>\n",
       "      <th>5 - 15 FEM</th>\n",
       "      <th>&gt; 15 FEM</th>\n",
       "      <th>Total</th>\n",
       "      <th>&lt; 1</th>\n",
       "      <th>menage sans &lt; 1</th>\n",
       "      <th>weight</th>\n",
       "    </tr>\n",
       "  </thead>\n",
       "  <tbody>\n",
       "    <tr>\n",
       "      <th>1271</th>\n",
       "      <td>WIDI</td>\n",
       "      <td>GARDI 2</td>\n",
       "      <td>9</td>\n",
       "      <td>0</td>\n",
       "      <td>1</td>\n",
       "      <td>3</td>\n",
       "      <td>1</td>\n",
       "      <td>0</td>\n",
       "      <td>1</td>\n",
       "      <td>0</td>\n",
       "      <td>1</td>\n",
       "      <td>7</td>\n",
       "      <td>0</td>\n",
       "      <td>True</td>\n",
       "      <td>4.0</td>\n",
       "    </tr>\n",
       "    <tr>\n",
       "      <th>1632</th>\n",
       "      <td>WIDIGUE</td>\n",
       "      <td>GUIZEGUE 1</td>\n",
       "      <td>13</td>\n",
       "      <td>0</td>\n",
       "      <td>0</td>\n",
       "      <td>2</td>\n",
       "      <td>5</td>\n",
       "      <td>0</td>\n",
       "      <td>2</td>\n",
       "      <td>2</td>\n",
       "      <td>3</td>\n",
       "      <td>14</td>\n",
       "      <td>0</td>\n",
       "      <td>True</td>\n",
       "      <td>5.0</td>\n",
       "    </tr>\n",
       "    <tr>\n",
       "      <th>1193</th>\n",
       "      <td>WIDI</td>\n",
       "      <td>DJALWA</td>\n",
       "      <td>30</td>\n",
       "      <td>0</td>\n",
       "      <td>2</td>\n",
       "      <td>3</td>\n",
       "      <td>3</td>\n",
       "      <td>1</td>\n",
       "      <td>0</td>\n",
       "      <td>0</td>\n",
       "      <td>2</td>\n",
       "      <td>11</td>\n",
       "      <td>1</td>\n",
       "      <td>False</td>\n",
       "      <td>4.0</td>\n",
       "    </tr>\n",
       "    <tr>\n",
       "      <th>1543</th>\n",
       "      <td>WIDI</td>\n",
       "      <td>YIKA 2</td>\n",
       "      <td>11</td>\n",
       "      <td>0</td>\n",
       "      <td>0</td>\n",
       "      <td>0</td>\n",
       "      <td>2</td>\n",
       "      <td>0</td>\n",
       "      <td>1</td>\n",
       "      <td>0</td>\n",
       "      <td>3</td>\n",
       "      <td>6</td>\n",
       "      <td>0</td>\n",
       "      <td>True</td>\n",
       "      <td>4.0</td>\n",
       "    </tr>\n",
       "    <tr>\n",
       "      <th>861</th>\n",
       "      <td>MERINGUE 2</td>\n",
       "      <td>GANDJANG</td>\n",
       "      <td>2</td>\n",
       "      <td>0</td>\n",
       "      <td>2</td>\n",
       "      <td>0</td>\n",
       "      <td>2</td>\n",
       "      <td>0</td>\n",
       "      <td>1</td>\n",
       "      <td>3</td>\n",
       "      <td>5</td>\n",
       "      <td>13</td>\n",
       "      <td>0</td>\n",
       "      <td>True</td>\n",
       "      <td>9.0</td>\n",
       "    </tr>\n",
       "  </tbody>\n",
       "</table>\n",
       "</div>"
      ],
      "text/plain": [
       "         LAWANAT    QUARTIER  N° MENAGE  < 1 MASC  1 - 4 MASC  5- 15 MASC  \\\n",
       "1271        WIDI     GARDI 2          9         0           1           3   \n",
       "1632     WIDIGUE  GUIZEGUE 1         13         0           0           2   \n",
       "1193        WIDI      DJALWA         30         0           2           3   \n",
       "1543        WIDI      YIKA 2         11         0           0           0   \n",
       "861   MERINGUE 2    GANDJANG          2         0           2           0   \n",
       "\n",
       "      > 15 MASC  < 1 FEM  1 - 4 FEM  5 - 15 FEM  > 15 FEM  Total  < 1  \\\n",
       "1271          1        0          1           0         1      7    0   \n",
       "1632          5        0          2           2         3     14    0   \n",
       "1193          3        1          0           0         2     11    1   \n",
       "1543          2        0          1           0         3      6    0   \n",
       "861           2        0          1           3         5     13    0   \n",
       "\n",
       "      menage sans < 1  weight  \n",
       "1271             True     4.0  \n",
       "1632             True     5.0  \n",
       "1193            False     4.0  \n",
       "1543             True     4.0  \n",
       "861              True     9.0  "
      ]
     },
     "execution_count": 72,
     "metadata": {},
     "output_type": "execute_result"
    }
   ],
   "source": [
    "echantillon_pondere.head()"
   ]
  },
  {
   "cell_type": "code",
   "execution_count": 73,
   "id": "cb76d110",
   "metadata": {},
   "outputs": [
    {
     "data": {
      "text/plain": [
       "WIDI          42\n",
       "WIDIGUE       42\n",
       "GUEMERE       40\n",
       "MERINGUE 2    39\n",
       "AGOLLA        39\n",
       "MERINGUE 1    36\n",
       "GUIA          32\n",
       "MERINGUE 3    30\n",
       "Name: LAWANAT, dtype: int64"
      ]
     },
     "execution_count": 73,
     "metadata": {},
     "output_type": "execute_result"
    }
   ],
   "source": [
    "echantillon_pondere.LAWANAT.value_counts()"
   ]
  },
  {
   "cell_type": "code",
   "execution_count": 74,
   "id": "f25192c7",
   "metadata": {},
   "outputs": [
    {
     "data": {
      "text/plain": [
       "WIDI          0.140000\n",
       "WIDIGUE       0.140000\n",
       "GUEMERE       0.133333\n",
       "MERINGUE 2    0.130000\n",
       "AGOLLA        0.130000\n",
       "MERINGUE 1    0.120000\n",
       "GUIA          0.106667\n",
       "MERINGUE 3    0.100000\n",
       "Name: LAWANAT, dtype: float64"
      ]
     },
     "execution_count": 74,
     "metadata": {},
     "output_type": "execute_result"
    }
   ],
   "source": [
    "echantillon_pondere.LAWANAT.value_counts(normalize=True)"
   ]
  },
  {
   "cell_type": "code",
   "execution_count": 75,
   "id": "821f148f",
   "metadata": {},
   "outputs": [
    {
     "data": {
      "text/plain": [
       "WIDI          0.230970\n",
       "WIDIGUE       0.186131\n",
       "AGOLLA        0.142336\n",
       "MERINGUE 2    0.106361\n",
       "MERINGUE 1    0.100104\n",
       "GUIA          0.096976\n",
       "GUEMERE       0.087070\n",
       "MERINGUE 3    0.050052\n",
       "Name: LAWANAT, dtype: float64"
      ]
     },
     "execution_count": 75,
     "metadata": {},
     "output_type": "execute_result"
    }
   ],
   "source": [
    "population.LAWANAT.value_counts(normalize=True)"
   ]
  },
  {
   "cell_type": "code",
   "execution_count": 76,
   "id": "1d19c807-0ca6-41e0-9182-e97f565002fd",
   "metadata": {},
   "outputs": [],
   "source": [
    "df4=pd.concat([population.LAWANAT.value_counts(normalize=True), echantillon_pondere.LAWANAT.value_counts(normalize=True)],axis=1)"
   ]
  },
  {
   "cell_type": "code",
   "execution_count": 77,
   "id": "e3caf7ac-993f-403c-85e5-951451fa20a2",
   "metadata": {},
   "outputs": [],
   "source": [
    "df4.columns = ['Population', 'Pondéré']"
   ]
  },
  {
   "cell_type": "code",
   "execution_count": 78,
   "id": "9cebd2e4-4c27-4603-9544-4ba8f6808867",
   "metadata": {},
   "outputs": [
    {
     "data": {
      "text/html": [
       "<div>\n",
       "<style scoped>\n",
       "    .dataframe tbody tr th:only-of-type {\n",
       "        vertical-align: middle;\n",
       "    }\n",
       "\n",
       "    .dataframe tbody tr th {\n",
       "        vertical-align: top;\n",
       "    }\n",
       "\n",
       "    .dataframe thead th {\n",
       "        text-align: right;\n",
       "    }\n",
       "</style>\n",
       "<table border=\"1\" class=\"dataframe\">\n",
       "  <thead>\n",
       "    <tr style=\"text-align: right;\">\n",
       "      <th></th>\n",
       "      <th>Population</th>\n",
       "      <th>Pondéré</th>\n",
       "    </tr>\n",
       "  </thead>\n",
       "  <tbody>\n",
       "    <tr>\n",
       "      <th>WIDI</th>\n",
       "      <td>0.230970</td>\n",
       "      <td>0.140000</td>\n",
       "    </tr>\n",
       "    <tr>\n",
       "      <th>WIDIGUE</th>\n",
       "      <td>0.186131</td>\n",
       "      <td>0.140000</td>\n",
       "    </tr>\n",
       "    <tr>\n",
       "      <th>AGOLLA</th>\n",
       "      <td>0.142336</td>\n",
       "      <td>0.130000</td>\n",
       "    </tr>\n",
       "    <tr>\n",
       "      <th>MERINGUE 2</th>\n",
       "      <td>0.106361</td>\n",
       "      <td>0.130000</td>\n",
       "    </tr>\n",
       "    <tr>\n",
       "      <th>MERINGUE 1</th>\n",
       "      <td>0.100104</td>\n",
       "      <td>0.120000</td>\n",
       "    </tr>\n",
       "    <tr>\n",
       "      <th>GUIA</th>\n",
       "      <td>0.096976</td>\n",
       "      <td>0.106667</td>\n",
       "    </tr>\n",
       "    <tr>\n",
       "      <th>GUEMERE</th>\n",
       "      <td>0.087070</td>\n",
       "      <td>0.133333</td>\n",
       "    </tr>\n",
       "    <tr>\n",
       "      <th>MERINGUE 3</th>\n",
       "      <td>0.050052</td>\n",
       "      <td>0.100000</td>\n",
       "    </tr>\n",
       "  </tbody>\n",
       "</table>\n",
       "</div>"
      ],
      "text/plain": [
       "            Population   Pondéré\n",
       "WIDI          0.230970  0.140000\n",
       "WIDIGUE       0.186131  0.140000\n",
       "AGOLLA        0.142336  0.130000\n",
       "MERINGUE 2    0.106361  0.130000\n",
       "MERINGUE 1    0.100104  0.120000\n",
       "GUIA          0.096976  0.106667\n",
       "GUEMERE       0.087070  0.133333\n",
       "MERINGUE 3    0.050052  0.100000"
      ]
     },
     "execution_count": 78,
     "metadata": {},
     "output_type": "execute_result"
    }
   ],
   "source": [
    "df4"
   ]
  },
  {
   "cell_type": "markdown",
   "id": "b3076a6c-aafc-44a7-8ec3-f02077442abb",
   "metadata": {},
   "source": [
    "#### Observation sur l'échantillonnage pondéré.\n",
    "On constate un réequilibrage des échantillons au niveau des lawanat avec un sous-echantillonnage des lawanats avec un grand nombre de ménages et une sur-echantillonnage des lawanats avec un petit nombre de ménages."
   ]
  },
  {
   "cell_type": "markdown",
   "id": "ff135eb0",
   "metadata": {},
   "source": [
    "## 5. Echantillonnage en grappe."
   ]
  },
  {
   "cell_type": "markdown",
   "id": "eb5d94e5",
   "metadata": {},
   "source": [
    "Nous allons réaliser un échantillon en grappe (une grappe étant un quartier).Nous allons choisir aléatoirement un certain nombre de quartiers (grappes) quartiers de l’ensemble des quartiers de la base de sondage. 10 grappes seront aléatoirement choisies dans l'ensemble de 82 quartiers (grappes). Ensuite toutes les unités des grappes choisies sont insérées dans l'échantillon. L’échantillonnage en grappe constitue très souvent le premier degré d’un échantillonnage à plusieurs degrés. Le second degré sera un échantillonnage aléatoire simple (3 ménages dans chaqune des grappes) dans notre exemple obtenues de l'échantillon obtenue au premier degré."
   ]
  },
  {
   "cell_type": "code",
   "execution_count": 79,
   "id": "e70cdd13",
   "metadata": {},
   "outputs": [],
   "source": [
    "liste_quartiers = list(population.QUARTIER.unique())"
   ]
  },
  {
   "cell_type": "code",
   "execution_count": 80,
   "id": "3c25c372",
   "metadata": {},
   "outputs": [
    {
     "data": {
      "text/plain": [
       "['AGOLLA DOUNA',\n",
       " 'BERE CENTRE',\n",
       " 'BIDWERE 1',\n",
       " 'BIDWERE 2',\n",
       " 'BIDWERE 3',\n",
       " 'BODINGA',\n",
       " 'BOUROU 1',\n",
       " 'BOUROU 2',\n",
       " 'DANAY 1',\n",
       " 'DANAY 2',\n",
       " 'KOMKOSSAYE 1',\n",
       " 'KOMKOSSAYE 2',\n",
       " 'MAGA',\n",
       " 'BOURMI NGUEVELEKE',\n",
       " 'BOURMI RAVANTONGAI',\n",
       " 'DAGADAGA',\n",
       " 'DANAY DOUVOUGOUNI',\n",
       " 'DANAY VOULHANA',\n",
       " 'GUEMERE CENTRE',\n",
       " 'HIRAY',\n",
       " 'KOUSSOUK',\n",
       " 'YOUNA',\n",
       " 'GUIA BACKSARA',\n",
       " 'GUIA BIDWERE',\n",
       " 'GUIA MOKOLOM',\n",
       " 'GUIA RAKAYE',\n",
       " 'GUIA WIDI',\n",
       " 'BACKSARA',\n",
       " 'DARAM',\n",
       " 'DEKDEREK',\n",
       " 'DIGUIMBE',\n",
       " 'DJO',\n",
       " 'GOHO',\n",
       " 'LANGUI',\n",
       " 'MARANDJAM',\n",
       " 'MOKO',\n",
       " 'NOULTONGAYE CENTRE',\n",
       " 'SAKATONGAI',\n",
       " 'FITIMLAYE 1',\n",
       " 'FITIMLAYE 2',\n",
       " 'GANDJANG',\n",
       " 'NETONGAI',\n",
       " 'SOUALAYE',\n",
       " 'TCHONG 1',\n",
       " 'TCHONG 2',\n",
       " 'BANGAL',\n",
       " 'GOLONGOBOYE 1',\n",
       " 'GOLONGOBOYE 2',\n",
       " 'GOUNOURGOU',\n",
       " 'MASSOUANG 1',\n",
       " 'MOUNHA ',\n",
       " 'DINGUE',\n",
       " 'DJALWA',\n",
       " 'DOUGOUDAI',\n",
       " 'GARDI 1',\n",
       " 'GARDI 2',\n",
       " 'GOULMOUN',\n",
       " 'KOKO',\n",
       " 'KOTO 1',\n",
       " 'KOTO 2',\n",
       " 'MINAWA',\n",
       " 'VOUNDARAM',\n",
       " \"WIDI VO'O\",\n",
       " 'YIKA 1',\n",
       " 'YIKA 2',\n",
       " 'DEGUE',\n",
       " 'GAIDA',\n",
       " 'GANGANG 1',\n",
       " 'GUIZEGUE 1',\n",
       " 'GUIZEGUE 2',\n",
       " 'HLAGAM GOURIVA 1',\n",
       " 'HLAGAM GOURIVA 2',\n",
       " 'HLAGAM GOURIVA 3',\n",
       " 'HLAGAM ZIGENDJI',\n",
       " 'KAMAS 1',\n",
       " 'KAMAS 2',\n",
       " 'VALA',\n",
       " 'VEGELENDA',\n",
       " 'WAA',\n",
       " 'WIDIGUE CENTRE',\n",
       " 'YAMTOUKA',\n",
       " 'ZENGUE']"
      ]
     },
     "execution_count": 80,
     "metadata": {},
     "output_type": "execute_result"
    }
   ],
   "source": [
    "liste_quartiers"
   ]
  },
  {
   "cell_type": "code",
   "execution_count": 81,
   "id": "ac9e3f16",
   "metadata": {},
   "outputs": [
    {
     "data": {
      "text/plain": [
       "82"
      ]
     },
     "execution_count": 81,
     "metadata": {},
     "output_type": "execute_result"
    }
   ],
   "source": [
    "len(liste_quartiers)"
   ]
  },
  {
   "cell_type": "markdown",
   "id": "307403b9",
   "metadata": {},
   "source": [
    "Il existe 82 quartiers dans cette base de sondage. Nous voulons selectionner 10 quartiers (10 grappes). Cette étape qui est un échantillonnage en grappe et toutes les unités (ménages) seront inclues dans l'échantillon.Il peut aussi être considéré comme un échantillonnage de premier degré. Dans ce dernier cas un autre échantillonnage à lieu sur les grappes choisies."
   ]
  },
  {
   "cell_type": "code",
   "execution_count": 82,
   "id": "b225aab8",
   "metadata": {},
   "outputs": [],
   "source": [
    "import random"
   ]
  },
  {
   "cell_type": "code",
   "execution_count": 83,
   "id": "70b602c2",
   "metadata": {},
   "outputs": [],
   "source": [
    "random.seed(2027)\n",
    "echantillon_quartiers = random.sample(liste_quartiers, k=10)"
   ]
  },
  {
   "cell_type": "code",
   "execution_count": 84,
   "id": "5868ebca",
   "metadata": {},
   "outputs": [
    {
     "data": {
      "text/plain": [
       "['BOURMI NGUEVELEKE',\n",
       " 'KOTO 2',\n",
       " 'KOMKOSSAYE 1',\n",
       " 'BERE CENTRE',\n",
       " 'NETONGAI',\n",
       " 'DINGUE',\n",
       " 'GUIA BIDWERE',\n",
       " 'VALA',\n",
       " 'KAMAS 2',\n",
       " 'TCHONG 2']"
      ]
     },
     "execution_count": 84,
     "metadata": {},
     "output_type": "execute_result"
    }
   ],
   "source": [
    "echantillon_quartiers"
   ]
  },
  {
   "cell_type": "code",
   "execution_count": 85,
   "id": "34d2da4c",
   "metadata": {},
   "outputs": [
    {
     "data": {
      "text/plain": [
       "Index(['LAWANAT', 'QUARTIER', 'N° MENAGE', '< 1 MASC', '1 - 4 MASC',\n",
       "       '5- 15 MASC', '> 15 MASC', '< 1 FEM', '1 - 4 FEM', '5 - 15 FEM',\n",
       "       '> 15 FEM', 'Total', '< 1', 'menage sans < 1', 'weight'],\n",
       "      dtype='object')"
      ]
     },
     "execution_count": 85,
     "metadata": {},
     "output_type": "execute_result"
    }
   ],
   "source": [
    "population.columns"
   ]
  },
  {
   "cell_type": "code",
   "execution_count": 86,
   "id": "d8ae2b37",
   "metadata": {},
   "outputs": [
    {
     "data": {
      "text/html": [
       "<div>\n",
       "<style scoped>\n",
       "    .dataframe tbody tr th:only-of-type {\n",
       "        vertical-align: middle;\n",
       "    }\n",
       "\n",
       "    .dataframe tbody tr th {\n",
       "        vertical-align: top;\n",
       "    }\n",
       "\n",
       "    .dataframe thead th {\n",
       "        text-align: right;\n",
       "    }\n",
       "</style>\n",
       "<table border=\"1\" class=\"dataframe\">\n",
       "  <thead>\n",
       "    <tr style=\"text-align: right;\">\n",
       "      <th></th>\n",
       "      <th>LAWANAT</th>\n",
       "      <th>QUARTIER</th>\n",
       "      <th>N° MENAGE</th>\n",
       "      <th>&lt; 1 MASC</th>\n",
       "      <th>1 - 4 MASC</th>\n",
       "      <th>5- 15 MASC</th>\n",
       "      <th>&gt; 15 MASC</th>\n",
       "      <th>&lt; 1 FEM</th>\n",
       "      <th>1 - 4 FEM</th>\n",
       "      <th>5 - 15 FEM</th>\n",
       "      <th>&gt; 15 FEM</th>\n",
       "      <th>Total</th>\n",
       "      <th>&lt; 1</th>\n",
       "      <th>menage sans &lt; 1</th>\n",
       "      <th>weight</th>\n",
       "    </tr>\n",
       "  </thead>\n",
       "  <tbody>\n",
       "    <tr>\n",
       "      <th>0</th>\n",
       "      <td>AGOLLA</td>\n",
       "      <td>AGOLLA DOUNA</td>\n",
       "      <td>1</td>\n",
       "      <td>0</td>\n",
       "      <td>1</td>\n",
       "      <td>1</td>\n",
       "      <td>3</td>\n",
       "      <td>0</td>\n",
       "      <td>2</td>\n",
       "      <td>3</td>\n",
       "      <td>4</td>\n",
       "      <td>14</td>\n",
       "      <td>0</td>\n",
       "      <td>True</td>\n",
       "      <td>7.0</td>\n",
       "    </tr>\n",
       "    <tr>\n",
       "      <th>1</th>\n",
       "      <td>AGOLLA</td>\n",
       "      <td>AGOLLA DOUNA</td>\n",
       "      <td>2</td>\n",
       "      <td>0</td>\n",
       "      <td>1</td>\n",
       "      <td>2</td>\n",
       "      <td>2</td>\n",
       "      <td>0</td>\n",
       "      <td>0</td>\n",
       "      <td>1</td>\n",
       "      <td>2</td>\n",
       "      <td>8</td>\n",
       "      <td>0</td>\n",
       "      <td>True</td>\n",
       "      <td>7.0</td>\n",
       "    </tr>\n",
       "  </tbody>\n",
       "</table>\n",
       "</div>"
      ],
      "text/plain": [
       "  LAWANAT      QUARTIER  N° MENAGE  < 1 MASC  1 - 4 MASC  5- 15 MASC  \\\n",
       "0  AGOLLA  AGOLLA DOUNA          1         0           1           1   \n",
       "1  AGOLLA  AGOLLA DOUNA          2         0           1           2   \n",
       "\n",
       "   > 15 MASC  < 1 FEM  1 - 4 FEM  5 - 15 FEM  > 15 FEM  Total  < 1  \\\n",
       "0          3        0          2           3         4     14    0   \n",
       "1          2        0          0           1         2      8    0   \n",
       "\n",
       "   menage sans < 1  weight  \n",
       "0             True     7.0  \n",
       "1             True     7.0  "
      ]
     },
     "execution_count": 86,
     "metadata": {},
     "output_type": "execute_result"
    }
   ],
   "source": [
    "population.head(2)"
   ]
  },
  {
   "cell_type": "code",
   "execution_count": 87,
   "id": "0bb537fe",
   "metadata": {},
   "outputs": [
    {
     "data": {
      "text/html": [
       "<div>\n",
       "<style scoped>\n",
       "    .dataframe tbody tr th:only-of-type {\n",
       "        vertical-align: middle;\n",
       "    }\n",
       "\n",
       "    .dataframe tbody tr th {\n",
       "        vertical-align: top;\n",
       "    }\n",
       "\n",
       "    .dataframe thead th {\n",
       "        text-align: right;\n",
       "    }\n",
       "</style>\n",
       "<table border=\"1\" class=\"dataframe\">\n",
       "  <thead>\n",
       "    <tr style=\"text-align: right;\">\n",
       "      <th></th>\n",
       "      <th>LAWANAT</th>\n",
       "      <th>QUARTIER</th>\n",
       "      <th>N° MENAGE</th>\n",
       "      <th>&lt; 1 MASC</th>\n",
       "      <th>1 - 4 MASC</th>\n",
       "      <th>5- 15 MASC</th>\n",
       "      <th>&gt; 15 MASC</th>\n",
       "      <th>&lt; 1 FEM</th>\n",
       "      <th>1 - 4 FEM</th>\n",
       "      <th>5 - 15 FEM</th>\n",
       "      <th>&gt; 15 FEM</th>\n",
       "      <th>Total</th>\n",
       "      <th>&lt; 1</th>\n",
       "      <th>menage sans &lt; 1</th>\n",
       "      <th>weight</th>\n",
       "    </tr>\n",
       "  </thead>\n",
       "  <tbody>\n",
       "    <tr>\n",
       "      <th>0</th>\n",
       "      <td>AGOLLA</td>\n",
       "      <td>AGOLLA DOUNA</td>\n",
       "      <td>1</td>\n",
       "      <td>0</td>\n",
       "      <td>1</td>\n",
       "      <td>1</td>\n",
       "      <td>3</td>\n",
       "      <td>0</td>\n",
       "      <td>2</td>\n",
       "      <td>3</td>\n",
       "      <td>4</td>\n",
       "      <td>14</td>\n",
       "      <td>0</td>\n",
       "      <td>True</td>\n",
       "      <td>7.0</td>\n",
       "    </tr>\n",
       "    <tr>\n",
       "      <th>1</th>\n",
       "      <td>AGOLLA</td>\n",
       "      <td>AGOLLA DOUNA</td>\n",
       "      <td>2</td>\n",
       "      <td>0</td>\n",
       "      <td>1</td>\n",
       "      <td>2</td>\n",
       "      <td>2</td>\n",
       "      <td>0</td>\n",
       "      <td>0</td>\n",
       "      <td>1</td>\n",
       "      <td>2</td>\n",
       "      <td>8</td>\n",
       "      <td>0</td>\n",
       "      <td>True</td>\n",
       "      <td>7.0</td>\n",
       "    </tr>\n",
       "    <tr>\n",
       "      <th>2</th>\n",
       "      <td>AGOLLA</td>\n",
       "      <td>AGOLLA DOUNA</td>\n",
       "      <td>3</td>\n",
       "      <td>0</td>\n",
       "      <td>1</td>\n",
       "      <td>3</td>\n",
       "      <td>1</td>\n",
       "      <td>0</td>\n",
       "      <td>1</td>\n",
       "      <td>0</td>\n",
       "      <td>3</td>\n",
       "      <td>9</td>\n",
       "      <td>0</td>\n",
       "      <td>True</td>\n",
       "      <td>7.0</td>\n",
       "    </tr>\n",
       "    <tr>\n",
       "      <th>3</th>\n",
       "      <td>AGOLLA</td>\n",
       "      <td>AGOLLA DOUNA</td>\n",
       "      <td>4</td>\n",
       "      <td>0</td>\n",
       "      <td>0</td>\n",
       "      <td>1</td>\n",
       "      <td>3</td>\n",
       "      <td>1</td>\n",
       "      <td>0</td>\n",
       "      <td>0</td>\n",
       "      <td>1</td>\n",
       "      <td>6</td>\n",
       "      <td>1</td>\n",
       "      <td>False</td>\n",
       "      <td>7.0</td>\n",
       "    </tr>\n",
       "    <tr>\n",
       "      <th>4</th>\n",
       "      <td>AGOLLA</td>\n",
       "      <td>AGOLLA DOUNA</td>\n",
       "      <td>5</td>\n",
       "      <td>0</td>\n",
       "      <td>0</td>\n",
       "      <td>2</td>\n",
       "      <td>2</td>\n",
       "      <td>0</td>\n",
       "      <td>1</td>\n",
       "      <td>3</td>\n",
       "      <td>2</td>\n",
       "      <td>10</td>\n",
       "      <td>0</td>\n",
       "      <td>True</td>\n",
       "      <td>7.0</td>\n",
       "    </tr>\n",
       "    <tr>\n",
       "      <th>...</th>\n",
       "      <td>...</td>\n",
       "      <td>...</td>\n",
       "      <td>...</td>\n",
       "      <td>...</td>\n",
       "      <td>...</td>\n",
       "      <td>...</td>\n",
       "      <td>...</td>\n",
       "      <td>...</td>\n",
       "      <td>...</td>\n",
       "      <td>...</td>\n",
       "      <td>...</td>\n",
       "      <td>...</td>\n",
       "      <td>...</td>\n",
       "      <td>...</td>\n",
       "      <td>...</td>\n",
       "    </tr>\n",
       "    <tr>\n",
       "      <th>1913</th>\n",
       "      <td>WIDIGUE</td>\n",
       "      <td>ZENGUE</td>\n",
       "      <td>27</td>\n",
       "      <td>1</td>\n",
       "      <td>2</td>\n",
       "      <td>3</td>\n",
       "      <td>4</td>\n",
       "      <td>0</td>\n",
       "      <td>1</td>\n",
       "      <td>1</td>\n",
       "      <td>2</td>\n",
       "      <td>14</td>\n",
       "      <td>1</td>\n",
       "      <td>False</td>\n",
       "      <td>5.0</td>\n",
       "    </tr>\n",
       "    <tr>\n",
       "      <th>1914</th>\n",
       "      <td>WIDIGUE</td>\n",
       "      <td>ZENGUE</td>\n",
       "      <td>28</td>\n",
       "      <td>2</td>\n",
       "      <td>1</td>\n",
       "      <td>2</td>\n",
       "      <td>5</td>\n",
       "      <td>0</td>\n",
       "      <td>0</td>\n",
       "      <td>1</td>\n",
       "      <td>5</td>\n",
       "      <td>16</td>\n",
       "      <td>2</td>\n",
       "      <td>False</td>\n",
       "      <td>5.0</td>\n",
       "    </tr>\n",
       "    <tr>\n",
       "      <th>1915</th>\n",
       "      <td>WIDIGUE</td>\n",
       "      <td>ZENGUE</td>\n",
       "      <td>29</td>\n",
       "      <td>1</td>\n",
       "      <td>0</td>\n",
       "      <td>3</td>\n",
       "      <td>3</td>\n",
       "      <td>1</td>\n",
       "      <td>0</td>\n",
       "      <td>6</td>\n",
       "      <td>3</td>\n",
       "      <td>17</td>\n",
       "      <td>2</td>\n",
       "      <td>False</td>\n",
       "      <td>5.0</td>\n",
       "    </tr>\n",
       "    <tr>\n",
       "      <th>1916</th>\n",
       "      <td>WIDIGUE</td>\n",
       "      <td>ZENGUE</td>\n",
       "      <td>30</td>\n",
       "      <td>1</td>\n",
       "      <td>2</td>\n",
       "      <td>0</td>\n",
       "      <td>3</td>\n",
       "      <td>0</td>\n",
       "      <td>1</td>\n",
       "      <td>2</td>\n",
       "      <td>3</td>\n",
       "      <td>12</td>\n",
       "      <td>1</td>\n",
       "      <td>False</td>\n",
       "      <td>5.0</td>\n",
       "    </tr>\n",
       "    <tr>\n",
       "      <th>1917</th>\n",
       "      <td>WIDIGUE</td>\n",
       "      <td>ZENGUE</td>\n",
       "      <td>31</td>\n",
       "      <td>0</td>\n",
       "      <td>1</td>\n",
       "      <td>2</td>\n",
       "      <td>1</td>\n",
       "      <td>0</td>\n",
       "      <td>1</td>\n",
       "      <td>1</td>\n",
       "      <td>1</td>\n",
       "      <td>7</td>\n",
       "      <td>0</td>\n",
       "      <td>True</td>\n",
       "      <td>5.0</td>\n",
       "    </tr>\n",
       "  </tbody>\n",
       "</table>\n",
       "<p>1918 rows × 15 columns</p>\n",
       "</div>"
      ],
      "text/plain": [
       "      LAWANAT      QUARTIER  N° MENAGE  < 1 MASC  1 - 4 MASC  5- 15 MASC  \\\n",
       "0      AGOLLA  AGOLLA DOUNA          1         0           1           1   \n",
       "1      AGOLLA  AGOLLA DOUNA          2         0           1           2   \n",
       "2      AGOLLA  AGOLLA DOUNA          3         0           1           3   \n",
       "3      AGOLLA  AGOLLA DOUNA          4         0           0           1   \n",
       "4      AGOLLA  AGOLLA DOUNA          5         0           0           2   \n",
       "...       ...           ...        ...       ...         ...         ...   \n",
       "1913  WIDIGUE        ZENGUE         27         1           2           3   \n",
       "1914  WIDIGUE        ZENGUE         28         2           1           2   \n",
       "1915  WIDIGUE        ZENGUE         29         1           0           3   \n",
       "1916  WIDIGUE        ZENGUE         30         1           2           0   \n",
       "1917  WIDIGUE        ZENGUE         31         0           1           2   \n",
       "\n",
       "      > 15 MASC  < 1 FEM  1 - 4 FEM  5 - 15 FEM  > 15 FEM  Total  < 1  \\\n",
       "0             3        0          2           3         4     14    0   \n",
       "1             2        0          0           1         2      8    0   \n",
       "2             1        0          1           0         3      9    0   \n",
       "3             3        1          0           0         1      6    1   \n",
       "4             2        0          1           3         2     10    0   \n",
       "...         ...      ...        ...         ...       ...    ...  ...   \n",
       "1913          4        0          1           1         2     14    1   \n",
       "1914          5        0          0           1         5     16    2   \n",
       "1915          3        1          0           6         3     17    2   \n",
       "1916          3        0          1           2         3     12    1   \n",
       "1917          1        0          1           1         1      7    0   \n",
       "\n",
       "      menage sans < 1  weight  \n",
       "0                True     7.0  \n",
       "1                True     7.0  \n",
       "2                True     7.0  \n",
       "3               False     7.0  \n",
       "4                True     7.0  \n",
       "...               ...     ...  \n",
       "1913            False     5.0  \n",
       "1914            False     5.0  \n",
       "1915            False     5.0  \n",
       "1916            False     5.0  \n",
       "1917             True     5.0  \n",
       "\n",
       "[1918 rows x 15 columns]"
      ]
     },
     "execution_count": 87,
     "metadata": {},
     "output_type": "execute_result"
    }
   ],
   "source": [
    "population"
   ]
  },
  {
   "cell_type": "code",
   "execution_count": 88,
   "id": "9fc3d72a",
   "metadata": {},
   "outputs": [],
   "source": [
    "condition = population['QUARTIER'].isin(echantillon_quartiers)"
   ]
  },
  {
   "cell_type": "code",
   "execution_count": 89,
   "id": "0ac2587d",
   "metadata": {},
   "outputs": [],
   "source": [
    "quartiers_filtres = population[condition]"
   ]
  },
  {
   "cell_type": "code",
   "execution_count": 90,
   "id": "ab7d318f",
   "metadata": {},
   "outputs": [
    {
     "data": {
      "text/plain": [
       "TCHONG 2             47\n",
       "DINGUE               46\n",
       "KOMKOSSAYE 1         45\n",
       "BOURMI NGUEVELEKE    39\n",
       "GUIA BIDWERE         35\n",
       "NETONGAI             28\n",
       "KOTO 2               26\n",
       "BERE CENTRE          24\n",
       "VALA                 18\n",
       "KAMAS 2               8\n",
       "Name: QUARTIER, dtype: int64"
      ]
     },
     "execution_count": 90,
     "metadata": {},
     "output_type": "execute_result"
    }
   ],
   "source": [
    "quartiers_filtres['QUARTIER'].value_counts()"
   ]
  },
  {
   "cell_type": "code",
   "execution_count": 91,
   "id": "38189bb4",
   "metadata": {},
   "outputs": [
    {
     "data": {
      "text/html": [
       "<div>\n",
       "<style scoped>\n",
       "    .dataframe tbody tr th:only-of-type {\n",
       "        vertical-align: middle;\n",
       "    }\n",
       "\n",
       "    .dataframe tbody tr th {\n",
       "        vertical-align: top;\n",
       "    }\n",
       "\n",
       "    .dataframe thead th {\n",
       "        text-align: right;\n",
       "    }\n",
       "</style>\n",
       "<table border=\"1\" class=\"dataframe\">\n",
       "  <thead>\n",
       "    <tr style=\"text-align: right;\">\n",
       "      <th></th>\n",
       "      <th>LAWANAT</th>\n",
       "      <th>QUARTIER</th>\n",
       "      <th>N° MENAGE</th>\n",
       "      <th>&lt; 1 MASC</th>\n",
       "      <th>1 - 4 MASC</th>\n",
       "      <th>5- 15 MASC</th>\n",
       "      <th>&gt; 15 MASC</th>\n",
       "      <th>&lt; 1 FEM</th>\n",
       "      <th>1 - 4 FEM</th>\n",
       "      <th>5 - 15 FEM</th>\n",
       "      <th>&gt; 15 FEM</th>\n",
       "      <th>Total</th>\n",
       "      <th>&lt; 1</th>\n",
       "      <th>menage sans &lt; 1</th>\n",
       "      <th>weight</th>\n",
       "    </tr>\n",
       "  </thead>\n",
       "  <tbody>\n",
       "    <tr>\n",
       "      <th>14</th>\n",
       "      <td>AGOLLA</td>\n",
       "      <td>BERE CENTRE</td>\n",
       "      <td>1</td>\n",
       "      <td>0</td>\n",
       "      <td>2</td>\n",
       "      <td>3</td>\n",
       "      <td>1</td>\n",
       "      <td>0</td>\n",
       "      <td>0</td>\n",
       "      <td>2</td>\n",
       "      <td>2</td>\n",
       "      <td>10</td>\n",
       "      <td>0</td>\n",
       "      <td>True</td>\n",
       "      <td>7.0</td>\n",
       "    </tr>\n",
       "    <tr>\n",
       "      <th>15</th>\n",
       "      <td>AGOLLA</td>\n",
       "      <td>BERE CENTRE</td>\n",
       "      <td>2</td>\n",
       "      <td>0</td>\n",
       "      <td>0</td>\n",
       "      <td>0</td>\n",
       "      <td>2</td>\n",
       "      <td>0</td>\n",
       "      <td>1</td>\n",
       "      <td>3</td>\n",
       "      <td>1</td>\n",
       "      <td>7</td>\n",
       "      <td>0</td>\n",
       "      <td>True</td>\n",
       "      <td>7.0</td>\n",
       "    </tr>\n",
       "    <tr>\n",
       "      <th>16</th>\n",
       "      <td>AGOLLA</td>\n",
       "      <td>BERE CENTRE</td>\n",
       "      <td>3</td>\n",
       "      <td>0</td>\n",
       "      <td>0</td>\n",
       "      <td>0</td>\n",
       "      <td>1</td>\n",
       "      <td>0</td>\n",
       "      <td>1</td>\n",
       "      <td>0</td>\n",
       "      <td>2</td>\n",
       "      <td>4</td>\n",
       "      <td>0</td>\n",
       "      <td>True</td>\n",
       "      <td>7.0</td>\n",
       "    </tr>\n",
       "    <tr>\n",
       "      <th>17</th>\n",
       "      <td>AGOLLA</td>\n",
       "      <td>BERE CENTRE</td>\n",
       "      <td>4</td>\n",
       "      <td>0</td>\n",
       "      <td>1</td>\n",
       "      <td>0</td>\n",
       "      <td>1</td>\n",
       "      <td>1</td>\n",
       "      <td>0</td>\n",
       "      <td>0</td>\n",
       "      <td>1</td>\n",
       "      <td>4</td>\n",
       "      <td>1</td>\n",
       "      <td>False</td>\n",
       "      <td>7.0</td>\n",
       "    </tr>\n",
       "    <tr>\n",
       "      <th>18</th>\n",
       "      <td>AGOLLA</td>\n",
       "      <td>BERE CENTRE</td>\n",
       "      <td>5</td>\n",
       "      <td>0</td>\n",
       "      <td>0</td>\n",
       "      <td>1</td>\n",
       "      <td>1</td>\n",
       "      <td>0</td>\n",
       "      <td>0</td>\n",
       "      <td>2</td>\n",
       "      <td>2</td>\n",
       "      <td>6</td>\n",
       "      <td>0</td>\n",
       "      <td>True</td>\n",
       "      <td>7.0</td>\n",
       "    </tr>\n",
       "  </tbody>\n",
       "</table>\n",
       "</div>"
      ],
      "text/plain": [
       "   LAWANAT     QUARTIER  N° MENAGE  < 1 MASC  1 - 4 MASC  5- 15 MASC  \\\n",
       "14  AGOLLA  BERE CENTRE          1         0           2           3   \n",
       "15  AGOLLA  BERE CENTRE          2         0           0           0   \n",
       "16  AGOLLA  BERE CENTRE          3         0           0           0   \n",
       "17  AGOLLA  BERE CENTRE          4         0           1           0   \n",
       "18  AGOLLA  BERE CENTRE          5         0           0           1   \n",
       "\n",
       "    > 15 MASC  < 1 FEM  1 - 4 FEM  5 - 15 FEM  > 15 FEM  Total  < 1  \\\n",
       "14          1        0          0           2         2     10    0   \n",
       "15          2        0          1           3         1      7    0   \n",
       "16          1        0          1           0         2      4    0   \n",
       "17          1        1          0           0         1      4    1   \n",
       "18          1        0          0           2         2      6    0   \n",
       "\n",
       "    menage sans < 1  weight  \n",
       "14             True     7.0  \n",
       "15             True     7.0  \n",
       "16             True     7.0  \n",
       "17            False     7.0  \n",
       "18             True     7.0  "
      ]
     },
     "execution_count": 91,
     "metadata": {},
     "output_type": "execute_result"
    }
   ],
   "source": [
    "quartiers_filtres.head()"
   ]
  },
  {
   "cell_type": "code",
   "execution_count": 92,
   "id": "aaa49b4b",
   "metadata": {},
   "outputs": [],
   "source": [
    "# Si la colonne était de type \"categorie\", on allait executer d'abord cette ligne de code ci dessous pour enlever les categories sans lignes\n",
    "# quartiers_filtres['QUARTIER'] = quartiers_filtres['QUARTIER'].cat.remove_unused_categories()"
   ]
  },
  {
   "cell_type": "markdown",
   "id": "17295c1f",
   "metadata": {},
   "source": [
    "#### Second degré de l'échantillonnage"
   ]
  },
  {
   "cell_type": "code",
   "execution_count": 93,
   "id": "daa6078b",
   "metadata": {},
   "outputs": [],
   "source": [
    "echantillon_en_grappe = quartiers_filtres.groupby('QUARTIER').sample(n=3, random_state=2028)"
   ]
  },
  {
   "cell_type": "code",
   "execution_count": 94,
   "id": "cd242e9f",
   "metadata": {},
   "outputs": [
    {
     "data": {
      "text/plain": [
       "BERE CENTRE          3\n",
       "BOURMI NGUEVELEKE    3\n",
       "DINGUE               3\n",
       "GUIA BIDWERE         3\n",
       "KAMAS 2              3\n",
       "KOMKOSSAYE 1         3\n",
       "KOTO 2               3\n",
       "NETONGAI             3\n",
       "TCHONG 2             3\n",
       "VALA                 3\n",
       "Name: QUARTIER, dtype: int64"
      ]
     },
     "execution_count": 94,
     "metadata": {},
     "output_type": "execute_result"
    }
   ],
   "source": [
    "echantillon_en_grappe.QUARTIER.value_counts()"
   ]
  },
  {
   "cell_type": "code",
   "execution_count": 95,
   "id": "026b8f39",
   "metadata": {},
   "outputs": [
    {
     "data": {
      "text/html": [
       "<div>\n",
       "<style scoped>\n",
       "    .dataframe tbody tr th:only-of-type {\n",
       "        vertical-align: middle;\n",
       "    }\n",
       "\n",
       "    .dataframe tbody tr th {\n",
       "        vertical-align: top;\n",
       "    }\n",
       "\n",
       "    .dataframe thead th {\n",
       "        text-align: right;\n",
       "    }\n",
       "</style>\n",
       "<table border=\"1\" class=\"dataframe\">\n",
       "  <thead>\n",
       "    <tr style=\"text-align: right;\">\n",
       "      <th></th>\n",
       "      <th>LAWANAT</th>\n",
       "      <th>QUARTIER</th>\n",
       "      <th>N° MENAGE</th>\n",
       "      <th>&lt; 1 MASC</th>\n",
       "      <th>1 - 4 MASC</th>\n",
       "      <th>5- 15 MASC</th>\n",
       "      <th>&gt; 15 MASC</th>\n",
       "      <th>&lt; 1 FEM</th>\n",
       "      <th>1 - 4 FEM</th>\n",
       "      <th>5 - 15 FEM</th>\n",
       "      <th>&gt; 15 FEM</th>\n",
       "      <th>Total</th>\n",
       "      <th>&lt; 1</th>\n",
       "      <th>menage sans &lt; 1</th>\n",
       "      <th>weight</th>\n",
       "    </tr>\n",
       "  </thead>\n",
       "  <tbody>\n",
       "    <tr>\n",
       "      <th>29</th>\n",
       "      <td>AGOLLA</td>\n",
       "      <td>BERE CENTRE</td>\n",
       "      <td>16</td>\n",
       "      <td>0</td>\n",
       "      <td>1</td>\n",
       "      <td>0</td>\n",
       "      <td>3</td>\n",
       "      <td>0</td>\n",
       "      <td>0</td>\n",
       "      <td>0</td>\n",
       "      <td>1</td>\n",
       "      <td>5</td>\n",
       "      <td>0</td>\n",
       "      <td>True</td>\n",
       "      <td>7.0</td>\n",
       "    </tr>\n",
       "    <tr>\n",
       "      <th>18</th>\n",
       "      <td>AGOLLA</td>\n",
       "      <td>BERE CENTRE</td>\n",
       "      <td>5</td>\n",
       "      <td>0</td>\n",
       "      <td>0</td>\n",
       "      <td>1</td>\n",
       "      <td>1</td>\n",
       "      <td>0</td>\n",
       "      <td>0</td>\n",
       "      <td>2</td>\n",
       "      <td>2</td>\n",
       "      <td>6</td>\n",
       "      <td>0</td>\n",
       "      <td>True</td>\n",
       "      <td>7.0</td>\n",
       "    </tr>\n",
       "    <tr>\n",
       "      <th>15</th>\n",
       "      <td>AGOLLA</td>\n",
       "      <td>BERE CENTRE</td>\n",
       "      <td>2</td>\n",
       "      <td>0</td>\n",
       "      <td>0</td>\n",
       "      <td>0</td>\n",
       "      <td>2</td>\n",
       "      <td>0</td>\n",
       "      <td>1</td>\n",
       "      <td>3</td>\n",
       "      <td>1</td>\n",
       "      <td>7</td>\n",
       "      <td>0</td>\n",
       "      <td>True</td>\n",
       "      <td>7.0</td>\n",
       "    </tr>\n",
       "    <tr>\n",
       "      <th>307</th>\n",
       "      <td>GUEMERE</td>\n",
       "      <td>BOURMI NGUEVELEKE</td>\n",
       "      <td>35</td>\n",
       "      <td>0</td>\n",
       "      <td>1</td>\n",
       "      <td>2</td>\n",
       "      <td>1</td>\n",
       "      <td>0</td>\n",
       "      <td>1</td>\n",
       "      <td>1</td>\n",
       "      <td>1</td>\n",
       "      <td>7</td>\n",
       "      <td>0</td>\n",
       "      <td>True</td>\n",
       "      <td>11.0</td>\n",
       "    </tr>\n",
       "    <tr>\n",
       "      <th>294</th>\n",
       "      <td>GUEMERE</td>\n",
       "      <td>BOURMI NGUEVELEKE</td>\n",
       "      <td>22</td>\n",
       "      <td>0</td>\n",
       "      <td>0</td>\n",
       "      <td>1</td>\n",
       "      <td>0</td>\n",
       "      <td>0</td>\n",
       "      <td>0</td>\n",
       "      <td>0</td>\n",
       "      <td>0</td>\n",
       "      <td>1</td>\n",
       "      <td>0</td>\n",
       "      <td>True</td>\n",
       "      <td>11.0</td>\n",
       "    </tr>\n",
       "    <tr>\n",
       "      <th>278</th>\n",
       "      <td>GUEMERE</td>\n",
       "      <td>BOURMI NGUEVELEKE</td>\n",
       "      <td>6</td>\n",
       "      <td>0</td>\n",
       "      <td>0</td>\n",
       "      <td>0</td>\n",
       "      <td>1</td>\n",
       "      <td>0</td>\n",
       "      <td>2</td>\n",
       "      <td>0</td>\n",
       "      <td>1</td>\n",
       "      <td>4</td>\n",
       "      <td>0</td>\n",
       "      <td>True</td>\n",
       "      <td>11.0</td>\n",
       "    </tr>\n",
       "    <tr>\n",
       "      <th>1140</th>\n",
       "      <td>WIDI</td>\n",
       "      <td>DINGUE</td>\n",
       "      <td>23</td>\n",
       "      <td>0</td>\n",
       "      <td>0</td>\n",
       "      <td>3</td>\n",
       "      <td>3</td>\n",
       "      <td>0</td>\n",
       "      <td>1</td>\n",
       "      <td>2</td>\n",
       "      <td>2</td>\n",
       "      <td>11</td>\n",
       "      <td>0</td>\n",
       "      <td>True</td>\n",
       "      <td>4.0</td>\n",
       "    </tr>\n",
       "    <tr>\n",
       "      <th>1149</th>\n",
       "      <td>WIDI</td>\n",
       "      <td>DINGUE</td>\n",
       "      <td>32</td>\n",
       "      <td>0</td>\n",
       "      <td>0</td>\n",
       "      <td>1</td>\n",
       "      <td>2</td>\n",
       "      <td>0</td>\n",
       "      <td>0</td>\n",
       "      <td>2</td>\n",
       "      <td>1</td>\n",
       "      <td>6</td>\n",
       "      <td>0</td>\n",
       "      <td>True</td>\n",
       "      <td>4.0</td>\n",
       "    </tr>\n",
       "    <tr>\n",
       "      <th>1148</th>\n",
       "      <td>WIDI</td>\n",
       "      <td>DINGUE</td>\n",
       "      <td>31</td>\n",
       "      <td>0</td>\n",
       "      <td>1</td>\n",
       "      <td>1</td>\n",
       "      <td>3</td>\n",
       "      <td>0</td>\n",
       "      <td>0</td>\n",
       "      <td>0</td>\n",
       "      <td>2</td>\n",
       "      <td>7</td>\n",
       "      <td>0</td>\n",
       "      <td>True</td>\n",
       "      <td>4.0</td>\n",
       "    </tr>\n",
       "    <tr>\n",
       "      <th>484</th>\n",
       "      <td>GUIA</td>\n",
       "      <td>GUIA BIDWERE</td>\n",
       "      <td>17</td>\n",
       "      <td>1</td>\n",
       "      <td>0</td>\n",
       "      <td>1</td>\n",
       "      <td>0</td>\n",
       "      <td>0</td>\n",
       "      <td>0</td>\n",
       "      <td>2</td>\n",
       "      <td>2</td>\n",
       "      <td>6</td>\n",
       "      <td>1</td>\n",
       "      <td>False</td>\n",
       "      <td>10.0</td>\n",
       "    </tr>\n",
       "    <tr>\n",
       "      <th>489</th>\n",
       "      <td>GUIA</td>\n",
       "      <td>GUIA BIDWERE</td>\n",
       "      <td>22</td>\n",
       "      <td>0</td>\n",
       "      <td>0</td>\n",
       "      <td>2</td>\n",
       "      <td>2</td>\n",
       "      <td>1</td>\n",
       "      <td>0</td>\n",
       "      <td>1</td>\n",
       "      <td>4</td>\n",
       "      <td>10</td>\n",
       "      <td>1</td>\n",
       "      <td>False</td>\n",
       "      <td>10.0</td>\n",
       "    </tr>\n",
       "    <tr>\n",
       "      <th>480</th>\n",
       "      <td>GUIA</td>\n",
       "      <td>GUIA BIDWERE</td>\n",
       "      <td>13</td>\n",
       "      <td>0</td>\n",
       "      <td>0</td>\n",
       "      <td>0</td>\n",
       "      <td>1</td>\n",
       "      <td>0</td>\n",
       "      <td>1</td>\n",
       "      <td>2</td>\n",
       "      <td>3</td>\n",
       "      <td>7</td>\n",
       "      <td>0</td>\n",
       "      <td>True</td>\n",
       "      <td>10.0</td>\n",
       "    </tr>\n",
       "    <tr>\n",
       "      <th>1779</th>\n",
       "      <td>WIDIGUE</td>\n",
       "      <td>KAMAS 2</td>\n",
       "      <td>8</td>\n",
       "      <td>0</td>\n",
       "      <td>2</td>\n",
       "      <td>3</td>\n",
       "      <td>1</td>\n",
       "      <td>0</td>\n",
       "      <td>0</td>\n",
       "      <td>5</td>\n",
       "      <td>6</td>\n",
       "      <td>17</td>\n",
       "      <td>0</td>\n",
       "      <td>True</td>\n",
       "      <td>5.0</td>\n",
       "    </tr>\n",
       "    <tr>\n",
       "      <th>1777</th>\n",
       "      <td>WIDIGUE</td>\n",
       "      <td>KAMAS 2</td>\n",
       "      <td>6</td>\n",
       "      <td>0</td>\n",
       "      <td>0</td>\n",
       "      <td>2</td>\n",
       "      <td>4</td>\n",
       "      <td>0</td>\n",
       "      <td>1</td>\n",
       "      <td>4</td>\n",
       "      <td>5</td>\n",
       "      <td>16</td>\n",
       "      <td>0</td>\n",
       "      <td>True</td>\n",
       "      <td>5.0</td>\n",
       "    </tr>\n",
       "    <tr>\n",
       "      <th>1772</th>\n",
       "      <td>WIDIGUE</td>\n",
       "      <td>KAMAS 2</td>\n",
       "      <td>1</td>\n",
       "      <td>0</td>\n",
       "      <td>1</td>\n",
       "      <td>2</td>\n",
       "      <td>4</td>\n",
       "      <td>0</td>\n",
       "      <td>2</td>\n",
       "      <td>2</td>\n",
       "      <td>2</td>\n",
       "      <td>13</td>\n",
       "      <td>0</td>\n",
       "      <td>True</td>\n",
       "      <td>5.0</td>\n",
       "    </tr>\n",
       "    <tr>\n",
       "      <th>225</th>\n",
       "      <td>AGOLLA</td>\n",
       "      <td>KOMKOSSAYE 1</td>\n",
       "      <td>27</td>\n",
       "      <td>1</td>\n",
       "      <td>1</td>\n",
       "      <td>3</td>\n",
       "      <td>2</td>\n",
       "      <td>0</td>\n",
       "      <td>0</td>\n",
       "      <td>5</td>\n",
       "      <td>8</td>\n",
       "      <td>20</td>\n",
       "      <td>1</td>\n",
       "      <td>False</td>\n",
       "      <td>7.0</td>\n",
       "    </tr>\n",
       "    <tr>\n",
       "      <th>235</th>\n",
       "      <td>AGOLLA</td>\n",
       "      <td>KOMKOSSAYE 1</td>\n",
       "      <td>37</td>\n",
       "      <td>0</td>\n",
       "      <td>1</td>\n",
       "      <td>2</td>\n",
       "      <td>3</td>\n",
       "      <td>0</td>\n",
       "      <td>0</td>\n",
       "      <td>1</td>\n",
       "      <td>5</td>\n",
       "      <td>12</td>\n",
       "      <td>0</td>\n",
       "      <td>True</td>\n",
       "      <td>7.0</td>\n",
       "    </tr>\n",
       "    <tr>\n",
       "      <th>208</th>\n",
       "      <td>AGOLLA</td>\n",
       "      <td>KOMKOSSAYE 1</td>\n",
       "      <td>10</td>\n",
       "      <td>0</td>\n",
       "      <td>1</td>\n",
       "      <td>2</td>\n",
       "      <td>2</td>\n",
       "      <td>0</td>\n",
       "      <td>1</td>\n",
       "      <td>1</td>\n",
       "      <td>2</td>\n",
       "      <td>9</td>\n",
       "      <td>0</td>\n",
       "      <td>True</td>\n",
       "      <td>7.0</td>\n",
       "    </tr>\n",
       "    <tr>\n",
       "      <th>1391</th>\n",
       "      <td>WIDI</td>\n",
       "      <td>KOTO 2</td>\n",
       "      <td>17</td>\n",
       "      <td>0</td>\n",
       "      <td>0</td>\n",
       "      <td>3</td>\n",
       "      <td>1</td>\n",
       "      <td>0</td>\n",
       "      <td>1</td>\n",
       "      <td>0</td>\n",
       "      <td>1</td>\n",
       "      <td>6</td>\n",
       "      <td>0</td>\n",
       "      <td>True</td>\n",
       "      <td>4.0</td>\n",
       "    </tr>\n",
       "    <tr>\n",
       "      <th>1393</th>\n",
       "      <td>WIDI</td>\n",
       "      <td>KOTO 2</td>\n",
       "      <td>19</td>\n",
       "      <td>0</td>\n",
       "      <td>0</td>\n",
       "      <td>1</td>\n",
       "      <td>2</td>\n",
       "      <td>1</td>\n",
       "      <td>1</td>\n",
       "      <td>2</td>\n",
       "      <td>5</td>\n",
       "      <td>12</td>\n",
       "      <td>1</td>\n",
       "      <td>False</td>\n",
       "      <td>4.0</td>\n",
       "    </tr>\n",
       "    <tr>\n",
       "      <th>1394</th>\n",
       "      <td>WIDI</td>\n",
       "      <td>KOTO 2</td>\n",
       "      <td>20</td>\n",
       "      <td>0</td>\n",
       "      <td>1</td>\n",
       "      <td>3</td>\n",
       "      <td>2</td>\n",
       "      <td>0</td>\n",
       "      <td>0</td>\n",
       "      <td>2</td>\n",
       "      <td>4</td>\n",
       "      <td>12</td>\n",
       "      <td>0</td>\n",
       "      <td>True</td>\n",
       "      <td>4.0</td>\n",
       "    </tr>\n",
       "    <tr>\n",
       "      <th>907</th>\n",
       "      <td>MERINGUE 2</td>\n",
       "      <td>NETONGAI</td>\n",
       "      <td>20</td>\n",
       "      <td>0</td>\n",
       "      <td>0</td>\n",
       "      <td>1</td>\n",
       "      <td>3</td>\n",
       "      <td>0</td>\n",
       "      <td>1</td>\n",
       "      <td>4</td>\n",
       "      <td>4</td>\n",
       "      <td>13</td>\n",
       "      <td>0</td>\n",
       "      <td>True</td>\n",
       "      <td>9.0</td>\n",
       "    </tr>\n",
       "    <tr>\n",
       "      <th>908</th>\n",
       "      <td>MERINGUE 2</td>\n",
       "      <td>NETONGAI</td>\n",
       "      <td>21</td>\n",
       "      <td>0</td>\n",
       "      <td>0</td>\n",
       "      <td>2</td>\n",
       "      <td>1</td>\n",
       "      <td>0</td>\n",
       "      <td>0</td>\n",
       "      <td>1</td>\n",
       "      <td>1</td>\n",
       "      <td>5</td>\n",
       "      <td>0</td>\n",
       "      <td>True</td>\n",
       "      <td>9.0</td>\n",
       "    </tr>\n",
       "    <tr>\n",
       "      <th>890</th>\n",
       "      <td>MERINGUE 2</td>\n",
       "      <td>NETONGAI</td>\n",
       "      <td>3</td>\n",
       "      <td>0</td>\n",
       "      <td>0</td>\n",
       "      <td>0</td>\n",
       "      <td>7</td>\n",
       "      <td>0</td>\n",
       "      <td>0</td>\n",
       "      <td>4</td>\n",
       "      <td>5</td>\n",
       "      <td>16</td>\n",
       "      <td>0</td>\n",
       "      <td>True</td>\n",
       "      <td>9.0</td>\n",
       "    </tr>\n",
       "    <tr>\n",
       "      <th>1021</th>\n",
       "      <td>MERINGUE 2</td>\n",
       "      <td>TCHONG 2</td>\n",
       "      <td>47</td>\n",
       "      <td>0</td>\n",
       "      <td>1</td>\n",
       "      <td>1</td>\n",
       "      <td>3</td>\n",
       "      <td>0</td>\n",
       "      <td>0</td>\n",
       "      <td>1</td>\n",
       "      <td>2</td>\n",
       "      <td>8</td>\n",
       "      <td>0</td>\n",
       "      <td>True</td>\n",
       "      <td>9.0</td>\n",
       "    </tr>\n",
       "    <tr>\n",
       "      <th>1014</th>\n",
       "      <td>MERINGUE 2</td>\n",
       "      <td>TCHONG 2</td>\n",
       "      <td>40</td>\n",
       "      <td>0</td>\n",
       "      <td>0</td>\n",
       "      <td>1</td>\n",
       "      <td>1</td>\n",
       "      <td>0</td>\n",
       "      <td>1</td>\n",
       "      <td>1</td>\n",
       "      <td>1</td>\n",
       "      <td>5</td>\n",
       "      <td>0</td>\n",
       "      <td>True</td>\n",
       "      <td>9.0</td>\n",
       "    </tr>\n",
       "    <tr>\n",
       "      <th>1020</th>\n",
       "      <td>MERINGUE 2</td>\n",
       "      <td>TCHONG 2</td>\n",
       "      <td>46</td>\n",
       "      <td>0</td>\n",
       "      <td>0</td>\n",
       "      <td>1</td>\n",
       "      <td>2</td>\n",
       "      <td>0</td>\n",
       "      <td>1</td>\n",
       "      <td>0</td>\n",
       "      <td>2</td>\n",
       "      <td>6</td>\n",
       "      <td>0</td>\n",
       "      <td>True</td>\n",
       "      <td>9.0</td>\n",
       "    </tr>\n",
       "    <tr>\n",
       "      <th>1780</th>\n",
       "      <td>WIDIGUE</td>\n",
       "      <td>VALA</td>\n",
       "      <td>1</td>\n",
       "      <td>0</td>\n",
       "      <td>2</td>\n",
       "      <td>2</td>\n",
       "      <td>5</td>\n",
       "      <td>0</td>\n",
       "      <td>0</td>\n",
       "      <td>4</td>\n",
       "      <td>6</td>\n",
       "      <td>19</td>\n",
       "      <td>0</td>\n",
       "      <td>True</td>\n",
       "      <td>5.0</td>\n",
       "    </tr>\n",
       "    <tr>\n",
       "      <th>1795</th>\n",
       "      <td>WIDIGUE</td>\n",
       "      <td>VALA</td>\n",
       "      <td>16</td>\n",
       "      <td>0</td>\n",
       "      <td>0</td>\n",
       "      <td>0</td>\n",
       "      <td>7</td>\n",
       "      <td>0</td>\n",
       "      <td>0</td>\n",
       "      <td>0</td>\n",
       "      <td>3</td>\n",
       "      <td>10</td>\n",
       "      <td>0</td>\n",
       "      <td>True</td>\n",
       "      <td>5.0</td>\n",
       "    </tr>\n",
       "    <tr>\n",
       "      <th>1784</th>\n",
       "      <td>WIDIGUE</td>\n",
       "      <td>VALA</td>\n",
       "      <td>5</td>\n",
       "      <td>0</td>\n",
       "      <td>1</td>\n",
       "      <td>3</td>\n",
       "      <td>2</td>\n",
       "      <td>0</td>\n",
       "      <td>0</td>\n",
       "      <td>0</td>\n",
       "      <td>3</td>\n",
       "      <td>9</td>\n",
       "      <td>0</td>\n",
       "      <td>True</td>\n",
       "      <td>5.0</td>\n",
       "    </tr>\n",
       "  </tbody>\n",
       "</table>\n",
       "</div>"
      ],
      "text/plain": [
       "         LAWANAT           QUARTIER  N° MENAGE  < 1 MASC  1 - 4 MASC  \\\n",
       "29        AGOLLA        BERE CENTRE         16         0           1   \n",
       "18        AGOLLA        BERE CENTRE          5         0           0   \n",
       "15        AGOLLA        BERE CENTRE          2         0           0   \n",
       "307      GUEMERE  BOURMI NGUEVELEKE         35         0           1   \n",
       "294      GUEMERE  BOURMI NGUEVELEKE         22         0           0   \n",
       "278      GUEMERE  BOURMI NGUEVELEKE          6         0           0   \n",
       "1140        WIDI             DINGUE         23         0           0   \n",
       "1149        WIDI             DINGUE         32         0           0   \n",
       "1148        WIDI             DINGUE         31         0           1   \n",
       "484         GUIA       GUIA BIDWERE         17         1           0   \n",
       "489         GUIA       GUIA BIDWERE         22         0           0   \n",
       "480         GUIA       GUIA BIDWERE         13         0           0   \n",
       "1779     WIDIGUE            KAMAS 2          8         0           2   \n",
       "1777     WIDIGUE            KAMAS 2          6         0           0   \n",
       "1772     WIDIGUE            KAMAS 2          1         0           1   \n",
       "225       AGOLLA       KOMKOSSAYE 1         27         1           1   \n",
       "235       AGOLLA       KOMKOSSAYE 1         37         0           1   \n",
       "208       AGOLLA       KOMKOSSAYE 1         10         0           1   \n",
       "1391        WIDI             KOTO 2         17         0           0   \n",
       "1393        WIDI             KOTO 2         19         0           0   \n",
       "1394        WIDI             KOTO 2         20         0           1   \n",
       "907   MERINGUE 2           NETONGAI         20         0           0   \n",
       "908   MERINGUE 2           NETONGAI         21         0           0   \n",
       "890   MERINGUE 2           NETONGAI          3         0           0   \n",
       "1021  MERINGUE 2           TCHONG 2         47         0           1   \n",
       "1014  MERINGUE 2           TCHONG 2         40         0           0   \n",
       "1020  MERINGUE 2           TCHONG 2         46         0           0   \n",
       "1780     WIDIGUE               VALA          1         0           2   \n",
       "1795     WIDIGUE               VALA         16         0           0   \n",
       "1784     WIDIGUE               VALA          5         0           1   \n",
       "\n",
       "      5- 15 MASC  > 15 MASC  < 1 FEM  1 - 4 FEM  5 - 15 FEM  > 15 FEM  Total  \\\n",
       "29             0          3        0          0           0         1      5   \n",
       "18             1          1        0          0           2         2      6   \n",
       "15             0          2        0          1           3         1      7   \n",
       "307            2          1        0          1           1         1      7   \n",
       "294            1          0        0          0           0         0      1   \n",
       "278            0          1        0          2           0         1      4   \n",
       "1140           3          3        0          1           2         2     11   \n",
       "1149           1          2        0          0           2         1      6   \n",
       "1148           1          3        0          0           0         2      7   \n",
       "484            1          0        0          0           2         2      6   \n",
       "489            2          2        1          0           1         4     10   \n",
       "480            0          1        0          1           2         3      7   \n",
       "1779           3          1        0          0           5         6     17   \n",
       "1777           2          4        0          1           4         5     16   \n",
       "1772           2          4        0          2           2         2     13   \n",
       "225            3          2        0          0           5         8     20   \n",
       "235            2          3        0          0           1         5     12   \n",
       "208            2          2        0          1           1         2      9   \n",
       "1391           3          1        0          1           0         1      6   \n",
       "1393           1          2        1          1           2         5     12   \n",
       "1394           3          2        0          0           2         4     12   \n",
       "907            1          3        0          1           4         4     13   \n",
       "908            2          1        0          0           1         1      5   \n",
       "890            0          7        0          0           4         5     16   \n",
       "1021           1          3        0          0           1         2      8   \n",
       "1014           1          1        0          1           1         1      5   \n",
       "1020           1          2        0          1           0         2      6   \n",
       "1780           2          5        0          0           4         6     19   \n",
       "1795           0          7        0          0           0         3     10   \n",
       "1784           3          2        0          0           0         3      9   \n",
       "\n",
       "      < 1  menage sans < 1  weight  \n",
       "29      0             True     7.0  \n",
       "18      0             True     7.0  \n",
       "15      0             True     7.0  \n",
       "307     0             True    11.0  \n",
       "294     0             True    11.0  \n",
       "278     0             True    11.0  \n",
       "1140    0             True     4.0  \n",
       "1149    0             True     4.0  \n",
       "1148    0             True     4.0  \n",
       "484     1            False    10.0  \n",
       "489     1            False    10.0  \n",
       "480     0             True    10.0  \n",
       "1779    0             True     5.0  \n",
       "1777    0             True     5.0  \n",
       "1772    0             True     5.0  \n",
       "225     1            False     7.0  \n",
       "235     0             True     7.0  \n",
       "208     0             True     7.0  \n",
       "1391    0             True     4.0  \n",
       "1393    1            False     4.0  \n",
       "1394    0             True     4.0  \n",
       "907     0             True     9.0  \n",
       "908     0             True     9.0  \n",
       "890     0             True     9.0  \n",
       "1021    0             True     9.0  \n",
       "1014    0             True     9.0  \n",
       "1020    0             True     9.0  \n",
       "1780    0             True     5.0  \n",
       "1795    0             True     5.0  \n",
       "1784    0             True     5.0  "
      ]
     },
     "execution_count": 95,
     "metadata": {},
     "output_type": "execute_result"
    }
   ],
   "source": [
    "echantillon_en_grappe"
   ]
  },
  {
   "cell_type": "code",
   "execution_count": 96,
   "id": "74ab7e8f",
   "metadata": {},
   "outputs": [
    {
     "data": {
      "text/plain": [
       "(30, 15)"
      ]
     },
     "execution_count": 96,
     "metadata": {},
     "output_type": "execute_result"
    }
   ],
   "source": [
    "echantillon_en_grappe.shape"
   ]
  },
  {
   "cell_type": "markdown",
   "id": "d05fe505",
   "metadata": {},
   "source": [
    "# 6. Les métriques"
   ]
  },
  {
   "cell_type": "markdown",
   "id": "0bdb6685",
   "metadata": {},
   "source": [
    "   ## Calcul de 3 métriques au sein de la population ain\n",
    "- Taille moyenne des ménages\n",
    "- Proportion de ménages sans enfant de moins d'un an\n",
    "- Proportion des moins d'un an par rapport à la population totale"
   ]
  },
  {
   "cell_type": "markdown",
   "id": "2822100e",
   "metadata": {},
   "source": [
    "## 6.1 Taille moyenne des ménages"
   ]
  },
  {
   "cell_type": "markdown",
   "id": "8c52acbd",
   "metadata": {},
   "source": [
    "#### Au sein de la population"
   ]
  },
  {
   "cell_type": "code",
   "execution_count": 97,
   "id": "db98fba7",
   "metadata": {},
   "outputs": [
    {
     "data": {
      "text/plain": [
       "9.531282586027112"
      ]
     },
     "execution_count": 97,
     "metadata": {},
     "output_type": "execute_result"
    }
   ],
   "source": [
    "population.Total.mean()"
   ]
  },
  {
   "cell_type": "code",
   "execution_count": 98,
   "id": "83097d5f",
   "metadata": {},
   "outputs": [
    {
     "data": {
      "text/plain": [
       "LAWANAT\n",
       "AGOLLA         9.388278\n",
       "GUEMERE        8.041916\n",
       "GUIA           8.306452\n",
       "MERINGUE 1    10.609375\n",
       "MERINGUE 2     9.529412\n",
       "MERINGUE 3     7.302083\n",
       "WIDI          10.250564\n",
       "WIDIGUE       10.103641\n",
       "Name: Total, dtype: float64"
      ]
     },
     "execution_count": 98,
     "metadata": {},
     "output_type": "execute_result"
    }
   ],
   "source": [
    "population.groupby('LAWANAT')['Total'].mean()"
   ]
  },
  {
   "cell_type": "markdown",
   "id": "0f2af82e",
   "metadata": {},
   "source": [
    "#### Au sein des échantillons"
   ]
  },
  {
   "cell_type": "code",
   "execution_count": 99,
   "id": "ef5eb0b3",
   "metadata": {},
   "outputs": [
    {
     "data": {
      "text/plain": [
       "9.94"
      ]
     },
     "execution_count": 99,
     "metadata": {},
     "output_type": "execute_result"
    }
   ],
   "source": [
    "echantillon_aleatoire_simple.Total.mean()"
   ]
  },
  {
   "cell_type": "code",
   "execution_count": 100,
   "id": "75c0b13e",
   "metadata": {},
   "outputs": [
    {
     "data": {
      "text/plain": [
       "LAWANAT\n",
       "AGOLLA        10.019231\n",
       "GUEMERE        9.280000\n",
       "GUIA           7.833333\n",
       "MERINGUE 1    11.000000\n",
       "MERINGUE 2     9.823529\n",
       "MERINGUE 3     7.000000\n",
       "WIDI          11.109375\n",
       "WIDIGUE        9.507937\n",
       "Name: Total, dtype: float64"
      ]
     },
     "execution_count": 100,
     "metadata": {},
     "output_type": "execute_result"
    }
   ],
   "source": [
    "echantillon_aleatoire_simple.groupby('LAWANAT')['Total'].mean()"
   ]
  },
  {
   "cell_type": "code",
   "execution_count": 101,
   "id": "b96c55ed",
   "metadata": {},
   "outputs": [
    {
     "data": {
      "text/plain": [
       "9.240208877284596"
      ]
     },
     "execution_count": 101,
     "metadata": {},
     "output_type": "execute_result"
    }
   ],
   "source": [
    "echantillon_strat_prop.Total.mean()"
   ]
  },
  {
   "cell_type": "code",
   "execution_count": 102,
   "id": "57d2aa4e",
   "metadata": {},
   "outputs": [
    {
     "data": {
      "text/plain": [
       "LAWANAT\n",
       "AGOLLA         8.963636\n",
       "GUEMERE        6.878788\n",
       "GUIA           7.459459\n",
       "MERINGUE 1    12.078947\n",
       "MERINGUE 2     9.219512\n",
       "MERINGUE 3     7.947368\n",
       "WIDI           9.539326\n",
       "WIDIGUE        9.943662\n",
       "Name: Total, dtype: float64"
      ]
     },
     "execution_count": 102,
     "metadata": {},
     "output_type": "execute_result"
    }
   ],
   "source": [
    "echantillon_strat_prop.groupby('LAWANAT')['Total'].mean()"
   ]
  },
  {
   "cell_type": "code",
   "execution_count": 103,
   "id": "6a1608e5",
   "metadata": {},
   "outputs": [
    {
     "data": {
      "text/plain": [
       "9.01"
      ]
     },
     "execution_count": 103,
     "metadata": {},
     "output_type": "execute_result"
    }
   ],
   "source": [
    "echantillon_pondere.Total.mean()"
   ]
  },
  {
   "cell_type": "code",
   "execution_count": 104,
   "id": "fa8d1108",
   "metadata": {},
   "outputs": [
    {
     "data": {
      "text/plain": [
       "LAWANAT\n",
       "AGOLLA         9.282051\n",
       "GUEMERE        8.825000\n",
       "GUIA           7.000000\n",
       "MERINGUE 1    10.194444\n",
       "MERINGUE 2     8.948718\n",
       "MERINGUE 3     6.666667\n",
       "WIDI           9.976190\n",
       "WIDIGUE       10.214286\n",
       "Name: Total, dtype: float64"
      ]
     },
     "execution_count": 104,
     "metadata": {},
     "output_type": "execute_result"
    }
   ],
   "source": [
    "echantillon_pondere.groupby('LAWANAT')['Total'].mean()"
   ]
  },
  {
   "cell_type": "code",
   "execution_count": 105,
   "id": "56ab993f",
   "metadata": {},
   "outputs": [
    {
     "data": {
      "text/plain": [
       "9.5"
      ]
     },
     "execution_count": 105,
     "metadata": {},
     "output_type": "execute_result"
    }
   ],
   "source": [
    "echantillon_en_grappe.Total.mean()"
   ]
  },
  {
   "cell_type": "code",
   "execution_count": 106,
   "id": "8d3dc5dd",
   "metadata": {},
   "outputs": [
    {
     "data": {
      "text/plain": [
       "LAWANAT\n",
       "AGOLLA         9.833333\n",
       "GUEMERE        4.000000\n",
       "GUIA           7.666667\n",
       "MERINGUE 2     8.833333\n",
       "WIDI           9.000000\n",
       "WIDIGUE       14.000000\n",
       "Name: Total, dtype: float64"
      ]
     },
     "execution_count": 106,
     "metadata": {},
     "output_type": "execute_result"
    }
   ],
   "source": [
    "echantillon_en_grappe.groupby('LAWANAT')['Total'].mean()"
   ]
  },
  {
   "cell_type": "markdown",
   "id": "da1613fd",
   "metadata": {},
   "source": [
    "## 6.2 Proportion de ménages sans enfant de moins d'un an"
   ]
  },
  {
   "cell_type": "markdown",
   "id": "8215b91c",
   "metadata": {},
   "source": [
    "#### Au sein de la population (base de sondage)"
   ]
  },
  {
   "cell_type": "code",
   "execution_count": 107,
   "id": "64b09da2",
   "metadata": {},
   "outputs": [
    {
     "data": {
      "text/plain": [
       "0.7278415015641293"
      ]
     },
     "execution_count": 107,
     "metadata": {},
     "output_type": "execute_result"
    }
   ],
   "source": [
    "population['menage sans < 1'].mean()"
   ]
  },
  {
   "cell_type": "code",
   "execution_count": 108,
   "id": "effd8781",
   "metadata": {},
   "outputs": [
    {
     "data": {
      "text/plain": [
       "LAWANAT\n",
       "AGOLLA        0.750916\n",
       "GUEMERE       0.766467\n",
       "GUIA          0.758065\n",
       "MERINGUE 1    0.671875\n",
       "MERINGUE 2    0.735294\n",
       "MERINGUE 3    0.593750\n",
       "WIDI          0.690745\n",
       "WIDIGUE       0.784314\n",
       "Name: menage sans < 1, dtype: float64"
      ]
     },
     "execution_count": 108,
     "metadata": {},
     "output_type": "execute_result"
    }
   ],
   "source": [
    "population.groupby('LAWANAT')['menage sans < 1'].mean()"
   ]
  },
  {
   "cell_type": "markdown",
   "id": "fa2b2153",
   "metadata": {},
   "source": [
    "#### Au sein des différents échantillons"
   ]
  },
  {
   "cell_type": "code",
   "execution_count": 109,
   "id": "535ae1c4",
   "metadata": {},
   "outputs": [
    {
     "data": {
      "text/plain": [
       "0.7233333333333334"
      ]
     },
     "execution_count": 109,
     "metadata": {},
     "output_type": "execute_result"
    }
   ],
   "source": [
    "echantillon_aleatoire_simple['menage sans < 1'].mean()"
   ]
  },
  {
   "cell_type": "code",
   "execution_count": 110,
   "id": "12429b0f",
   "metadata": {},
   "outputs": [
    {
     "data": {
      "text/plain": [
       "LAWANAT\n",
       "AGOLLA        0.750000\n",
       "GUEMERE       0.640000\n",
       "GUIA          0.777778\n",
       "MERINGUE 1    0.705882\n",
       "MERINGUE 2    0.764706\n",
       "MERINGUE 3    0.600000\n",
       "WIDI          0.625000\n",
       "WIDIGUE       0.825397\n",
       "Name: menage sans < 1, dtype: float64"
      ]
     },
     "execution_count": 110,
     "metadata": {},
     "output_type": "execute_result"
    }
   ],
   "source": [
    "echantillon_aleatoire_simple.groupby('LAWANAT')['menage sans < 1'].mean()"
   ]
  },
  {
   "cell_type": "code",
   "execution_count": 111,
   "id": "9559dd9d",
   "metadata": {},
   "outputs": [
    {
     "data": {
      "text/plain": [
       "0.7569444444444444"
      ]
     },
     "execution_count": 111,
     "metadata": {},
     "output_type": "execute_result"
    }
   ],
   "source": [
    "echantillon_aleatoire_simple_2['menage sans < 1'].mean()"
   ]
  },
  {
   "cell_type": "code",
   "execution_count": 112,
   "id": "a1a5fc6c",
   "metadata": {},
   "outputs": [
    {
     "data": {
      "text/plain": [
       "LAWANAT\n",
       "AGOLLA        0.837209\n",
       "GUEMERE       0.766667\n",
       "GUIA          0.733333\n",
       "MERINGUE 1    0.653846\n",
       "MERINGUE 2    0.793103\n",
       "MERINGUE 3    0.571429\n",
       "WIDI          0.704918\n",
       "WIDIGUE       0.836364\n",
       "Name: menage sans < 1, dtype: float64"
      ]
     },
     "execution_count": 112,
     "metadata": {},
     "output_type": "execute_result"
    }
   ],
   "source": [
    "echantillon_aleatoire_simple_2.groupby('LAWANAT')['menage sans < 1'].mean()"
   ]
  },
  {
   "cell_type": "code",
   "execution_count": 113,
   "id": "d4820df7",
   "metadata": {},
   "outputs": [
    {
     "data": {
      "text/plain": [
       "0.73125"
      ]
     },
     "execution_count": 113,
     "metadata": {},
     "output_type": "execute_result"
    }
   ],
   "source": [
    "echantillon_systematique['menage sans < 1'].mean()"
   ]
  },
  {
   "cell_type": "code",
   "execution_count": 114,
   "id": "0c9ecd30",
   "metadata": {},
   "outputs": [
    {
     "data": {
      "text/plain": [
       "LAWANAT\n",
       "AGOLLA        0.739130\n",
       "GUEMERE       0.750000\n",
       "GUIA          0.709677\n",
       "MERINGUE 1    0.625000\n",
       "MERINGUE 2    0.705882\n",
       "MERINGUE 3    0.750000\n",
       "WIDI          0.702703\n",
       "WIDIGUE       0.830508\n",
       "Name: menage sans < 1, dtype: float64"
      ]
     },
     "execution_count": 114,
     "metadata": {},
     "output_type": "execute_result"
    }
   ],
   "source": [
    "echantillon_systematique.groupby('LAWANAT')['menage sans < 1'].mean()"
   ]
  },
  {
   "cell_type": "code",
   "execution_count": 115,
   "id": "c8f09823",
   "metadata": {},
   "outputs": [
    {
     "data": {
      "text/plain": [
       "0.734375"
      ]
     },
     "execution_count": 115,
     "metadata": {},
     "output_type": "execute_result"
    }
   ],
   "source": [
    "echantillon_systematique_2['menage sans < 1'].mean()"
   ]
  },
  {
   "cell_type": "code",
   "execution_count": 116,
   "id": "5bce4aac",
   "metadata": {},
   "outputs": [
    {
     "data": {
      "text/plain": [
       "LAWANAT\n",
       "AGOLLA        0.780488\n",
       "GUEMERE       0.857143\n",
       "GUIA          0.666667\n",
       "MERINGUE 1    0.725000\n",
       "MERINGUE 2    0.800000\n",
       "MERINGUE 3    0.684211\n",
       "WIDI          0.647887\n",
       "WIDIGUE       0.783333\n",
       "Name: menage sans < 1, dtype: float64"
      ]
     },
     "execution_count": 116,
     "metadata": {},
     "output_type": "execute_result"
    }
   ],
   "source": [
    "echantillon_systematique_2.groupby('LAWANAT')['menage sans < 1'].mean()"
   ]
  },
  {
   "cell_type": "code",
   "execution_count": 117,
   "id": "19a3a587",
   "metadata": {},
   "outputs": [
    {
     "data": {
      "text/plain": [
       "0.7310704960835509"
      ]
     },
     "execution_count": 117,
     "metadata": {},
     "output_type": "execute_result"
    }
   ],
   "source": [
    "echantillon_strat_prop['menage sans < 1'].mean()"
   ]
  },
  {
   "cell_type": "code",
   "execution_count": 118,
   "id": "0a736d64",
   "metadata": {},
   "outputs": [
    {
     "data": {
      "text/plain": [
       "LAWANAT\n",
       "AGOLLA        0.763636\n",
       "GUEMERE       0.848485\n",
       "GUIA          0.783784\n",
       "MERINGUE 1    0.500000\n",
       "MERINGUE 2    0.829268\n",
       "MERINGUE 3    0.526316\n",
       "WIDI          0.707865\n",
       "WIDIGUE       0.774648\n",
       "Name: menage sans < 1, dtype: float64"
      ]
     },
     "execution_count": 118,
     "metadata": {},
     "output_type": "execute_result"
    }
   ],
   "source": [
    "echantillon_strat_prop.groupby('LAWANAT')['menage sans < 1'].mean()"
   ]
  },
  {
   "cell_type": "code",
   "execution_count": 119,
   "id": "61066ff8",
   "metadata": {},
   "outputs": [
    {
     "data": {
      "text/plain": [
       "0.73125"
      ]
     },
     "execution_count": 119,
     "metadata": {},
     "output_type": "execute_result"
    }
   ],
   "source": [
    "echantillon_strat_eq_nb['menage sans < 1'].mean()"
   ]
  },
  {
   "cell_type": "code",
   "execution_count": 120,
   "id": "6c16144b",
   "metadata": {},
   "outputs": [
    {
     "data": {
      "text/plain": [
       "LAWANAT\n",
       "AGOLLA        0.75\n",
       "GUEMERE       0.70\n",
       "GUIA          0.70\n",
       "MERINGUE 1    0.80\n",
       "MERINGUE 2    0.75\n",
       "MERINGUE 3    0.75\n",
       "WIDI          0.55\n",
       "WIDIGUE       0.85\n",
       "Name: menage sans < 1, dtype: float64"
      ]
     },
     "execution_count": 120,
     "metadata": {},
     "output_type": "execute_result"
    }
   ],
   "source": [
    "echantillon_strat_eq_nb.groupby('LAWANAT')['menage sans < 1'].mean()"
   ]
  },
  {
   "cell_type": "code",
   "execution_count": 121,
   "id": "0f5eb60c",
   "metadata": {},
   "outputs": [
    {
     "data": {
      "text/plain": [
       "0.7366666666666667"
      ]
     },
     "execution_count": 121,
     "metadata": {},
     "output_type": "execute_result"
    }
   ],
   "source": [
    "echantillon_pondere['menage sans < 1'].mean()"
   ]
  },
  {
   "cell_type": "code",
   "execution_count": 122,
   "id": "2340f436",
   "metadata": {},
   "outputs": [
    {
     "data": {
      "text/plain": [
       "LAWANAT\n",
       "AGOLLA        0.641026\n",
       "GUEMERE       0.775000\n",
       "GUIA          0.781250\n",
       "MERINGUE 1    0.694444\n",
       "MERINGUE 2    0.871795\n",
       "MERINGUE 3    0.666667\n",
       "WIDI          0.690476\n",
       "WIDIGUE       0.761905\n",
       "Name: menage sans < 1, dtype: float64"
      ]
     },
     "execution_count": 122,
     "metadata": {},
     "output_type": "execute_result"
    }
   ],
   "source": [
    "echantillon_pondere.groupby('LAWANAT')['menage sans < 1'].mean()"
   ]
  },
  {
   "cell_type": "code",
   "execution_count": 123,
   "id": "4f56b065",
   "metadata": {},
   "outputs": [
    {
     "data": {
      "text/plain": [
       "0.8666666666666667"
      ]
     },
     "execution_count": 123,
     "metadata": {},
     "output_type": "execute_result"
    }
   ],
   "source": [
    "echantillon_en_grappe['menage sans < 1'].mean()"
   ]
  },
  {
   "cell_type": "code",
   "execution_count": 124,
   "id": "1ae6bbd4",
   "metadata": {},
   "outputs": [
    {
     "data": {
      "text/plain": [
       "LAWANAT\n",
       "AGOLLA        0.833333\n",
       "GUEMERE       1.000000\n",
       "GUIA          0.333333\n",
       "MERINGUE 2    1.000000\n",
       "WIDI          0.833333\n",
       "WIDIGUE       1.000000\n",
       "Name: menage sans < 1, dtype: float64"
      ]
     },
     "execution_count": 124,
     "metadata": {},
     "output_type": "execute_result"
    }
   ],
   "source": [
    "echantillon_en_grappe.groupby('LAWANAT')['menage sans < 1'].mean()"
   ]
  },
  {
   "cell_type": "markdown",
   "id": "27fb9c1a",
   "metadata": {},
   "source": [
    "## 6.3 Proportion des moins d'un an par rapport à la population totale"
   ]
  },
  {
   "cell_type": "markdown",
   "id": "e983cc09",
   "metadata": {},
   "source": [
    "#### Au sein de la population"
   ]
  },
  {
   "cell_type": "code",
   "execution_count": 125,
   "id": "25b1d6cc",
   "metadata": {},
   "outputs": [
    {
     "data": {
      "text/plain": [
       "3.54"
      ]
     },
     "execution_count": 125,
     "metadata": {},
     "output_type": "execute_result"
    }
   ],
   "source": [
    "round(population['< 1'].sum()/population['Total'].sum()*100,2)"
   ]
  },
  {
   "cell_type": "code",
   "execution_count": 126,
   "id": "0a342fe1",
   "metadata": {},
   "outputs": [
    {
     "data": {
      "text/plain": [
       "LAWANAT\n",
       "AGOLLA        3.00\n",
       "GUEMERE       3.65\n",
       "GUIA          3.43\n",
       "MERINGUE 1    3.53\n",
       "MERINGUE 2    3.45\n",
       "MERINGUE 3    8.42\n",
       "WIDI          3.83\n",
       "WIDIGUE       2.66\n",
       "dtype: float64"
      ]
     },
     "execution_count": 126,
     "metadata": {},
     "output_type": "execute_result"
    }
   ],
   "source": [
    "round(population.groupby('LAWANAT')['< 1'].sum()/population.groupby('LAWANAT')['Total'].sum()*100,2)"
   ]
  },
  {
   "cell_type": "markdown",
   "id": "42fcb2f6",
   "metadata": {},
   "source": [
    "#### Au sein des échantillons"
   ]
  },
  {
   "cell_type": "code",
   "execution_count": 127,
   "id": "601d702b",
   "metadata": {},
   "outputs": [
    {
     "data": {
      "text/plain": [
       "3.25"
      ]
     },
     "execution_count": 127,
     "metadata": {},
     "output_type": "execute_result"
    }
   ],
   "source": [
    "round(echantillon_aleatoire_simple['< 1'].sum()/echantillon_aleatoire_simple['Total'].sum()*100,2)"
   ]
  },
  {
   "cell_type": "code",
   "execution_count": 128,
   "id": "4e64c1df",
   "metadata": {},
   "outputs": [
    {
     "data": {
      "text/plain": [
       "LAWANAT\n",
       "AGOLLA         2.69\n",
       "GUEMERE        4.31\n",
       "GUIA           2.84\n",
       "MERINGUE 1     3.48\n",
       "MERINGUE 2     2.40\n",
       "MERINGUE 3    12.86\n",
       "WIDI           3.94\n",
       "WIDIGUE        1.84\n",
       "dtype: float64"
      ]
     },
     "execution_count": 128,
     "metadata": {},
     "output_type": "execute_result"
    }
   ],
   "source": [
    "round(echantillon_aleatoire_simple.groupby('LAWANAT')['< 1'].sum()/echantillon_aleatoire_simple.groupby('LAWANAT')['Total'].sum()*100,2)"
   ]
  },
  {
   "cell_type": "code",
   "execution_count": 129,
   "id": "e1081a8e",
   "metadata": {},
   "outputs": [
    {
     "data": {
      "text/plain": [
       "3.62"
      ]
     },
     "execution_count": 129,
     "metadata": {},
     "output_type": "execute_result"
    }
   ],
   "source": [
    "round(echantillon_strat_prop['< 1'].sum()/echantillon_strat_prop['Total'].sum()*100,2)"
   ]
  },
  {
   "cell_type": "code",
   "execution_count": 130,
   "id": "cbd0e4f0",
   "metadata": {},
   "outputs": [
    {
     "data": {
      "text/plain": [
       "LAWANAT\n",
       "AGOLLA         3.25\n",
       "GUEMERE        3.52\n",
       "GUIA           2.90\n",
       "MERINGUE 1     4.58\n",
       "MERINGUE 2     2.12\n",
       "MERINGUE 3    12.58\n",
       "WIDI           3.18\n",
       "WIDIGUE        2.97\n",
       "dtype: float64"
      ]
     },
     "execution_count": 130,
     "metadata": {},
     "output_type": "execute_result"
    }
   ],
   "source": [
    "round(echantillon_strat_prop.groupby('LAWANAT')['< 1'].sum()/echantillon_strat_prop.groupby('LAWANAT')['Total'].sum()*100,2)"
   ]
  },
  {
   "cell_type": "markdown",
   "id": "39d8e7b5",
   "metadata": {},
   "source": [
    "####  On note des valeurs très différentes dans le lawanat de MERINGUE 3 pour le pourcentage des moins d'un an dans la population. Fluctuation d'échantillonnage ou valeurs aberrantes dans les données du lawanat de MERINGUE 3"
   ]
  },
  {
   "cell_type": "markdown",
   "id": "4d21bb94",
   "metadata": {},
   "source": [
    "### Génération des échantillons sous forme de fichier excel."
   ]
  },
  {
   "cell_type": "code",
   "execution_count": 131,
   "id": "e792cd06",
   "metadata": {},
   "outputs": [],
   "source": [
    "echantillon_aleatoire_simple.to_excel('echantillon/echantillon_aleatoire_simple.xlsx')"
   ]
  },
  {
   "cell_type": "code",
   "execution_count": 132,
   "id": "b382f423",
   "metadata": {},
   "outputs": [],
   "source": [
    "echantillon_aleatoire_simple_2.to_excel('echantillon/echantillon_aleatoire_simple_2.xlsx')"
   ]
  },
  {
   "cell_type": "code",
   "execution_count": 133,
   "id": "17787d82",
   "metadata": {},
   "outputs": [],
   "source": [
    "echantillon_systematique.to_excel('echantillon/echantillon_systematique.xlsx')"
   ]
  },
  {
   "cell_type": "code",
   "execution_count": 134,
   "id": "6058512e",
   "metadata": {},
   "outputs": [],
   "source": [
    "echantillon_systematique_2.to_excel('echantillon/echantillon_systematique_2.xlsx')"
   ]
  },
  {
   "cell_type": "code",
   "execution_count": 135,
   "id": "87e8069e",
   "metadata": {},
   "outputs": [],
   "source": [
    "echantillon_strat_prop.to_excel('echantillon/echantillon_strat_prob.xlsx')"
   ]
  },
  {
   "cell_type": "code",
   "execution_count": 136,
   "id": "6e630c63",
   "metadata": {},
   "outputs": [],
   "source": [
    "echantillon_strat_eq_nb.to_excel('echantillon/echantillon_strat_eq_nb.xlsx')"
   ]
  },
  {
   "cell_type": "code",
   "execution_count": 137,
   "id": "55af653b",
   "metadata": {},
   "outputs": [],
   "source": [
    "echantillon_pondere.to_excel('echantillon/echantillon_pondere.xlsx')"
   ]
  },
  {
   "cell_type": "code",
   "execution_count": 138,
   "id": "1512db99",
   "metadata": {},
   "outputs": [],
   "source": [
    "echantillon_en_grappe.to_excel('echantillon/echantillon_en_grappe.xlsx')"
   ]
  },
  {
   "cell_type": "markdown",
   "id": "21ce1226-f300-4489-8b66-45f6333de67d",
   "metadata": {},
   "source": [
    "# Conclusion"
   ]
  },
  {
   "cell_type": "markdown",
   "id": "f855f99c-dd33-4718-807a-86fbe7bd75d9",
   "metadata": {},
   "source": [
    "Les enquêtes de couverture au niveau des districts de santé sont possibles à condition de disposer d'une base de sondage. Elles sont une alternative aux données administratives. Cet article nous montre que les différents types d'échantillonnages sont faisables et surtout pertinentes."
   ]
  },
  {
   "cell_type": "code",
   "execution_count": null,
   "id": "83bbae77-b6b8-44e9-9f2a-ab5e21e0e8be",
   "metadata": {},
   "outputs": [],
   "source": []
  }
 ],
 "metadata": {
  "kernelspec": {
   "display_name": "Python 3 (ipykernel)",
   "language": "python",
   "name": "python3"
  },
  "language_info": {
   "codemirror_mode": {
    "name": "ipython",
    "version": 3
   },
   "file_extension": ".py",
   "mimetype": "text/x-python",
   "name": "python",
   "nbconvert_exporter": "python",
   "pygments_lexer": "ipython3",
   "version": "3.9.12"
  }
 },
 "nbformat": 4,
 "nbformat_minor": 5
}
